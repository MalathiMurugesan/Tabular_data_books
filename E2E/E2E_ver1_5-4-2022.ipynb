{
 "cells": [
  {
   "cell_type": "code",
   "execution_count": 1,
   "id": "021cf896",
   "metadata": {},
   "outputs": [
    {
     "name": "stdout",
     "output_type": "stream",
     "text": [
      "libraries are found\n"
     ]
    }
   ],
   "source": [
    "try:\n",
    "    import pandas as pd\n",
    "    from sklearn.preprocessing import LabelEncoder\n",
    "    from sklearn.model_selection import train_test_split\n",
    "    import datetime as dt\n",
    "    pd.set_option('display.max_columns',None)\n",
    "    print('libraries are found')\n",
    "except:\n",
    "    print('Some libraries need to be installed')"
   ]
  },
  {
   "cell_type": "code",
   "execution_count": 2,
   "id": "0f6a1ed5",
   "metadata": {},
   "outputs": [
    {
     "ename": "FileNotFoundError",
     "evalue": "File /workspace/luca/Tabular/e2e/data/data_2022-05-14_10-07-26_AM.h5 does not exist",
     "output_type": "error",
     "traceback": [
      "\u001b[0;31m---------------------------------------------------------------------------\u001b[0m",
      "\u001b[0;31mFileNotFoundError\u001b[0m                         Traceback (most recent call last)",
      "\u001b[0;32m/tmp/ipykernel_59623/668498024.py\u001b[0m in \u001b[0;36m<module>\u001b[0;34m\u001b[0m\n\u001b[1;32m      4\u001b[0m \u001b[0;34m\u001b[0m\u001b[0m\n\u001b[1;32m      5\u001b[0m \u001b[0mfile\u001b[0m \u001b[0;34m=\u001b[0m \u001b[0;34m'/workspace/luca/Tabular/e2e/data/data_2022-05-14_10-07-26_AM.h5'\u001b[0m\u001b[0;34m\u001b[0m\u001b[0;34m\u001b[0m\u001b[0m\n\u001b[0;32m----> 6\u001b[0;31m \u001b[0mdf\u001b[0m \u001b[0;34m=\u001b[0m \u001b[0mpd\u001b[0m\u001b[0;34m.\u001b[0m\u001b[0mread_hdf\u001b[0m\u001b[0;34m(\u001b[0m\u001b[0mfile\u001b[0m\u001b[0;34m,\u001b[0m \u001b[0mkey\u001b[0m\u001b[0;34m=\u001b[0m\u001b[0;34m'data'\u001b[0m\u001b[0;34m)\u001b[0m\u001b[0;34m\u001b[0m\u001b[0;34m\u001b[0m\u001b[0m\n\u001b[0m",
      "\u001b[0;32m/usr/local/lib/python3.8/dist-packages/pandas/io/pytables.py\u001b[0m in \u001b[0;36mread_hdf\u001b[0;34m(path_or_buf, key, mode, errors, where, start, stop, columns, iterator, chunksize, **kwargs)\u001b[0m\n\u001b[1;32m    425\u001b[0m \u001b[0;34m\u001b[0m\u001b[0m\n\u001b[1;32m    426\u001b[0m         \u001b[0;32mif\u001b[0m \u001b[0;32mnot\u001b[0m \u001b[0mexists\u001b[0m\u001b[0;34m:\u001b[0m\u001b[0;34m\u001b[0m\u001b[0;34m\u001b[0m\u001b[0m\n\u001b[0;32m--> 427\u001b[0;31m             \u001b[0;32mraise\u001b[0m \u001b[0mFileNotFoundError\u001b[0m\u001b[0;34m(\u001b[0m\u001b[0;34mf\"File {path_or_buf} does not exist\"\u001b[0m\u001b[0;34m)\u001b[0m\u001b[0;34m\u001b[0m\u001b[0;34m\u001b[0m\u001b[0m\n\u001b[0m\u001b[1;32m    428\u001b[0m \u001b[0;34m\u001b[0m\u001b[0m\n\u001b[1;32m    429\u001b[0m         \u001b[0mstore\u001b[0m \u001b[0;34m=\u001b[0m \u001b[0mHDFStore\u001b[0m\u001b[0;34m(\u001b[0m\u001b[0mpath_or_buf\u001b[0m\u001b[0;34m,\u001b[0m \u001b[0mmode\u001b[0m\u001b[0;34m=\u001b[0m\u001b[0mmode\u001b[0m\u001b[0;34m,\u001b[0m \u001b[0merrors\u001b[0m\u001b[0;34m=\u001b[0m\u001b[0merrors\u001b[0m\u001b[0;34m,\u001b[0m \u001b[0;34m**\u001b[0m\u001b[0mkwargs\u001b[0m\u001b[0;34m)\u001b[0m\u001b[0;34m\u001b[0m\u001b[0;34m\u001b[0m\u001b[0m\n",
      "\u001b[0;31mFileNotFoundError\u001b[0m: File /workspace/luca/Tabular/e2e/data/data_2022-05-14_10-07-26_AM.h5 does not exist"
     ]
    }
   ],
   "source": [
    "import pandas as pd\n",
    "# file1 = '../data/train/data_2022-03-29_01-26-13_PM.h5'\n",
    "# file2 = '../data/train/data_2022-05-14_10-07-26_AM.h5'\n",
    "\n",
    "file = '/workspace/luca/Tabular/e2e/data/data_2022-05-14_10-07-26_AM.h5'\n",
    "df = pd.read_hdf(file, key='data')"
   ]
  },
  {
   "cell_type": "code",
   "execution_count": null,
   "id": "70adb968",
   "metadata": {},
   "outputs": [],
   "source": [
    "df.shape"
   ]
  },
  {
   "cell_type": "code",
   "execution_count": null,
   "id": "94325899",
   "metadata": {},
   "outputs": [],
   "source": [
    "## remove columns which contain more than 50% of null values\n",
    "def treat_null_values(df):\n",
    "    \n",
    "    df = df.dropna(thresh=df.shape[0]*0.5, how='all',axis=1) # -3\n",
    "    df = df.dropna(axis=0,subset=['RECEIPT_DATE','BOOKED_DATE'])\n",
    "    df = df[df['RECEIPT_DATE']>df['BOOKED_DATE']] # false\n",
    "       \n",
    "    return df\n",
    "\n",
    "df = treat_null_values(df)\n",
    "df.shape"
   ]
  },
  {
   "cell_type": "code",
   "execution_count": null,
   "id": "93e596b8",
   "metadata": {},
   "outputs": [],
   "source": [
    "df = df.set_index('PO_STRING',drop=True)"
   ]
  },
  {
   "cell_type": "code",
   "execution_count": null,
   "id": "56817f96",
   "metadata": {},
   "outputs": [],
   "source": [
    "# optional function\n",
    "#  This funtion is to analyse the different types of columns # optional\n",
    "def analyze_data_types(df):\n",
    "    date_columns_df = df.select_dtypes(include=['datetime64'])\n",
    "    object_columns_df = df.select_dtypes(include=['object'])\n",
    "    numerics= [ 'int64','float64']\n",
    "    numeric_columns_df = df.select_dtypes(include = numerics)\n",
    "    \n",
    "    return date_columns_df, object_columns_df,numeric_columns_df\n",
    "\n",
    "date_df, objects_df,numeric_df=analyze_data_types(df)"
   ]
  },
  {
   "cell_type": "code",
   "execution_count": null,
   "id": "64650bfd",
   "metadata": {},
   "outputs": [],
   "source": [
    "#df.info()"
   ]
  },
  {
   "cell_type": "code",
   "execution_count": null,
   "id": "8da48ed2",
   "metadata": {},
   "outputs": [],
   "source": [
    "def drop_features(df,cols_to_drop):\n",
    "    df['diff_SO_LINE_FIRST_SO_LINE_LAST'] = df['SO_LINE_LAST'] - df['SO_LINE_FIRST']\n",
    "\n",
    "    df.drop(cols_to_drop,axis=1,inplace=True)\n",
    "    \n",
    "    return df\n",
    "\n"
   ]
  },
  {
   "cell_type": "code",
   "execution_count": null,
   "id": "2dbbab69",
   "metadata": {},
   "outputs": [],
   "source": [
    "columns_to_remove = ['ORG_ID','ATTRIBUTE_NUMBER1','ATTRIBUTE_NUMBER2','ATTRIBUTE_NUMBER6','ATTRIBUTE_NUMBER7','ATTRIBUTE_NUMBER8',\n",
    "                    'UNIT_PRICE_USD','SO_LINE_FIRST','SO_LINE_LAST']\n",
    "\n",
    "#objects_columns can be removed except 'TRANSPORTATION_LEAD_TIME'\n",
    "\n",
    "objects_df_cols=list(objects_df.columns)\n",
    "objects_df_cols.remove('TRANSPORTATION_LEAD_TIME')\n",
    "cols_to_remove = columns_to_remove + objects_df_cols"
   ]
  },
  {
   "cell_type": "code",
   "execution_count": null,
   "id": "8dcb45d8",
   "metadata": {},
   "outputs": [],
   "source": [
    "len(cols_to_remove)"
   ]
  },
  {
   "cell_type": "code",
   "execution_count": null,
   "id": "7bb3b678",
   "metadata": {},
   "outputs": [],
   "source": [
    "df = drop_features(df,cols_to_remove)"
   ]
  },
  {
   "cell_type": "code",
   "execution_count": null,
   "id": "6aec0491",
   "metadata": {},
   "outputs": [],
   "source": [
    "df.shape"
   ]
  },
  {
   "cell_type": "code",
   "execution_count": null,
   "id": "ae02e822",
   "metadata": {},
   "outputs": [],
   "source": [
    "df.info()"
   ]
  },
  {
   "cell_type": "code",
   "execution_count": null,
   "id": "ec5740bd",
   "metadata": {},
   "outputs": [],
   "source": [
    "df=df.dropna()"
   ]
  },
  {
   "cell_type": "code",
   "execution_count": null,
   "id": "c50854d6",
   "metadata": {},
   "outputs": [],
   "source": [
    "df.shape"
   ]
  },
  {
   "cell_type": "code",
   "execution_count": null,
   "id": "17222abf",
   "metadata": {},
   "outputs": [],
   "source": []
  },
  {
   "cell_type": "code",
   "execution_count": null,
   "id": "46618929",
   "metadata": {},
   "outputs": [],
   "source": [
    "# function to re-engineer the dates\n",
    "def difference_dates(df,col1,col2):\n",
    "            \n",
    "    df['diff_'+col1+col2]=(df[col1]-df[col2]).dt.days\n",
    "    df.drop([col1,col2],axis=1,inplace = True)\n",
    "    \n",
    "    return df\n",
    "# call function on the required features    \n",
    "df = difference_dates(df,'RTS_','RTS_FINAL')\n",
    "df = difference_dates(df,'SO_CWD','SO_CREATION_DATE')\n",
    "df = difference_dates(df,'EOQ_CONTR','EOQ_REQUEST')\n",
    "df = difference_dates(df,'CONTRACTUAL_DATE','FULFILLMENT_CONTRACTUAL_DATE')\n",
    "#df = difference_dates(df,'PO_FIRST_APPROVED_DATE','POR_APPROVED_DATE')\n",
    "df = difference_dates(df,'RECEIPT_DATE','BOOKED_DATE') \n",
    "df = difference_dates(df,'PROMISED_DATE_LAST','PROMISED_DATE_FIRST')\n",
    "\n",
    "\n",
    "# since most of the rows are same as NEED_BY_DATE','NEED_DATE_FIRST', 'NEED_DATE_LAST'\n",
    "# 'NEED_BY_DATE' has same values as 'SUP_PO_NEED_BY_DATE'\n",
    "# instead of these 3 features only one feature can be used and name it 'NEED_DATE_'\n",
    "# 'DATE_WHEN_NEED_REV'\n",
    "df['NEED_DATE_'] = df['NEED_BY_DATE']\n",
    "df.drop(['NEED_DATE_FIRST', 'NEED_DATE_LAST','SUP_PO_NEED_BY_DATE','DATE_WHEN_NEED_REV',\n",
    "         'NEED_BY_DATE'],axis=1,inplace=True)\n",
    "\n",
    "\n",
    "\n",
    "# both SCHEDULE_SHIP_DATE and 'LINE_REQUEST_DATE' are greater than NEED_DATE so take the diff\n",
    "df['diff_SCHEDULE_SHIP_DATE_NEED_DATE_'] = (df['SCHEDULE_SHIP_DATE']-df['NEED_DATE_']).dt.days\n",
    "df['diff_LINE_REQUEST_DATE_NEED_DATE_'] = (df['LINE_REQUEST_DATE']-df['NEED_DATE_']).dt.days\n",
    "\n",
    "df.drop(['LINE_REQUEST_DATE','SCHEDULE_SHIP_DATE','PO_FIRST_APPROVED_DATE'],axis=1,inplace=True)\n"
   ]
  },
  {
   "cell_type": "code",
   "execution_count": null,
   "id": "b08de175",
   "metadata": {},
   "outputs": [],
   "source": [
    "df.info()"
   ]
  },
  {
   "cell_type": "code",
   "execution_count": null,
   "id": "d4b57ff4",
   "metadata": {},
   "outputs": [],
   "source": []
  }
 ],
 "metadata": {
  "kernelspec": {
   "display_name": "Python 3 (ipykernel)",
   "language": "python",
   "name": "python3"
  },
  "language_info": {
   "codemirror_mode": {
    "name": "ipython",
    "version": 3
   },
   "file_extension": ".py",
   "mimetype": "text/x-python",
   "name": "python",
   "nbconvert_exporter": "python",
   "pygments_lexer": "ipython3",
   "version": "3.8.10"
  },
  "varInspector": {
   "cols": {
    "lenName": 16,
    "lenType": 16,
    "lenVar": 40
   },
   "kernels_config": {
    "python": {
     "delete_cmd_postfix": "",
     "delete_cmd_prefix": "del ",
     "library": "var_list.py",
     "varRefreshCmd": "print(var_dic_list())"
    },
    "r": {
     "delete_cmd_postfix": ") ",
     "delete_cmd_prefix": "rm(",
     "library": "var_list.r",
     "varRefreshCmd": "cat(var_dic_list()) "
    }
   },
   "types_to_exclude": [
    "module",
    "function",
    "builtin_function_or_method",
    "instance",
    "_Feature"
   ],
   "window_display": false
  }
 },
 "nbformat": 4,
 "nbformat_minor": 5
}
