{
 "cells": [
  {
   "cell_type": "code",
   "execution_count": 1,
   "id": "5136bed2",
   "metadata": {},
   "outputs": [],
   "source": [
    "import pandas as pd\n",
    "import numpy as np\n",
    "import re\n",
    "import matplotlib.pyplot as plt\n",
    "\n",
    "from sklearn import metrics\n",
    "from sklearn.model_selection import train_test_split\n",
    "from sklearn.metrics import r2_score,mean_squared_error\n",
    "import math\n",
    "import time\n",
    "\n",
    "import warnings\n",
    "warnings.filterwarnings('ignore')"
   ]
  },
  {
   "cell_type": "code",
   "execution_count": 2,
   "id": "b16d0748",
   "metadata": {},
   "outputs": [],
   "source": [
    "# xls = pd.ExcelFile(r'/data/MGP/TestPoints_20220203_ResFeasible.xlsx')\n",
    "# df=pd.read_excel(xls,'ResFeasible',header=1).dropna(how='all', axis=1)\n",
    "# df.drop('#',axis=1,inplace=True)\n",
    "#pd.to_pickle('../../DataL_Full.pkl')                  \n",
    "df=pd.read_pickle('DataL2_Full.pkl')"
   ]
  },
  {
   "cell_type": "code",
   "execution_count": 3,
   "id": "05a011e4",
   "metadata": {},
   "outputs": [
    {
     "name": "stdout",
     "output_type": "stream",
     "text": [
      "(63116, 36)\n"
     ]
    },
    {
     "data": {
      "text/html": [
       "<div>\n",
       "<style scoped>\n",
       "    .dataframe tbody tr th:only-of-type {\n",
       "        vertical-align: middle;\n",
       "    }\n",
       "\n",
       "    .dataframe tbody tr th {\n",
       "        vertical-align: top;\n",
       "    }\n",
       "\n",
       "    .dataframe thead th {\n",
       "        text-align: right;\n",
       "    }\n",
       "</style>\n",
       "<table border=\"1\" class=\"dataframe\">\n",
       "  <thead>\n",
       "    <tr style=\"text-align: right;\">\n",
       "      <th></th>\n",
       "      <th>Liquid density [kg/m3]</th>\n",
       "      <th>Liquid \\nviscosity\\n [Pa.s]</th>\n",
       "      <th>Gas molar mass \\n[g/mol]</th>\n",
       "      <th>Gas inlet compressibility\\n</th>\n",
       "      <th>Hub radius [m]</th>\n",
       "      <th>Tip radius [m]</th>\n",
       "      <th>Stage 1 [y=1/n=0]</th>\n",
       "      <th>Tin [K]</th>\n",
       "      <th>Pin [kPa]</th>\n",
       "      <th>GVFin</th>\n",
       "      <th>...</th>\n",
       "      <th>Power [kW]</th>\n",
       "      <th>Hp [kJ/kg]</th>\n",
       "      <th>Axial Power losses [kW]</th>\n",
       "      <th>Side wall windage loss [kW]</th>\n",
       "      <th>Rotor-diffuser windage [kW]</th>\n",
       "      <th>total mechanincal loss [kW]</th>\n",
       "      <th>Surge Distance</th>\n",
       "      <th>Total Consumed power</th>\n",
       "      <th>Differential Pressure [kPa]</th>\n",
       "      <th>Original Order</th>\n",
       "    </tr>\n",
       "  </thead>\n",
       "  <tbody>\n",
       "    <tr>\n",
       "      <th>0</th>\n",
       "      <td>989.321765</td>\n",
       "      <td>0.000558</td>\n",
       "      <td>16.042999</td>\n",
       "      <td>0.974302</td>\n",
       "      <td>0.14</td>\n",
       "      <td>0.16</td>\n",
       "      <td>1</td>\n",
       "      <td>322.017877</td>\n",
       "      <td>1867.320507</td>\n",
       "      <td>44.657495</td>\n",
       "      <td>...</td>\n",
       "      <td>181.948011</td>\n",
       "      <td>1.546615</td>\n",
       "      <td>35.354530</td>\n",
       "      <td>9.874548</td>\n",
       "      <td>8.865901</td>\n",
       "      <td>106.246540</td>\n",
       "      <td>3.706551</td>\n",
       "      <td>288.194551</td>\n",
       "      <td>720.180947</td>\n",
       "      <td>1</td>\n",
       "    </tr>\n",
       "    <tr>\n",
       "      <th>1</th>\n",
       "      <td>997.303292</td>\n",
       "      <td>0.000839</td>\n",
       "      <td>16.042999</td>\n",
       "      <td>0.960245</td>\n",
       "      <td>0.14</td>\n",
       "      <td>0.16</td>\n",
       "      <td>1</td>\n",
       "      <td>300.789449</td>\n",
       "      <td>2261.871734</td>\n",
       "      <td>22.560723</td>\n",
       "      <td>...</td>\n",
       "      <td>30.309235</td>\n",
       "      <td>0.342669</td>\n",
       "      <td>17.295614</td>\n",
       "      <td>1.715483</td>\n",
       "      <td>1.760581</td>\n",
       "      <td>31.339485</td>\n",
       "      <td>6.251218</td>\n",
       "      <td>61.648720</td>\n",
       "      <td>215.473689</td>\n",
       "      <td>2</td>\n",
       "    </tr>\n",
       "    <tr>\n",
       "      <th>2</th>\n",
       "      <td>992.909998</td>\n",
       "      <td>0.000611</td>\n",
       "      <td>16.042999</td>\n",
       "      <td>0.930369</td>\n",
       "      <td>0.14</td>\n",
       "      <td>0.16</td>\n",
       "      <td>1</td>\n",
       "      <td>316.852547</td>\n",
       "      <td>5056.459294</td>\n",
       "      <td>45.132048</td>\n",
       "      <td>...</td>\n",
       "      <td>43.115798</td>\n",
       "      <td>0.486147</td>\n",
       "      <td>22.269798</td>\n",
       "      <td>2.546709</td>\n",
       "      <td>2.444449</td>\n",
       "      <td>42.149602</td>\n",
       "      <td>24.190271</td>\n",
       "      <td>85.265400</td>\n",
       "      <td>212.282906</td>\n",
       "      <td>4</td>\n",
       "    </tr>\n",
       "    <tr>\n",
       "      <th>3</th>\n",
       "      <td>979.249421</td>\n",
       "      <td>0.000400</td>\n",
       "      <td>16.042999</td>\n",
       "      <td>0.953943</td>\n",
       "      <td>0.14</td>\n",
       "      <td>0.16</td>\n",
       "      <td>1</td>\n",
       "      <td>344.056608</td>\n",
       "      <td>4641.124807</td>\n",
       "      <td>48.896181</td>\n",
       "      <td>...</td>\n",
       "      <td>52.223397</td>\n",
       "      <td>0.446883</td>\n",
       "      <td>29.328158</td>\n",
       "      <td>5.142692</td>\n",
       "      <td>4.538543</td>\n",
       "      <td>66.518872</td>\n",
       "      <td>58.504924</td>\n",
       "      <td>118.742269</td>\n",
       "      <td>177.964122</td>\n",
       "      <td>5</td>\n",
       "    </tr>\n",
       "    <tr>\n",
       "      <th>4</th>\n",
       "      <td>991.458984</td>\n",
       "      <td>0.000593</td>\n",
       "      <td>16.042999</td>\n",
       "      <td>0.954341</td>\n",
       "      <td>0.14</td>\n",
       "      <td>0.16</td>\n",
       "      <td>1</td>\n",
       "      <td>318.474477</td>\n",
       "      <td>3259.999596</td>\n",
       "      <td>39.688098</td>\n",
       "      <td>...</td>\n",
       "      <td>191.361153</td>\n",
       "      <td>1.508498</td>\n",
       "      <td>34.631867</td>\n",
       "      <td>10.224433</td>\n",
       "      <td>9.264067</td>\n",
       "      <td>108.307609</td>\n",
       "      <td>2.866052</td>\n",
       "      <td>299.668761</td>\n",
       "      <td>748.119063</td>\n",
       "      <td>7</td>\n",
       "    </tr>\n",
       "  </tbody>\n",
       "</table>\n",
       "<p>5 rows × 36 columns</p>\n",
       "</div>"
      ],
      "text/plain": [
       "   Liquid density [kg/m3]  Liquid \\nviscosity\\n [Pa.s]  \\\n",
       "0              989.321765                     0.000558   \n",
       "1              997.303292                     0.000839   \n",
       "2              992.909998                     0.000611   \n",
       "3              979.249421                     0.000400   \n",
       "4              991.458984                     0.000593   \n",
       "\n",
       "   Gas molar mass \\n[g/mol]  Gas inlet compressibility\\n  Hub radius [m]  \\\n",
       "0                 16.042999                     0.974302            0.14   \n",
       "1                 16.042999                     0.960245            0.14   \n",
       "2                 16.042999                     0.930369            0.14   \n",
       "3                 16.042999                     0.953943            0.14   \n",
       "4                 16.042999                     0.954341            0.14   \n",
       "\n",
       "   Tip radius [m]  Stage 1 [y=1/n=0]     Tin [K]    Pin [kPa]      GVFin  ...  \\\n",
       "0            0.16                  1  322.017877  1867.320507  44.657495  ...   \n",
       "1            0.16                  1  300.789449  2261.871734  22.560723  ...   \n",
       "2            0.16                  1  316.852547  5056.459294  45.132048  ...   \n",
       "3            0.16                  1  344.056608  4641.124807  48.896181  ...   \n",
       "4            0.16                  1  318.474477  3259.999596  39.688098  ...   \n",
       "\n",
       "   Power [kW]  Hp [kJ/kg]  Axial Power losses [kW]  \\\n",
       "0  181.948011    1.546615                35.354530   \n",
       "1   30.309235    0.342669                17.295614   \n",
       "2   43.115798    0.486147                22.269798   \n",
       "3   52.223397    0.446883                29.328158   \n",
       "4  191.361153    1.508498                34.631867   \n",
       "\n",
       "   Side wall windage loss [kW]  Rotor-diffuser windage [kW]  \\\n",
       "0                     9.874548                     8.865901   \n",
       "1                     1.715483                     1.760581   \n",
       "2                     2.546709                     2.444449   \n",
       "3                     5.142692                     4.538543   \n",
       "4                    10.224433                     9.264067   \n",
       "\n",
       "   total mechanincal loss [kW]  Surge Distance  Total Consumed power  \\\n",
       "0                   106.246540        3.706551            288.194551   \n",
       "1                    31.339485        6.251218             61.648720   \n",
       "2                    42.149602       24.190271             85.265400   \n",
       "3                    66.518872       58.504924            118.742269   \n",
       "4                   108.307609        2.866052            299.668761   \n",
       "\n",
       "   Differential Pressure [kPa]  Original Order  \n",
       "0                   720.180947               1  \n",
       "1                   215.473689               2  \n",
       "2                   212.282906               4  \n",
       "3                   177.964122               5  \n",
       "4                   748.119063               7  \n",
       "\n",
       "[5 rows x 36 columns]"
      ]
     },
     "execution_count": 3,
     "metadata": {},
     "output_type": "execute_result"
    }
   ],
   "source": [
    "print(df.shape)\n",
    "df.head()"
   ]
  },
  {
   "cell_type": "code",
   "execution_count": 4,
   "id": "f597818b",
   "metadata": {},
   "outputs": [],
   "source": [
    "data=df[['Tin [K]','Pin [kPa]','N [rpm]','Total Consumed power','Differential Pressure [kPa]', 'Qin [m3/s]', 'Pout [kPA]', 'GVFin', 'Hp [kJ/kg]', 'GVFout','Qv_out [m3/s]','Surge Distance', 'phi']]"
   ]
  },
  {
   "cell_type": "code",
   "execution_count": 5,
   "id": "8a75240e",
   "metadata": {},
   "outputs": [],
   "source": [
    "phi_surge=0.076\n",
    "data['Surge Distance Eq'] = 100*(data['phi']-phi_surge)/phi_surge "
   ]
  },
  {
   "cell_type": "code",
   "execution_count": 6,
   "id": "244013fb",
   "metadata": {},
   "outputs": [],
   "source": [
    "# since this xgb version does not recognise column names with square brackets, commas,\\ they need to be replaced with _ \n",
    "regex = re.compile(r\"\\[|\\]|<\", re.IGNORECASE)\n",
    "# since this xgb version does not recognise column names with square brackets, commas need to replace the column names.\n",
    "data.columns = [regex.sub(\"_\", col) if any(x in str(col) for x in set(('[', ']', '<'))) else col for col in data.columns.values]"
   ]
  },
  {
   "cell_type": "code",
   "execution_count": 7,
   "id": "d74b8d0e",
   "metadata": {},
   "outputs": [],
   "source": [
    "INPUT_C=['Tin _K_','Pin _kPa_','N _rpm_','Total Consumed power','Differential Pressure _kPa_'] #\n",
    "#OUTPUT_C =['GVFin','Qin _m3/s_','GVFout','Qv_out _m3/s_','Surge Distance Eq'] #,'Phi_Surge','Hp _kJ/kg_','phi']\n",
    "OUTPUT_C =['Surge Distance Eq']\n",
    "X_1=data[INPUT_C]\n",
    "y_1=data[OUTPUT_C]"
   ]
  },
  {
   "cell_type": "code",
   "execution_count": 8,
   "id": "e09fe14d",
   "metadata": {},
   "outputs": [],
   "source": [
    "from sklearn.multioutput import MultiOutputRegressor\n",
    "import xgboost as xgb\n",
    "from sklearn.model_selection import train_test_split\n",
    "\n",
    "train_X1, test_X1, train_y1, test_y1 = train_test_split(X_1, y_1, train_size=0.8, random_state=32)"
   ]
  },
  {
   "cell_type": "code",
   "execution_count": 9,
   "id": "64dd7a8c",
   "metadata": {},
   "outputs": [
    {
     "data": {
      "text/plain": [
       "((50492, 5), (12624, 5), (50492, 1), (12624, 1))"
      ]
     },
     "execution_count": 9,
     "metadata": {},
     "output_type": "execute_result"
    }
   ],
   "source": [
    "train_X1.shape, test_X1.shape, train_y1.shape, test_y1.shape"
   ]
  },
  {
   "cell_type": "code",
   "execution_count": 10,
   "id": "41153346",
   "metadata": {},
   "outputs": [],
   "source": [
    "train_y=train_y1.copy() \n",
    "test_y=test_y1.copy() "
   ]
  },
  {
   "cell_type": "code",
   "execution_count": 11,
   "id": "2f260ff1",
   "metadata": {},
   "outputs": [
    {
     "name": "stdout",
     "output_type": "stream",
     "text": [
      "Tue Apr 12 13:30:21 2022\n",
      "--- 8.925742626190186 seconds ---\n"
     ]
    }
   ],
   "source": [
    "import time\n",
    "start_time = time.time()\n",
    "print(time.asctime( time.localtime(time.time()) ))\n",
    "\n",
    "# Try a simple XGB model\n",
    "#other_params={'learning_rate':0.1,'n_estimators':300,'max_depth':5,'min_child_weight':1,'subsample':0.8,'colsample_bytree':0.8}\n",
    "\n",
    "# Best params from opt SD alone\n",
    "other_params={'learning_rate':0.1,'n_estimators':700,'max_depth':8,'min_child_weight':8,'subsample':0.6,'colsample_bytree':1.0,'gpu_id': 0,'tree_method': 'gpu_hist'}\n",
    "\n",
    "#xgb_regressor=xgb.XGBRegressor(objective='reg:squarederror',**other_params).fit(X,y)\n",
    "#prediction_all=xgb_regressor.predict(X)\n",
    "multioutputregressor_1=MultiOutputRegressor(xgb.XGBRegressor(objective='reg:squarederror',**other_params)).fit(train_X1, train_y)\n",
    "#GPU attempt, doesn't work\n",
    "#multioutputregressor_1=MultiOutputRegressor(xgb.XGBRegressor(objective='reg:squarederror',device='gpu',**other_params)).fit(train_X1, train_y)\n",
    "print(\"--- %s seconds ---\" % (time.time() - start_time))"
   ]
  },
  {
   "cell_type": "code",
   "execution_count": 12,
   "id": "03a48ac5",
   "metadata": {},
   "outputs": [],
   "source": [
    "A = multioutputregressor_1.predict(data[INPUT_C])\n",
    "for i, out in enumerate(OUTPUT_C):\n",
    "    data[out+'_pred'] = A[:,i]"
   ]
  },
  {
   "cell_type": "code",
   "execution_count": 13,
   "id": "0cd6c197",
   "metadata": {},
   "outputs": [],
   "source": [
    "for i, out in enumerate(OUTPUT_C):\n",
    "    data[out+'_residuals'] = data[out] - data[out+'_pred']"
   ]
  },
  {
   "cell_type": "code",
   "execution_count": 14,
   "id": "955bbda9",
   "metadata": {},
   "outputs": [],
   "source": [
    "data_test = data.iloc[test_y.index]"
   ]
  },
  {
   "cell_type": "code",
   "execution_count": 21,
   "id": "1dc06cdc",
   "metadata": {},
   "outputs": [],
   "source": [
    "#test_y_pred = data_test[OUTPUT_C] \n",
    "#test_y_pred = data_test[['GVFin_pred','Qin _m3/s__pred','GVFout_pred','Qv_out _m3/s__pred','Surge Distance Eq_pred']]\n",
    "test_y_pred = data_test[['Surge Distance Eq_pred']]"
   ]
  },
  {
   "cell_type": "code",
   "execution_count": 22,
   "id": "62cf81d8",
   "metadata": {},
   "outputs": [
    {
     "data": {
      "text/html": [
       "<div>\n",
       "<style scoped>\n",
       "    .dataframe tbody tr th:only-of-type {\n",
       "        vertical-align: middle;\n",
       "    }\n",
       "\n",
       "    .dataframe tbody tr th {\n",
       "        vertical-align: top;\n",
       "    }\n",
       "\n",
       "    .dataframe thead th {\n",
       "        text-align: right;\n",
       "    }\n",
       "</style>\n",
       "<table border=\"1\" class=\"dataframe\">\n",
       "  <thead>\n",
       "    <tr style=\"text-align: right;\">\n",
       "      <th></th>\n",
       "      <th>Surge Distance Eq_pred</th>\n",
       "    </tr>\n",
       "  </thead>\n",
       "  <tbody>\n",
       "    <tr>\n",
       "      <th>19573</th>\n",
       "      <td>18.294149</td>\n",
       "    </tr>\n",
       "    <tr>\n",
       "      <th>11959</th>\n",
       "      <td>25.766733</td>\n",
       "    </tr>\n",
       "    <tr>\n",
       "      <th>62949</th>\n",
       "      <td>11.725581</td>\n",
       "    </tr>\n",
       "    <tr>\n",
       "      <th>31121</th>\n",
       "      <td>71.808052</td>\n",
       "    </tr>\n",
       "    <tr>\n",
       "      <th>18293</th>\n",
       "      <td>-3.263426</td>\n",
       "    </tr>\n",
       "    <tr>\n",
       "      <th>...</th>\n",
       "      <td>...</td>\n",
       "    </tr>\n",
       "    <tr>\n",
       "      <th>21588</th>\n",
       "      <td>0.266907</td>\n",
       "    </tr>\n",
       "    <tr>\n",
       "      <th>50670</th>\n",
       "      <td>28.295582</td>\n",
       "    </tr>\n",
       "    <tr>\n",
       "      <th>40154</th>\n",
       "      <td>18.641672</td>\n",
       "    </tr>\n",
       "    <tr>\n",
       "      <th>48920</th>\n",
       "      <td>51.201088</td>\n",
       "    </tr>\n",
       "    <tr>\n",
       "      <th>50973</th>\n",
       "      <td>13.465152</td>\n",
       "    </tr>\n",
       "  </tbody>\n",
       "</table>\n",
       "<p>12624 rows × 1 columns</p>\n",
       "</div>"
      ],
      "text/plain": [
       "       Surge Distance Eq_pred\n",
       "19573               18.294149\n",
       "11959               25.766733\n",
       "62949               11.725581\n",
       "31121               71.808052\n",
       "18293               -3.263426\n",
       "...                       ...\n",
       "21588                0.266907\n",
       "50670               28.295582\n",
       "40154               18.641672\n",
       "48920               51.201088\n",
       "50973               13.465152\n",
       "\n",
       "[12624 rows x 1 columns]"
      ]
     },
     "execution_count": 22,
     "metadata": {},
     "output_type": "execute_result"
    }
   ],
   "source": [
    "test_y_pred"
   ]
  },
  {
   "cell_type": "code",
   "execution_count": 23,
   "id": "c29e1b15",
   "metadata": {},
   "outputs": [
    {
     "name": "stdout",
     "output_type": "stream",
     "text": [
      "Root_mean_squared_error_test set_ 4.794202378675843\n",
      "R2 Score_test set_xgb 0.9543179595345781\n"
     ]
    }
   ],
   "source": [
    "predictions_1=multioutputregressor_1.predict(test_X1)\n",
    "\n",
    "# Get the performance of predictions on all output parameters\n",
    "print('Root_mean_squared_error_test set_',math.sqrt(mean_squared_error(test_y,test_y_pred)))\n",
    "print('R2 Score_test set_xgb',r2_score(test_y,test_y_pred))"
   ]
  },
  {
   "cell_type": "code",
   "execution_count": 24,
   "id": "d92f3311",
   "metadata": {},
   "outputs": [],
   "source": [
    "# # Get the performance of predictions_1 on all output parameters\n",
    "# for i, out in enumerate(OUTPUT_C):    \n",
    "#     print(f'Root_mean_squared_error_test set_{out}', math.sqrt(mean_squared_error(test_y[out],test_y_pred[out+'_pred'])))\n",
    "#     print(f'R2 Score_test set_xgb_{out}', r2_score(test_y[out],test_y_pred[out+'_pred']))\n",
    "#     print('________________________________\\n')"
   ]
  },
  {
   "cell_type": "code",
   "execution_count": 25,
   "id": "3666f489",
   "metadata": {},
   "outputs": [
    {
     "data": {
      "text/html": [
       "<div>\n",
       "<style scoped>\n",
       "    .dataframe tbody tr th:only-of-type {\n",
       "        vertical-align: middle;\n",
       "    }\n",
       "\n",
       "    .dataframe tbody tr th {\n",
       "        vertical-align: top;\n",
       "    }\n",
       "\n",
       "    .dataframe thead th {\n",
       "        text-align: right;\n",
       "    }\n",
       "</style>\n",
       "<table border=\"1\" class=\"dataframe\">\n",
       "  <thead>\n",
       "    <tr style=\"text-align: right;\">\n",
       "      <th></th>\n",
       "      <th>Variable</th>\n",
       "      <th>RMSE</th>\n",
       "      <th>R²</th>\n",
       "    </tr>\n",
       "  </thead>\n",
       "  <tbody>\n",
       "    <tr>\n",
       "      <th>0</th>\n",
       "      <td>Surge Distance Eq</td>\n",
       "      <td>4.7942</td>\n",
       "      <td>0.9543</td>\n",
       "    </tr>\n",
       "  </tbody>\n",
       "</table>\n",
       "</div>"
      ],
      "text/plain": [
       "            Variable    RMSE      R²\n",
       "0  Surge Distance Eq  4.7942  0.9543"
      ]
     },
     "execution_count": 25,
     "metadata": {},
     "output_type": "execute_result"
    }
   ],
   "source": [
    "# Nice table for metrics\n",
    "dfppt=pd.DataFrame(columns=['Variable','RMSE','R²'])\n",
    "A=[];B=[];C=[]\n",
    "for i, out in enumerate(OUTPUT_C):\n",
    "    A.append(out)\n",
    "    B.append(round(math.sqrt(mean_squared_error(test_y[out],test_y_pred[out+'_pred'])),4))\n",
    "    C.append(round(r2_score(test_y[out],test_y_pred[out+'_pred']),4)) \n",
    "dfppt['Variable']=A\n",
    "dfppt['RMSE']=B\n",
    "dfppt['R²']=C\n",
    "dfppt"
   ]
  },
  {
   "cell_type": "code",
   "execution_count": 26,
   "id": "80125d07",
   "metadata": {},
   "outputs": [
    {
     "data": {
      "image/png": "[encoded data removed]",
      "text/plain": [
       "<Figure size 1440x360 with 1 Axes>"
      ]
     },
     "metadata": {
      "needs_background": "light"
     },
     "output_type": "display_data"
    }
   ],
   "source": [
    "plt.figure(figsize=(20,5)) \n",
    "for ii,output in enumerate(OUTPUT_C):\n",
    "\n",
    "    residual = data_test[output+'_residuals'] #pred - y\n",
    "   \n",
    "    plt.subplot(1,5,ii+1)\n",
    "\n",
    "    plt.hist(residual,bins=50)\n",
    "    plt.title(output+'_residuals', fontsize=20)\n",
    "#     plt.ylabel(output, fontsize=20)\n",
    "#     plt.xlabel('# of Input', fontsize=20)\n",
    "    plt.grid(True)\n",
    "    \n",
    "    #plt.show() "
   ]
  },
  {
   "cell_type": "code",
   "execution_count": 28,
   "id": "a28fd2f9",
   "metadata": {},
   "outputs": [
    {
     "data": {
      "text/html": [
       "<div>\n",
       "<style scoped>\n",
       "    .dataframe tbody tr th:only-of-type {\n",
       "        vertical-align: middle;\n",
       "    }\n",
       "\n",
       "    .dataframe tbody tr th {\n",
       "        vertical-align: top;\n",
       "    }\n",
       "\n",
       "    .dataframe thead th {\n",
       "        text-align: right;\n",
       "    }\n",
       "</style>\n",
       "<table border=\"1\" class=\"dataframe\">\n",
       "  <thead>\n",
       "    <tr style=\"text-align: right;\">\n",
       "      <th></th>\n",
       "      <th>Surge Distance Eq_residuals</th>\n",
       "    </tr>\n",
       "  </thead>\n",
       "  <tbody>\n",
       "    <tr>\n",
       "      <th>count</th>\n",
       "      <td>12624.000000</td>\n",
       "    </tr>\n",
       "    <tr>\n",
       "      <th>mean</th>\n",
       "      <td>-0.023358</td>\n",
       "    </tr>\n",
       "    <tr>\n",
       "      <th>std</th>\n",
       "      <td>4.794335</td>\n",
       "    </tr>\n",
       "    <tr>\n",
       "      <th>min</th>\n",
       "      <td>-30.068885</td>\n",
       "    </tr>\n",
       "    <tr>\n",
       "      <th>25%</th>\n",
       "      <td>-2.357607</td>\n",
       "    </tr>\n",
       "    <tr>\n",
       "      <th>50%</th>\n",
       "      <td>-0.008478</td>\n",
       "    </tr>\n",
       "    <tr>\n",
       "      <th>75%</th>\n",
       "      <td>2.435511</td>\n",
       "    </tr>\n",
       "    <tr>\n",
       "      <th>max</th>\n",
       "      <td>25.309088</td>\n",
       "    </tr>\n",
       "  </tbody>\n",
       "</table>\n",
       "</div>"
      ],
      "text/plain": [
       "       Surge Distance Eq_residuals\n",
       "count                 12624.000000\n",
       "mean                     -0.023358\n",
       "std                       4.794335\n",
       "min                     -30.068885\n",
       "25%                      -2.357607\n",
       "50%                      -0.008478\n",
       "75%                       2.435511\n",
       "max                      25.309088"
      ]
     },
     "execution_count": 28,
     "metadata": {},
     "output_type": "execute_result"
    }
   ],
   "source": [
    "data_test[['Surge Distance Eq_residuals']].describe()"
   ]
  },
  {
   "cell_type": "code",
   "execution_count": 29,
   "id": "846d39a7",
   "metadata": {},
   "outputs": [],
   "source": [
    "# Get mean as standard deviation\n",
    "mean = data_test['Surge Distance Eq_residuals'].mean()\n",
    "std = data_test['Surge Distance Eq_residuals'].std()"
   ]
  },
  {
   "cell_type": "code",
   "execution_count": 30,
   "id": "ab90c113",
   "metadata": {},
   "outputs": [
    {
     "data": {
      "text/plain": [
       "<matplotlib.lines.Line2D at 0x7f4ec750a160>"
      ]
     },
     "execution_count": 30,
     "metadata": {},
     "output_type": "execute_result"
    },
    {
     "data": {
      "image/png": "[encoded data removed]",
      "text/plain": [
       "<Figure size 432x288 with 1 Axes>"
      ]
     },
     "metadata": {
      "needs_background": "light"
     },
     "output_type": "display_data"
    }
   ],
   "source": [
    "data_test['Surge Distance Eq_residuals'].hist(bins=100)\n",
    "plt.axvline(mean, color='r', linestyle='dashed', linewidth=2)\n",
    "plt.axvline(std, color='g', linewidth=2)\n",
    "plt.axvline(-std, color='g', linewidth=2)"
   ]
  },
  {
   "cell_type": "code",
   "execution_count": 31,
   "id": "5af9ed2d",
   "metadata": {},
   "outputs": [
    {
     "data": {
      "text/plain": [
       "4.794335370664859"
      ]
     },
     "execution_count": 31,
     "metadata": {},
     "output_type": "execute_result"
    }
   ],
   "source": [
    "std"
   ]
  },
  {
   "cell_type": "code",
   "execution_count": 32,
   "id": "4561f52f",
   "metadata": {},
   "outputs": [],
   "source": [
    "out='Surge Distance Eq'\n",
    "data_test['ErrSDpc']=abs(data_test[out]-data_test[out+'_pred'])/data_test[out]*100"
   ]
  },
  {
   "cell_type": "code",
   "execution_count": 33,
   "id": "932853da",
   "metadata": {},
   "outputs": [
    {
     "data": {
      "text/plain": [
       "0.4124683143219265"
      ]
     },
     "execution_count": 33,
     "metadata": {},
     "output_type": "execute_result"
    }
   ],
   "source": [
    "ds=data_test['ErrSDpc'][data_test['ErrSDpc']<4]\n",
    "fracOK=len(ds)/len(data_test)\n",
    "fracOK"
   ]
  },
  {
   "cell_type": "code",
   "execution_count": 35,
   "id": "66ef91c4",
   "metadata": {},
   "outputs": [
    {
     "data": {
      "text/plain": [
       "(-10.0, 100.0)"
      ]
     },
     "execution_count": 35,
     "metadata": {},
     "output_type": "execute_result"
    },
    {
     "data": {
      "image/png": "[encoded data removed]",
      "text/plain": [
       "<Figure size 432x288 with 1 Axes>"
      ]
     },
     "metadata": {
      "needs_background": "light"
     },
     "output_type": "display_data"
    }
   ],
   "source": [
    "out='Surge Distance Eq'\n",
    "plt.plot(data_test[out],data_test['ErrSDpc'],'.')\n",
    "plt.plot(data_test[out],4*np.ones(len(data_test[out])),'r')\n",
    "#plt.plot(y_test2,-4*np.ones(len(y_test2)),'r')\n",
    "plt.ylim(-10,100)"
   ]
  },
  {
   "cell_type": "code",
   "execution_count": 37,
   "id": "8c76ae90",
   "metadata": {},
   "outputs": [
    {
     "data": {
      "text/plain": [
       "<AxesSubplot:>"
      ]
     },
     "execution_count": 37,
     "metadata": {},
     "output_type": "execute_result"
    },
    {
     "data": {
      "image/png": "[encoded data removed]",
      "text/plain": [
       "<Figure size 432x288 with 1 Axes>"
      ]
     },
     "metadata": {
      "needs_background": "light"
     },
     "output_type": "display_data"
    }
   ],
   "source": [
    "data_test['ErrSDpc'].hist(bins=100,range=[0,10])"
   ]
  },
  {
   "cell_type": "markdown",
   "id": "59756d5f",
   "metadata": {},
   "source": [
    "# Other Stuff"
   ]
  },
  {
   "cell_type": "code",
   "execution_count": null,
   "id": "ec3540ac",
   "metadata": {},
   "outputs": [],
   "source": [
    "import matplotlib.pyplot as plt\n",
    "\n",
    "n_points=20\n",
    "#output = 'Phi_Surge'\n",
    "output = 'Surge Distance Eq'\n",
    "#x, pred, y = range(len(predictions_1))[:n_points], test_y1[output][:n_points], predictions_1[:,4][:n_points]\n",
    "x, pred, y = range(len(test_y))[:n_points], test_y[output][:n_points], test_y_pred[output+'_pred'][:n_points]\n",
    "\n",
    "ci = 1.96 * np.std(y)/np.sqrt(len(x))\n",
    "\n",
    "plt.figure(figsize=(20,12))\n",
    "plt.plot(x, y, color='b', marker='o', label='test')\n",
    "plt.plot(x, pred, color='red', marker='+', markersize=12, label='pred')\n",
    "plt.fill_between(x, (y-ci), (y+ci), color='b', alpha=.25, label='ci')\n",
    "plt.title('95%% Confidential interval for %s' %output, fontsize=20)\n",
    "plt.ylabel(output, fontsize=12)\n",
    "plt.xlabel('# of Input', fontsize=12)\n",
    "plt.legend()\n",
    "plt.show()"
   ]
  },
  {
   "cell_type": "code",
   "execution_count": null,
   "id": "bff38c45",
   "metadata": {},
   "outputs": [],
   "source": [
    "for ii,output in enumerate(OUTPUT_C):\n",
    "\n",
    "#     x, pred, y = range(len(predictions_1))[:n_points], test_y[output][:n_points], predictions_1[:,ii][:n_points]\n",
    "    x, pred, y = range(len(test_y))[:n_points], test_y[output][:n_points], test_y_pred[output+'_pred'][:n_points]\n",
    "    residual = pred - y\n",
    "\n",
    "    plt.figure(figsize=(20,12))    \n",
    "    plt.subplot(221)\n",
    "\n",
    "    plt.plot(x, y, color='b', marker='o', label='test')\n",
    "    plt.plot(x, pred, color='red', marker='+', markersize=12, label='pred')\n",
    "    plt.title(output, fontsize=20)\n",
    "    plt.ylabel(output, fontsize=20)\n",
    "    plt.xlabel('# of Input', fontsize=20)\n",
    "    plt.legend(fontsize=20)\n",
    "    plt.grid(True)\n",
    "\n",
    "    \n",
    "    plt.subplot(222)\n",
    "    plt.plot(x, residual, color='b', marker='o', label='test')\n",
    "    plt.title('Residuals '+output, fontsize=20)\n",
    "    plt.ylabel('Residuals '+output, fontsize=20)\n",
    "    plt.xlabel('# of Input', fontsize=20)\n",
    "    plt.legend(fontsize=20)\n",
    "    plt.grid(True)\n",
    "    \n",
    "    plt.show()    "
   ]
  },
  {
   "cell_type": "code",
   "execution_count": null,
   "id": "db1735f5",
   "metadata": {},
   "outputs": [],
   "source": [
    "for ii,output in enumerate(OUTPUT_C):\n",
    "\n",
    "#     x, pred, y = range(len(predictions_1))[:], test_y[output][:], predictions_1[:,ii][:]\n",
    "    x, pred, y = range(len(test_y)), test_y[output], test_y_pred[output+'_pred']\n",
    "    residual = pred - y\n",
    "\n",
    "    plt.figure(figsize=(20,12))    \n",
    "    plt.subplot(221)\n",
    "\n",
    "    plt.plot(y, pred, '.') #color='b', marker='o', label='test')\n",
    "    plt.title(output, fontsize=20)\n",
    "    plt.ylabel('predicted y', fontsize=20)\n",
    "    plt.xlabel('y', fontsize=20)\n",
    "    #plt.legend(fontsize=20)\n",
    "    plt.grid(True)\n",
    "\n",
    "    \n",
    "    plt.subplot(222)\n",
    "    plt.plot(x, residual, '.') #color='b', marker='o', label='test')\n",
    "    plt.title('Residuals '+output, fontsize=20)\n",
    "    plt.ylabel('Residuals '+output, fontsize=20)\n",
    "    plt.xlabel('# of Input', fontsize=20)\n",
    "    #plt.legend(fontsize=20)\n",
    "    plt.grid(True)\n",
    "    \n",
    "    plt.show() "
   ]
  }
 ],
 "metadata": {
  "kernelspec": {
   "display_name": "Python 3 (ipykernel)",
   "language": "python",
   "name": "python3"
  },
  "language_info": {
   "codemirror_mode": {
    "name": "ipython",
    "version": 3
   },
   "file_extension": ".py",
   "mimetype": "text/x-python",
   "name": "python",
   "nbconvert_exporter": "python",
   "pygments_lexer": "ipython3",
   "version": "3.8.10"
  },
  "toc": {
   "base_numbering": 1,
   "nav_menu": {},
   "number_sections": true,
   "sideBar": true,
   "skip_h1_title": false,
   "title_cell": "Table of Contents",
   "title_sidebar": "Contents",
   "toc_cell": false,
   "toc_position": {},
   "toc_section_display": true,
   "toc_window_display": true
  },
  "varInspector": {
   "cols": {
    "lenName": 16,
    "lenType": 16,
    "lenVar": 40
   },
   "kernels_config": {
    "python": {
     "delete_cmd_postfix": "",
     "delete_cmd_prefix": "del ",
     "library": "var_list.py",
     "varRefreshCmd": "print(var_dic_list())"
    },
    "r": {
     "delete_cmd_postfix": ") ",
     "delete_cmd_prefix": "rm(",
     "library": "var_list.r",
     "varRefreshCmd": "cat(var_dic_list()) "
    }
   },
   "position": {
    "height": "340.838px",
    "left": "717.991px",
    "right": "20px",
    "top": "130.997px",
    "width": "535.98px"
   },
   "types_to_exclude": [
    "module",
    "function",
    "builtin_function_or_method",
    "instance",
    "_Feature"
   ],
   "window_display": false
  }
 },
 "nbformat": 4,
 "nbformat_minor": 5
}
