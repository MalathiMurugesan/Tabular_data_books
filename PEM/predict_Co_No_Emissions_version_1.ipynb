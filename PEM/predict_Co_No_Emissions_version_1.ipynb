{
 "cells": [
  {
   "cell_type": "code",
   "execution_count": null,
   "id": "c612401d",
   "metadata": {},
   "outputs": [],
   "source": [
    "# Tried different imputation methods interpolate, mode, median\n",
    "# imputation methods interpolate, mode gives the same results.\n",
    "# for the median method performance is slow\n",
    "#XGB performs better than random forest."
   ]
  },
  {
   "cell_type": "code",
   "execution_count": 1,
   "id": "9fb9f70c",
   "metadata": {},
   "outputs": [],
   "source": [
    "import pandas as pd\n",
    "import matplotlib.pyplot as plt\n",
    "import numpy as np\n",
    "import seaborn as sns"
   ]
  },
  {
   "cell_type": "code",
   "execution_count": 2,
   "id": "db3fd347",
   "metadata": {},
   "outputs": [
    {
     "name": "stdout",
     "output_type": "stream",
     "text": [
      "(66331, 46)\n",
      "['Timestamp', 'BRNDMD', 'WFPILM', 'F_FARFLI', 'F_FARFLO', 'F_FARFL', 'F_W2', 'F_WA36', 'F_WB3Q', 'F_WF36DMD', 'P2SEL', 'PS3SEL', 'T2SEL', 'T3SEL', 'TFLCYCS', 'TFLPDFS', 'TFLIDFS', 'TFLODFS', 'WFINRM', 'WFOTRM', 'WFQPERRCOR', 'A90RH', 'F_WAFL', 'NGGSEL', 'PX36SEL', 'PX36AVAL', 'PX36BVAL', 'NPTSEL', 'NPTREF', 'DWB36PCT', 'REGULATOR', 'T48SEL', 'CDPSEL', 'T8SEL', 'P48SEL', 'LHVSEL', 'SGSEL', 'NOX_HMI', 'CO_HMI', 'O2_HMI', 'VLVFBKG_06', 'EMISSIONS_SS', 'SSFILTER', 'F_WB3', 'NOX15', 'CO15']\n"
     ]
    }
   ],
   "source": [
    "# read the respective files from these locations\n",
    "data_file_training='/data-restricted/PEM/L0162_20200909T0001_20201201T1230.csv'\n",
    "df = pd.read_csv(data_file_training)\n",
    "print(df.shape)\n",
    "print(list(df.columns))"
   ]
  },
  {
   "cell_type": "code",
   "execution_count": null,
   "id": "9f8e2f42",
   "metadata": {},
   "outputs": [],
   "source": [
    "#output_columns=['NOX_HMI', 'CO_HMI'] #compare your predictions with 'NOX15', 'CO15'"
   ]
  },
  {
   "cell_type": "code",
   "execution_count": 3,
   "id": "ddaa140c",
   "metadata": {},
   "outputs": [],
   "source": [
    "df['Timestamp']=pd.to_datetime(df['Timestamp'])\n",
    "df=df.set_index('Timestamp')"
   ]
  },
  {
   "cell_type": "code",
   "execution_count": 4,
   "id": "ade5b11f",
   "metadata": {},
   "outputs": [
    {
     "data": {
      "text/plain": [
       "BRNDMD          0.497649\n",
       "WFPILM          0.542715\n",
       "F_FARFLI       -0.329813\n",
       "F_FARFLO       -0.565216\n",
       "F_FARFL         0.625346\n",
       "F_W2            0.536194\n",
       "F_WA36          0.524021\n",
       "F_WB3Q          0.523522\n",
       "F_WF36DMD       0.503742\n",
       "P2SEL          -0.224610\n",
       "PS3SEL          0.509355\n",
       "T2SEL          -0.002705\n",
       "T3SEL           0.559404\n",
       "TFLCYCS         0.609639\n",
       "TFLPDFS         0.607566\n",
       "TFLIDFS         0.476199\n",
       "TFLODFS         0.543248\n",
       "WFINRM          0.379456\n",
       "WFOTRM          0.493927\n",
       "WFQPERRCOR      0.548106\n",
       "A90RH          -0.171942\n",
       "F_WAFL          0.485169\n",
       "NGGSEL          0.572279\n",
       "PX36SEL         0.512209\n",
       "PX36AVAL        0.494771\n",
       "PX36BVAL        0.505996\n",
       "NPTSEL          0.540816\n",
       "NPTREF          0.467056\n",
       "DWB36PCT        0.523450\n",
       "REGULATOR      -0.675086\n",
       "T48SEL          0.572176\n",
       "CDPSEL         -0.480828\n",
       "T8SEL           0.595082\n",
       "P48SEL          0.493394\n",
       "LHVSEL          0.127043\n",
       "SGSEL          -0.241319\n",
       "NOX_HMI         0.793344\n",
       "CO_HMI          1.000000\n",
       "O2_HMI          0.686464\n",
       "VLVFBKG_06     -0.349178\n",
       "EMISSIONS_SS    0.251124\n",
       "SSFILTER        0.423710\n",
       "F_WB3           0.488616\n",
       "NOX15           0.516868\n",
       "CO15            0.561017\n",
       "dtype: float64"
      ]
     },
     "execution_count": 4,
     "metadata": {},
     "output_type": "execute_result"
    }
   ],
   "source": [
    "df[df.columns].apply(lambda x: x.corr(df['CO_HMI']))"
   ]
  },
  {
   "cell_type": "code",
   "execution_count": 5,
   "id": "7572d936",
   "metadata": {},
   "outputs": [
    {
     "data": {
      "text/plain": [
       "BRNDMD          0.789382\n",
       "WFPILM          0.818220\n",
       "F_FARFLI       -0.437164\n",
       "F_FARFLO       -0.815788\n",
       "F_FARFL         0.818661\n",
       "F_W2            0.812581\n",
       "F_WA36          0.809606\n",
       "F_WB3Q          0.353119\n",
       "F_WF36DMD       0.803396\n",
       "P2SEL          -0.443865\n",
       "PS3SEL          0.805211\n",
       "T2SEL          -0.250926\n",
       "T3SEL           0.818632\n",
       "TFLCYCS         0.820989\n",
       "TFLPDFS         0.822040\n",
       "TFLIDFS         0.734349\n",
       "TFLODFS         0.814365\n",
       "WFINRM          0.687243\n",
       "WFOTRM          0.803806\n",
       "WFQPERRCOR      0.810654\n",
       "A90RH          -0.063455\n",
       "F_WAFL          0.793595\n",
       "NGGSEL          0.816182\n",
       "PX36SEL         0.798704\n",
       "PX36AVAL        0.785611\n",
       "PX36BVAL        0.789451\n",
       "NPTSEL          0.814239\n",
       "NPTREF          0.794936\n",
       "DWB36PCT        0.353094\n",
       "REGULATOR      -0.677457\n",
       "T48SEL          0.824492\n",
       "CDPSEL         -0.777380\n",
       "T8SEL           0.824856\n",
       "P48SEL          0.801119\n",
       "LHVSEL         -0.036496\n",
       "SGSEL          -0.079984\n",
       "NOX_HMI         1.000000\n",
       "CO_HMI          0.793344\n",
       "O2_HMI          0.692898\n",
       "VLVFBKG_06     -0.090024\n",
       "EMISSIONS_SS    0.655639\n",
       "SSFILTER        0.702245\n",
       "F_WB3           0.380899\n",
       "NOX15           0.717821\n",
       "CO15            0.752523\n",
       "dtype: float64"
      ]
     },
     "execution_count": 5,
     "metadata": {},
     "output_type": "execute_result"
    }
   ],
   "source": [
    "df[df.columns].apply(lambda x: x.corr(df['NOX_HMI']))"
   ]
  },
  {
   "cell_type": "code",
   "execution_count": 6,
   "id": "36aca62f",
   "metadata": {},
   "outputs": [
    {
     "data": {
      "text/plain": [
       "['PX36AVAL', 'PX36BVAL', 'EMISSIONS_SS']"
      ]
     },
     "execution_count": 6,
     "metadata": {},
     "output_type": "execute_result"
    }
   ],
   "source": [
    "cols_with_NaNs=df.columns[df.isnull().any()].tolist()\n",
    "cols_with_NaNs"
   ]
  },
  {
   "cell_type": "code",
   "execution_count": 7,
   "id": "6238633b",
   "metadata": {},
   "outputs": [
    {
     "data": {
      "text/html": [
       "<div>\n",
       "<style scoped>\n",
       "    .dataframe tbody tr th:only-of-type {\n",
       "        vertical-align: middle;\n",
       "    }\n",
       "\n",
       "    .dataframe tbody tr th {\n",
       "        vertical-align: top;\n",
       "    }\n",
       "\n",
       "    .dataframe thead th {\n",
       "        text-align: right;\n",
       "    }\n",
       "</style>\n",
       "<table border=\"1\" class=\"dataframe\">\n",
       "  <thead>\n",
       "    <tr style=\"text-align: right;\">\n",
       "      <th></th>\n",
       "      <th>PX36AVAL</th>\n",
       "      <th>PX36BVAL</th>\n",
       "      <th>EMISSIONS_SS</th>\n",
       "    </tr>\n",
       "  </thead>\n",
       "  <tbody>\n",
       "    <tr>\n",
       "      <th>count</th>\n",
       "      <td>61493.000000</td>\n",
       "      <td>61493.000000</td>\n",
       "      <td>16130.000000</td>\n",
       "    </tr>\n",
       "    <tr>\n",
       "      <th>mean</th>\n",
       "      <td>0.312573</td>\n",
       "      <td>0.351047</td>\n",
       "      <td>0.532982</td>\n",
       "    </tr>\n",
       "    <tr>\n",
       "      <th>std</th>\n",
       "      <td>0.557965</td>\n",
       "      <td>0.628402</td>\n",
       "      <td>0.498926</td>\n",
       "    </tr>\n",
       "    <tr>\n",
       "      <th>min</th>\n",
       "      <td>0.019073</td>\n",
       "      <td>0.019073</td>\n",
       "      <td>0.000000</td>\n",
       "    </tr>\n",
       "    <tr>\n",
       "      <th>25%</th>\n",
       "      <td>0.019073</td>\n",
       "      <td>0.019073</td>\n",
       "      <td>0.000000</td>\n",
       "    </tr>\n",
       "    <tr>\n",
       "      <th>50%</th>\n",
       "      <td>0.019073</td>\n",
       "      <td>0.019073</td>\n",
       "      <td>1.000000</td>\n",
       "    </tr>\n",
       "    <tr>\n",
       "      <th>75%</th>\n",
       "      <td>0.019073</td>\n",
       "      <td>0.019073</td>\n",
       "      <td>1.000000</td>\n",
       "    </tr>\n",
       "    <tr>\n",
       "      <th>max</th>\n",
       "      <td>3.074648</td>\n",
       "      <td>3.353121</td>\n",
       "      <td>1.000000</td>\n",
       "    </tr>\n",
       "  </tbody>\n",
       "</table>\n",
       "</div>"
      ],
      "text/plain": [
       "           PX36AVAL      PX36BVAL  EMISSIONS_SS\n",
       "count  61493.000000  61493.000000  16130.000000\n",
       "mean       0.312573      0.351047      0.532982\n",
       "std        0.557965      0.628402      0.498926\n",
       "min        0.019073      0.019073      0.000000\n",
       "25%        0.019073      0.019073      0.000000\n",
       "50%        0.019073      0.019073      1.000000\n",
       "75%        0.019073      0.019073      1.000000\n",
       "max        3.074648      3.353121      1.000000"
      ]
     },
     "execution_count": 7,
     "metadata": {},
     "output_type": "execute_result"
    }
   ],
   "source": [
    "df_NaNs=df[cols_with_NaNs]\n",
    "df_NaNs.describe()"
   ]
  },
  {
   "cell_type": "code",
   "execution_count": 8,
   "id": "8c92abd9",
   "metadata": {},
   "outputs": [
    {
     "data": {
      "text/plain": [
       "PX36AVAL         7.293724\n",
       "PX36BVAL         7.293724\n",
       "EMISSIONS_SS    75.682562\n",
       "dtype: float64"
      ]
     },
     "execution_count": 8,
     "metadata": {},
     "output_type": "execute_result"
    }
   ],
   "source": [
    "percent_missing=df_NaNs.isnull().sum() * 100/len(df_NaNs)\n",
    "percent_missing"
   ]
  },
  {
   "cell_type": "code",
   "execution_count": 9,
   "id": "b1a68b16",
   "metadata": {},
   "outputs": [
    {
     "data": {
      "text/plain": [
       "array([[<AxesSubplot:title={'center':'PX36AVAL'}>,\n",
       "        <AxesSubplot:title={'center':'PX36BVAL'}>],\n",
       "       [<AxesSubplot:title={'center':'EMISSIONS_SS'}>, <AxesSubplot:>]],\n",
       "      dtype=object)"
      ]
     },
     "execution_count": 9,
     "metadata": {},
     "output_type": "execute_result"
    },
    {
     "data": {
      "image/png": "[encoded data removed]",
      "text/plain": [
       "<Figure size 432x288 with 4 Axes>"
      ]
     },
     "metadata": {
      "needs_background": "light"
     },
     "output_type": "display_data"
    }
   ],
   "source": [
    "df_NaNs.hist()"
   ]
  },
  {
   "cell_type": "code",
   "execution_count": null,
   "id": "0513f5bc",
   "metadata": {},
   "outputs": [],
   "source": [
    "#df['EMISSIONS_SS'].value_counts()\n",
    "#df['EMISSIONS_SS'].count()"
   ]
  },
  {
   "cell_type": "code",
   "execution_count": null,
   "id": "8b81c8ff",
   "metadata": {},
   "outputs": [],
   "source": [
    "#Missing values imputation"
   ]
  },
  {
   "cell_type": "code",
   "execution_count": 11,
   "id": "150a927d",
   "metadata": {},
   "outputs": [],
   "source": [
    "df1=df.copy()"
   ]
  },
  {
   "cell_type": "code",
   "execution_count": 12,
   "id": "4d9518a8",
   "metadata": {},
   "outputs": [],
   "source": [
    "#since 75% if this variable are NaNs\n",
    "df.drop(('EMISSIONS_SS'),axis=1,inplace=True)"
   ]
  },
  {
   "cell_type": "code",
   "execution_count": 13,
   "id": "ebc13dd9",
   "metadata": {},
   "outputs": [
    {
     "data": {
      "text/html": [
       "<div>\n",
       "<style scoped>\n",
       "    .dataframe tbody tr th:only-of-type {\n",
       "        vertical-align: middle;\n",
       "    }\n",
       "\n",
       "    .dataframe tbody tr th {\n",
       "        vertical-align: top;\n",
       "    }\n",
       "\n",
       "    .dataframe thead th {\n",
       "        text-align: right;\n",
       "    }\n",
       "</style>\n",
       "<table border=\"1\" class=\"dataframe\">\n",
       "  <thead>\n",
       "    <tr style=\"text-align: right;\">\n",
       "      <th></th>\n",
       "      <th>PX36AVAL</th>\n",
       "      <th>PX36BVAL</th>\n",
       "      <th>EMISSIONS_SS</th>\n",
       "    </tr>\n",
       "  </thead>\n",
       "  <tbody>\n",
       "    <tr>\n",
       "      <th>count</th>\n",
       "      <td>61493.000000</td>\n",
       "      <td>61493.000000</td>\n",
       "      <td>16130.000000</td>\n",
       "    </tr>\n",
       "    <tr>\n",
       "      <th>mean</th>\n",
       "      <td>0.312573</td>\n",
       "      <td>0.351047</td>\n",
       "      <td>0.532982</td>\n",
       "    </tr>\n",
       "    <tr>\n",
       "      <th>std</th>\n",
       "      <td>0.557965</td>\n",
       "      <td>0.628402</td>\n",
       "      <td>0.498926</td>\n",
       "    </tr>\n",
       "    <tr>\n",
       "      <th>min</th>\n",
       "      <td>0.019073</td>\n",
       "      <td>0.019073</td>\n",
       "      <td>0.000000</td>\n",
       "    </tr>\n",
       "    <tr>\n",
       "      <th>25%</th>\n",
       "      <td>0.019073</td>\n",
       "      <td>0.019073</td>\n",
       "      <td>0.000000</td>\n",
       "    </tr>\n",
       "    <tr>\n",
       "      <th>50%</th>\n",
       "      <td>0.019073</td>\n",
       "      <td>0.019073</td>\n",
       "      <td>1.000000</td>\n",
       "    </tr>\n",
       "    <tr>\n",
       "      <th>75%</th>\n",
       "      <td>0.019073</td>\n",
       "      <td>0.019073</td>\n",
       "      <td>1.000000</td>\n",
       "    </tr>\n",
       "    <tr>\n",
       "      <th>max</th>\n",
       "      <td>3.074648</td>\n",
       "      <td>3.353121</td>\n",
       "      <td>1.000000</td>\n",
       "    </tr>\n",
       "  </tbody>\n",
       "</table>\n",
       "</div>"
      ],
      "text/plain": [
       "           PX36AVAL      PX36BVAL  EMISSIONS_SS\n",
       "count  61493.000000  61493.000000  16130.000000\n",
       "mean       0.312573      0.351047      0.532982\n",
       "std        0.557965      0.628402      0.498926\n",
       "min        0.019073      0.019073      0.000000\n",
       "25%        0.019073      0.019073      0.000000\n",
       "50%        0.019073      0.019073      1.000000\n",
       "75%        0.019073      0.019073      1.000000\n",
       "max        3.074648      3.353121      1.000000"
      ]
     },
     "execution_count": 13,
     "metadata": {},
     "output_type": "execute_result"
    }
   ],
   "source": [
    "df_NaNs.describe()"
   ]
  },
  {
   "cell_type": "code",
   "execution_count": null,
   "id": "41471513",
   "metadata": {},
   "outputs": [],
   "source": [
    "#df1['EMISSIONS_SS'].plot()"
   ]
  },
  {
   "cell_type": "markdown",
   "id": "d93a947f",
   "metadata": {},
   "source": [
    "### data imputation for 2 columns"
   ]
  },
  {
   "cell_type": "code",
   "execution_count": 14,
   "id": "c97743f5",
   "metadata": {},
   "outputs": [
    {
     "name": "stderr",
     "output_type": "stream",
     "text": [
      "/usr/local/lib/python3.8/dist-packages/pandas/core/frame.py:4901: SettingWithCopyWarning: \n",
      "A value is trying to be set on a copy of a slice from a DataFrame\n",
      "\n",
      "See the caveats in the documentation: https://pandas.pydata.org/pandas-docs/stable/user_guide/indexing.html#returning-a-view-versus-a-copy\n",
      "  return super().drop(\n"
     ]
    }
   ],
   "source": [
    "df_NaNs.drop('EMISSIONS_SS',axis=1,inplace=True)"
   ]
  },
  {
   "cell_type": "code",
   "execution_count": 16,
   "id": "4a25b870",
   "metadata": {},
   "outputs": [],
   "source": [
    "df_NaNs = df_NaNs.assign(FillMedian=df['PX36AVAL'].fillna(df['PX36AVAL']).median())"
   ]
  },
  {
   "cell_type": "code",
   "execution_count": 20,
   "id": "e4c8e77b",
   "metadata": {},
   "outputs": [
    {
     "data": {
      "text/html": [
       "<div>\n",
       "<style scoped>\n",
       "    .dataframe tbody tr th:only-of-type {\n",
       "        vertical-align: middle;\n",
       "    }\n",
       "\n",
       "    .dataframe tbody tr th {\n",
       "        vertical-align: top;\n",
       "    }\n",
       "\n",
       "    .dataframe thead th {\n",
       "        text-align: right;\n",
       "    }\n",
       "</style>\n",
       "<table border=\"1\" class=\"dataframe\">\n",
       "  <thead>\n",
       "    <tr style=\"text-align: right;\">\n",
       "      <th></th>\n",
       "      <th>PX36AVAL</th>\n",
       "      <th>FillMedian</th>\n",
       "    </tr>\n",
       "  </thead>\n",
       "  <tbody>\n",
       "    <tr>\n",
       "      <th>count</th>\n",
       "      <td>61493.000000</td>\n",
       "      <td>6.633100e+04</td>\n",
       "    </tr>\n",
       "    <tr>\n",
       "      <th>mean</th>\n",
       "      <td>0.312573</td>\n",
       "      <td>1.907350e-02</td>\n",
       "    </tr>\n",
       "    <tr>\n",
       "      <th>std</th>\n",
       "      <td>0.557965</td>\n",
       "      <td>3.469473e-18</td>\n",
       "    </tr>\n",
       "    <tr>\n",
       "      <th>min</th>\n",
       "      <td>0.019073</td>\n",
       "      <td>1.907350e-02</td>\n",
       "    </tr>\n",
       "    <tr>\n",
       "      <th>25%</th>\n",
       "      <td>0.019073</td>\n",
       "      <td>1.907350e-02</td>\n",
       "    </tr>\n",
       "    <tr>\n",
       "      <th>50%</th>\n",
       "      <td>0.019073</td>\n",
       "      <td>1.907350e-02</td>\n",
       "    </tr>\n",
       "    <tr>\n",
       "      <th>75%</th>\n",
       "      <td>0.019073</td>\n",
       "      <td>1.907350e-02</td>\n",
       "    </tr>\n",
       "    <tr>\n",
       "      <th>max</th>\n",
       "      <td>3.074648</td>\n",
       "      <td>1.907350e-02</td>\n",
       "    </tr>\n",
       "  </tbody>\n",
       "</table>\n",
       "</div>"
      ],
      "text/plain": [
       "           PX36AVAL    FillMedian\n",
       "count  61493.000000  6.633100e+04\n",
       "mean       0.312573  1.907350e-02\n",
       "std        0.557965  3.469473e-18\n",
       "min        0.019073  1.907350e-02\n",
       "25%        0.019073  1.907350e-02\n",
       "50%        0.019073  1.907350e-02\n",
       "75%        0.019073  1.907350e-02\n",
       "max        3.074648  1.907350e-02"
      ]
     },
     "execution_count": 20,
     "metadata": {},
     "output_type": "execute_result"
    }
   ],
   "source": [
    "df_NaNs_PX36AVAL=df_NaNs[['PX36AVAL','FillMedian']]\n",
    "df_NaNs_PX36AVAL.describe()"
   ]
  },
  {
   "cell_type": "code",
   "execution_count": 30,
   "id": "8a10df7e",
   "metadata": {},
   "outputs": [
    {
     "data": {
      "text/plain": [
       "<AxesSubplot:xlabel='Timestamp'>"
      ]
     },
     "execution_count": 30,
     "metadata": {},
     "output_type": "execute_result"
    },
    {
     "data": {
      "image/png": "[encoded data removed]",
      "text/plain": [
       "<Figure size 1080x360 with 1 Axes>"
      ]
     },
     "metadata": {
      "needs_background": "light"
     },
     "output_type": "display_data"
    }
   ],
   "source": [
    "df_NaNs_PX36AVAL.plot(style=['k--', 'bo-'], figsize=(15, 5))"
   ]
  },
  {
   "cell_type": "code",
   "execution_count": 27,
   "id": "0ddfbe8e",
   "metadata": {},
   "outputs": [
    {
     "data": {
      "text/plain": [
       "<AxesSubplot:xlabel='Timestamp'>"
      ]
     },
     "execution_count": 27,
     "metadata": {},
     "output_type": "execute_result"
    },
    {
     "data": {
      "image/png": "[encoded data removed]",
      "text/plain": [
       "<Figure size 1080x360 with 1 Axes>"
      ]
     },
     "metadata": {
      "needs_background": "light"
     },
     "output_type": "display_data"
    }
   ],
   "source": [
    "df_NaNs_PX36AVAL['PX36AVAL'].plot(figsize=(15,5))"
   ]
  },
  {
   "cell_type": "code",
   "execution_count": 36,
   "id": "3d294c9b",
   "metadata": {},
   "outputs": [
    {
     "data": {
      "text/plain": [
       "<AxesSubplot:xlabel='Timestamp'>"
      ]
     },
     "execution_count": 36,
     "metadata": {},
     "output_type": "execute_result"
    },
    {
     "data": {
      "image/png": "[encoded data removed]",
      "text/plain": [
       "<Figure size 1080x360 with 1 Axes>"
      ]
     },
     "metadata": {
      "needs_background": "light"
     },
     "output_type": "display_data"
    }
   ],
   "source": [
    "df_NaNs_PX36BVAL.plot(style=['k', 'b-'], figsize=(15, 5))"
   ]
  },
  {
   "cell_type": "code",
   "execution_count": 34,
   "id": "fc9e7fdd",
   "metadata": {},
   "outputs": [
    {
     "data": {
      "text/plain": [
       "<AxesSubplot:xlabel='Timestamp'>"
      ]
     },
     "execution_count": 34,
     "metadata": {},
     "output_type": "execute_result"
    },
    {
     "data": {
      "image/png": "[encoded data removed]",
      "text/plain": [
       "<Figure size 720x360 with 1 Axes>"
      ]
     },
     "metadata": {
      "needs_background": "light"
     },
     "output_type": "display_data"
    }
   ],
   "source": [
    "df_NaNs_PX36BVAL['PX36BVAL'].plot(figsize=(10,5))"
   ]
  },
  {
   "cell_type": "code",
   "execution_count": null,
   "id": "609163c2",
   "metadata": {},
   "outputs": [],
   "source": [
    "df_NaNs.plot(style=['k--', 'bo-', 'r*'], figsize=(10, 5))"
   ]
  },
  {
   "cell_type": "code",
   "execution_count": 31,
   "id": "91738a19",
   "metadata": {},
   "outputs": [],
   "source": [
    "df_NaNs = df_NaNs.assign(FillMedian_B=df['PX36BVAL'].fillna(df['PX36BVAL']).median())"
   ]
  },
  {
   "cell_type": "code",
   "execution_count": 32,
   "id": "44bbb4e2",
   "metadata": {},
   "outputs": [
    {
     "data": {
      "text/html": [
       "<div>\n",
       "<style scoped>\n",
       "    .dataframe tbody tr th:only-of-type {\n",
       "        vertical-align: middle;\n",
       "    }\n",
       "\n",
       "    .dataframe tbody tr th {\n",
       "        vertical-align: top;\n",
       "    }\n",
       "\n",
       "    .dataframe thead th {\n",
       "        text-align: right;\n",
       "    }\n",
       "</style>\n",
       "<table border=\"1\" class=\"dataframe\">\n",
       "  <thead>\n",
       "    <tr style=\"text-align: right;\">\n",
       "      <th></th>\n",
       "      <th>PX36BVAL</th>\n",
       "      <th>FillMedian_B</th>\n",
       "    </tr>\n",
       "  </thead>\n",
       "  <tbody>\n",
       "    <tr>\n",
       "      <th>count</th>\n",
       "      <td>61493.000000</td>\n",
       "      <td>6.633100e+04</td>\n",
       "    </tr>\n",
       "    <tr>\n",
       "      <th>mean</th>\n",
       "      <td>0.351047</td>\n",
       "      <td>1.907350e-02</td>\n",
       "    </tr>\n",
       "    <tr>\n",
       "      <th>std</th>\n",
       "      <td>0.628402</td>\n",
       "      <td>3.469473e-18</td>\n",
       "    </tr>\n",
       "    <tr>\n",
       "      <th>min</th>\n",
       "      <td>0.019073</td>\n",
       "      <td>1.907350e-02</td>\n",
       "    </tr>\n",
       "    <tr>\n",
       "      <th>25%</th>\n",
       "      <td>0.019073</td>\n",
       "      <td>1.907350e-02</td>\n",
       "    </tr>\n",
       "    <tr>\n",
       "      <th>50%</th>\n",
       "      <td>0.019073</td>\n",
       "      <td>1.907350e-02</td>\n",
       "    </tr>\n",
       "    <tr>\n",
       "      <th>75%</th>\n",
       "      <td>0.019073</td>\n",
       "      <td>1.907350e-02</td>\n",
       "    </tr>\n",
       "    <tr>\n",
       "      <th>max</th>\n",
       "      <td>3.353121</td>\n",
       "      <td>1.907350e-02</td>\n",
       "    </tr>\n",
       "  </tbody>\n",
       "</table>\n",
       "</div>"
      ],
      "text/plain": [
       "           PX36BVAL  FillMedian_B\n",
       "count  61493.000000  6.633100e+04\n",
       "mean       0.351047  1.907350e-02\n",
       "std        0.628402  3.469473e-18\n",
       "min        0.019073  1.907350e-02\n",
       "25%        0.019073  1.907350e-02\n",
       "50%        0.019073  1.907350e-02\n",
       "75%        0.019073  1.907350e-02\n",
       "max        3.353121  1.907350e-02"
      ]
     },
     "execution_count": 32,
     "metadata": {},
     "output_type": "execute_result"
    }
   ],
   "source": [
    "df_NaNs_PX36BVAL=df_NaNs[['PX36BVAL','FillMedian_B']]\n",
    "df_NaNs_PX36BVAL.describe()"
   ]
  },
  {
   "cell_type": "code",
   "execution_count": 37,
   "id": "2ac35767",
   "metadata": {},
   "outputs": [],
   "source": [
    "\n",
    "df_NaNs['PX36AVAL_inter']=df['PX36AVAL'].interpolate(method='linear')\n",
    "df_NaNs['PX36BVAL_inter']=df['PX36BVAL'].interpolate(method='linear')"
   ]
  },
  {
   "cell_type": "code",
   "execution_count": 38,
   "id": "8eacbf2a",
   "metadata": {},
   "outputs": [
    {
     "data": {
      "text/html": [
       "<div>\n",
       "<style scoped>\n",
       "    .dataframe tbody tr th:only-of-type {\n",
       "        vertical-align: middle;\n",
       "    }\n",
       "\n",
       "    .dataframe tbody tr th {\n",
       "        vertical-align: top;\n",
       "    }\n",
       "\n",
       "    .dataframe thead th {\n",
       "        text-align: right;\n",
       "    }\n",
       "</style>\n",
       "<table border=\"1\" class=\"dataframe\">\n",
       "  <thead>\n",
       "    <tr style=\"text-align: right;\">\n",
       "      <th></th>\n",
       "      <th>PX36AVAL</th>\n",
       "      <th>PX36BVAL</th>\n",
       "      <th>FillMedian</th>\n",
       "      <th>FillMedian_B</th>\n",
       "      <th>PX36AVAL_inter</th>\n",
       "      <th>PX36BVAL_inter</th>\n",
       "    </tr>\n",
       "  </thead>\n",
       "  <tbody>\n",
       "    <tr>\n",
       "      <th>count</th>\n",
       "      <td>61493.000000</td>\n",
       "      <td>61493.000000</td>\n",
       "      <td>6.633100e+04</td>\n",
       "      <td>6.633100e+04</td>\n",
       "      <td>66331.000000</td>\n",
       "      <td>66331.000000</td>\n",
       "    </tr>\n",
       "    <tr>\n",
       "      <th>mean</th>\n",
       "      <td>0.312573</td>\n",
       "      <td>0.351047</td>\n",
       "      <td>1.907350e-02</td>\n",
       "      <td>1.907350e-02</td>\n",
       "      <td>0.342558</td>\n",
       "      <td>0.383377</td>\n",
       "    </tr>\n",
       "    <tr>\n",
       "      <th>std</th>\n",
       "      <td>0.557965</td>\n",
       "      <td>0.628402</td>\n",
       "      <td>3.469473e-18</td>\n",
       "      <td>3.469473e-18</td>\n",
       "      <td>0.574891</td>\n",
       "      <td>0.645162</td>\n",
       "    </tr>\n",
       "    <tr>\n",
       "      <th>min</th>\n",
       "      <td>0.019073</td>\n",
       "      <td>0.019073</td>\n",
       "      <td>1.907350e-02</td>\n",
       "      <td>1.907350e-02</td>\n",
       "      <td>0.019073</td>\n",
       "      <td>0.019073</td>\n",
       "    </tr>\n",
       "    <tr>\n",
       "      <th>25%</th>\n",
       "      <td>0.019073</td>\n",
       "      <td>0.019073</td>\n",
       "      <td>1.907350e-02</td>\n",
       "      <td>1.907350e-02</td>\n",
       "      <td>0.019073</td>\n",
       "      <td>0.019073</td>\n",
       "    </tr>\n",
       "    <tr>\n",
       "      <th>50%</th>\n",
       "      <td>0.019073</td>\n",
       "      <td>0.019073</td>\n",
       "      <td>1.907350e-02</td>\n",
       "      <td>1.907350e-02</td>\n",
       "      <td>0.019073</td>\n",
       "      <td>0.019073</td>\n",
       "    </tr>\n",
       "    <tr>\n",
       "      <th>75%</th>\n",
       "      <td>0.019073</td>\n",
       "      <td>0.019073</td>\n",
       "      <td>1.907350e-02</td>\n",
       "      <td>1.907350e-02</td>\n",
       "      <td>0.785828</td>\n",
       "      <td>0.904084</td>\n",
       "    </tr>\n",
       "    <tr>\n",
       "      <th>max</th>\n",
       "      <td>3.074648</td>\n",
       "      <td>3.353121</td>\n",
       "      <td>1.907350e-02</td>\n",
       "      <td>1.907350e-02</td>\n",
       "      <td>3.074648</td>\n",
       "      <td>3.353121</td>\n",
       "    </tr>\n",
       "  </tbody>\n",
       "</table>\n",
       "</div>"
      ],
      "text/plain": [
       "           PX36AVAL      PX36BVAL    FillMedian  FillMedian_B  PX36AVAL_inter  \\\n",
       "count  61493.000000  61493.000000  6.633100e+04  6.633100e+04    66331.000000   \n",
       "mean       0.312573      0.351047  1.907350e-02  1.907350e-02        0.342558   \n",
       "std        0.557965      0.628402  3.469473e-18  3.469473e-18        0.574891   \n",
       "min        0.019073      0.019073  1.907350e-02  1.907350e-02        0.019073   \n",
       "25%        0.019073      0.019073  1.907350e-02  1.907350e-02        0.019073   \n",
       "50%        0.019073      0.019073  1.907350e-02  1.907350e-02        0.019073   \n",
       "75%        0.019073      0.019073  1.907350e-02  1.907350e-02        0.785828   \n",
       "max        3.074648      3.353121  1.907350e-02  1.907350e-02        3.074648   \n",
       "\n",
       "       PX36BVAL_inter  \n",
       "count    66331.000000  \n",
       "mean         0.383377  \n",
       "std          0.645162  \n",
       "min          0.019073  \n",
       "25%          0.019073  \n",
       "50%          0.019073  \n",
       "75%          0.904084  \n",
       "max          3.353121  "
      ]
     },
     "execution_count": 38,
     "metadata": {},
     "output_type": "execute_result"
    }
   ],
   "source": [
    "df_NaNs.describe()"
   ]
  },
  {
   "cell_type": "code",
   "execution_count": null,
   "id": "59bf506e",
   "metadata": {},
   "outputs": [],
   "source": [
    "#imputation by interpolate method\n",
    "# df['PX36AVAL']=df['PX36AVAL'].interpolate(method='linear')\n",
    "# df['PX36BVAL']=df['PX36BVAL'].interpolate(method='linear')\n",
    "#There are no null values"
   ]
  },
  {
   "cell_type": "code",
   "execution_count": 41,
   "id": "c35f71d5",
   "metadata": {},
   "outputs": [],
   "source": [
    "df['PX36AVAL'].fillna(df['PX36AVAL'].median(),inplace=True)\n",
    "df['PX36BVAL'].fillna(df['PX36BVAL'].median(),inplace=True)"
   ]
  },
  {
   "cell_type": "code",
   "execution_count": null,
   "id": "bf0dba71",
   "metadata": {},
   "outputs": [],
   "source": [
    "#df.drop(['NOX15','CO15'],axis=1,inplace=True)"
   ]
  },
  {
   "cell_type": "code",
   "execution_count": 43,
   "id": "74b288eb",
   "metadata": {},
   "outputs": [
    {
     "data": {
      "text/plain": [
       "(4, 44)"
      ]
     },
     "execution_count": 43,
     "metadata": {},
     "output_type": "execute_result"
    }
   ],
   "source": [
    "# check any duplicates are there\n",
    "df_duplicates = df[df.duplicated()]\n",
    "df_duplicates.shape"
   ]
  },
  {
   "cell_type": "code",
   "execution_count": 44,
   "id": "eae544e8",
   "metadata": {},
   "outputs": [
    {
     "data": {
      "text/html": [
       "<div>\n",
       "<style scoped>\n",
       "    .dataframe tbody tr th:only-of-type {\n",
       "        vertical-align: middle;\n",
       "    }\n",
       "\n",
       "    .dataframe tbody tr th {\n",
       "        vertical-align: top;\n",
       "    }\n",
       "\n",
       "    .dataframe thead th {\n",
       "        text-align: right;\n",
       "    }\n",
       "</style>\n",
       "<table border=\"1\" class=\"dataframe\">\n",
       "  <thead>\n",
       "    <tr style=\"text-align: right;\">\n",
       "      <th></th>\n",
       "      <th>BRNDMD</th>\n",
       "      <th>WFPILM</th>\n",
       "      <th>F_FARFLI</th>\n",
       "      <th>F_FARFLO</th>\n",
       "      <th>F_FARFL</th>\n",
       "      <th>F_W2</th>\n",
       "      <th>F_WA36</th>\n",
       "      <th>F_WB3Q</th>\n",
       "      <th>F_WF36DMD</th>\n",
       "      <th>P2SEL</th>\n",
       "      <th>...</th>\n",
       "      <th>LHVSEL</th>\n",
       "      <th>SGSEL</th>\n",
       "      <th>NOX_HMI</th>\n",
       "      <th>CO_HMI</th>\n",
       "      <th>O2_HMI</th>\n",
       "      <th>VLVFBKG_06</th>\n",
       "      <th>SSFILTER</th>\n",
       "      <th>F_WB3</th>\n",
       "      <th>NOX15</th>\n",
       "      <th>CO15</th>\n",
       "    </tr>\n",
       "    <tr>\n",
       "      <th>Timestamp</th>\n",
       "      <th></th>\n",
       "      <th></th>\n",
       "      <th></th>\n",
       "      <th></th>\n",
       "      <th></th>\n",
       "      <th></th>\n",
       "      <th></th>\n",
       "      <th></th>\n",
       "      <th></th>\n",
       "      <th></th>\n",
       "      <th></th>\n",
       "      <th></th>\n",
       "      <th></th>\n",
       "      <th></th>\n",
       "      <th></th>\n",
       "      <th></th>\n",
       "      <th></th>\n",
       "      <th></th>\n",
       "      <th></th>\n",
       "      <th></th>\n",
       "      <th></th>\n",
       "    </tr>\n",
       "  </thead>\n",
       "  <tbody>\n",
       "    <tr>\n",
       "      <th>2020-09-23 07:21:00</th>\n",
       "      <td>40</td>\n",
       "      <td>4145.062988</td>\n",
       "      <td>0.031654</td>\n",
       "      <td>0.033234</td>\n",
       "      <td>0.033810</td>\n",
       "      <td>138.322082</td>\n",
       "      <td>103.889565</td>\n",
       "      <td>0.001</td>\n",
       "      <td>9553.990234</td>\n",
       "      <td>14.244010</td>\n",
       "      <td>...</td>\n",
       "      <td>21106.19355</td>\n",
       "      <td>0.581417</td>\n",
       "      <td>23.302296</td>\n",
       "      <td>3.763980</td>\n",
       "      <td>14.388108</td>\n",
       "      <td>1</td>\n",
       "      <td>1.0</td>\n",
       "      <td>0.138322</td>\n",
       "      <td>21.129373</td>\n",
       "      <td>21.129373</td>\n",
       "    </tr>\n",
       "    <tr>\n",
       "      <th>2020-09-23 07:22:00</th>\n",
       "      <td>40</td>\n",
       "      <td>4145.062988</td>\n",
       "      <td>0.031654</td>\n",
       "      <td>0.033234</td>\n",
       "      <td>0.033810</td>\n",
       "      <td>138.322082</td>\n",
       "      <td>103.889565</td>\n",
       "      <td>0.001</td>\n",
       "      <td>9553.990234</td>\n",
       "      <td>14.244010</td>\n",
       "      <td>...</td>\n",
       "      <td>21106.19355</td>\n",
       "      <td>0.581417</td>\n",
       "      <td>23.302296</td>\n",
       "      <td>3.763980</td>\n",
       "      <td>14.388108</td>\n",
       "      <td>1</td>\n",
       "      <td>1.0</td>\n",
       "      <td>0.138322</td>\n",
       "      <td>21.129373</td>\n",
       "      <td>21.129373</td>\n",
       "    </tr>\n",
       "    <tr>\n",
       "      <th>2020-09-24 05:40:00</th>\n",
       "      <td>0</td>\n",
       "      <td>0.000000</td>\n",
       "      <td>0.051119</td>\n",
       "      <td>0.055447</td>\n",
       "      <td>0.000405</td>\n",
       "      <td>2.889691</td>\n",
       "      <td>2.143178</td>\n",
       "      <td>0.001</td>\n",
       "      <td>1.000000</td>\n",
       "      <td>14.567661</td>\n",
       "      <td>...</td>\n",
       "      <td>20999.87232</td>\n",
       "      <td>0.579901</td>\n",
       "      <td>0.005507</td>\n",
       "      <td>-0.095311</td>\n",
       "      <td>20.870802</td>\n",
       "      <td>1</td>\n",
       "      <td>0.0</td>\n",
       "      <td>0.002890</td>\n",
       "      <td>0.413766</td>\n",
       "      <td>0.413766</td>\n",
       "    </tr>\n",
       "    <tr>\n",
       "      <th>2020-09-24 05:41:00</th>\n",
       "      <td>0</td>\n",
       "      <td>0.000000</td>\n",
       "      <td>0.051119</td>\n",
       "      <td>0.055447</td>\n",
       "      <td>0.000405</td>\n",
       "      <td>2.889691</td>\n",
       "      <td>2.143178</td>\n",
       "      <td>0.001</td>\n",
       "      <td>1.000000</td>\n",
       "      <td>14.567661</td>\n",
       "      <td>...</td>\n",
       "      <td>20999.87232</td>\n",
       "      <td>0.579901</td>\n",
       "      <td>0.005507</td>\n",
       "      <td>-0.095311</td>\n",
       "      <td>20.870802</td>\n",
       "      <td>1</td>\n",
       "      <td>0.0</td>\n",
       "      <td>0.002890</td>\n",
       "      <td>0.413766</td>\n",
       "      <td>0.413766</td>\n",
       "    </tr>\n",
       "  </tbody>\n",
       "</table>\n",
       "<p>4 rows × 44 columns</p>\n",
       "</div>"
      ],
      "text/plain": [
       "                     BRNDMD       WFPILM  F_FARFLI  F_FARFLO   F_FARFL  \\\n",
       "Timestamp                                                                \n",
       "2020-09-23 07:21:00      40  4145.062988  0.031654  0.033234  0.033810   \n",
       "2020-09-23 07:22:00      40  4145.062988  0.031654  0.033234  0.033810   \n",
       "2020-09-24 05:40:00       0     0.000000  0.051119  0.055447  0.000405   \n",
       "2020-09-24 05:41:00       0     0.000000  0.051119  0.055447  0.000405   \n",
       "\n",
       "                           F_W2      F_WA36  F_WB3Q    F_WF36DMD      P2SEL  \\\n",
       "Timestamp                                                                     \n",
       "2020-09-23 07:21:00  138.322082  103.889565   0.001  9553.990234  14.244010   \n",
       "2020-09-23 07:22:00  138.322082  103.889565   0.001  9553.990234  14.244010   \n",
       "2020-09-24 05:40:00    2.889691    2.143178   0.001     1.000000  14.567661   \n",
       "2020-09-24 05:41:00    2.889691    2.143178   0.001     1.000000  14.567661   \n",
       "\n",
       "                     ...       LHVSEL     SGSEL    NOX_HMI    CO_HMI  \\\n",
       "Timestamp            ...                                               \n",
       "2020-09-23 07:21:00  ...  21106.19355  0.581417  23.302296  3.763980   \n",
       "2020-09-23 07:22:00  ...  21106.19355  0.581417  23.302296  3.763980   \n",
       "2020-09-24 05:40:00  ...  20999.87232  0.579901   0.005507 -0.095311   \n",
       "2020-09-24 05:41:00  ...  20999.87232  0.579901   0.005507 -0.095311   \n",
       "\n",
       "                        O2_HMI  VLVFBKG_06  SSFILTER     F_WB3      NOX15  \\\n",
       "Timestamp                                                                   \n",
       "2020-09-23 07:21:00  14.388108           1       1.0  0.138322  21.129373   \n",
       "2020-09-23 07:22:00  14.388108           1       1.0  0.138322  21.129373   \n",
       "2020-09-24 05:40:00  20.870802           1       0.0  0.002890   0.413766   \n",
       "2020-09-24 05:41:00  20.870802           1       0.0  0.002890   0.413766   \n",
       "\n",
       "                          CO15  \n",
       "Timestamp                       \n",
       "2020-09-23 07:21:00  21.129373  \n",
       "2020-09-23 07:22:00  21.129373  \n",
       "2020-09-24 05:40:00   0.413766  \n",
       "2020-09-24 05:41:00   0.413766  \n",
       "\n",
       "[4 rows x 44 columns]"
      ]
     },
     "execution_count": 44,
     "metadata": {},
     "output_type": "execute_result"
    }
   ],
   "source": [
    "df_duplicates\n",
    "# since the timestamp is different these rows can be included."
   ]
  },
  {
   "cell_type": "code",
   "execution_count": null,
   "id": "3c5c68f8",
   "metadata": {},
   "outputs": [],
   "source": [
    "#create a baseline model"
   ]
  },
  {
   "cell_type": "code",
   "execution_count": null,
   "id": "9850a9bc",
   "metadata": {},
   "outputs": [],
   "source": [
    "print(list(df.columns))"
   ]
  },
  {
   "cell_type": "code",
   "execution_count": null,
   "id": "faff6486",
   "metadata": {},
   "outputs": [],
   "source": [
    "#columns=['NOX15', 'CO15','NOX_HMI','CO_HMI']\n",
    "#drop 'NOX15', 'CO15'\n",
    "#predict 'NOX_HMI','CO_HMI'"
   ]
  },
  {
   "cell_type": "code",
   "execution_count": null,
   "id": "053b0275",
   "metadata": {},
   "outputs": [],
   "source": [
    "#right now no need\n",
    "# df.drop(['NOX15', 'CO15'],axis=1,inplace=True)\n",
    "# df.shape"
   ]
  },
  {
   "cell_type": "code",
   "execution_count": null,
   "id": "3fbc6fcf",
   "metadata": {},
   "outputs": [],
   "source": [
    "# will split the data to 70:30 for training and testing\n",
    "0.70*66327"
   ]
  },
  {
   "cell_type": "code",
   "execution_count": 45,
   "id": "e9c6a22d",
   "metadata": {},
   "outputs": [
    {
     "name": "stdout",
     "output_type": "stream",
     "text": [
      "(46428, 44) (19903, 44)\n"
     ]
    }
   ],
   "source": [
    "train_df,test_df=df[:46428],df[46428:]\n",
    "print(train_df.shape,test_df.shape)"
   ]
  },
  {
   "cell_type": "code",
   "execution_count": 46,
   "id": "b31c936b",
   "metadata": {},
   "outputs": [],
   "source": [
    "from sklearn.multioutput import MultiOutputRegressor\n",
    "import xgboost as xgb\n",
    "from sklearn.model_selection import train_test_split\n",
    "from sklearn.metrics import r2_score,mean_squared_error\n",
    "import math"
   ]
  },
  {
   "cell_type": "code",
   "execution_count": 47,
   "id": "e63f99e0",
   "metadata": {},
   "outputs": [],
   "source": [
    "OUTPUT_COLUMNS=['NOX_HMI','CO_HMI']"
   ]
  },
  {
   "cell_type": "code",
   "execution_count": 48,
   "id": "2cdab1eb",
   "metadata": {},
   "outputs": [],
   "source": [
    "train_X=train_df.drop(OUTPUT_COLUMNS,axis=1)\n",
    "train_y=train_df[OUTPUT_COLUMNS]\n",
    "test_X=test_df.drop(OUTPUT_COLUMNS,axis=1)\n",
    "test_y=test_df[OUTPUT_COLUMNS]"
   ]
  },
  {
   "cell_type": "code",
   "execution_count": 49,
   "id": "c6ebced7",
   "metadata": {},
   "outputs": [
    {
     "name": "stdout",
     "output_type": "stream",
     "text": [
      "(46428, 42) (46428, 2) (19903, 42) (19903, 2)\n"
     ]
    }
   ],
   "source": [
    "print(train_X.shape,train_y.shape,test_X.shape,test_y.shape)"
   ]
  },
  {
   "cell_type": "code",
   "execution_count": 50,
   "id": "046a4d70",
   "metadata": {},
   "outputs": [
    {
     "name": "stdout",
     "output_type": "stream",
     "text": [
      "['BRNDMD', 'WFPILM', 'F_FARFLI', 'F_FARFLO', 'F_FARFL', 'F_W2', 'F_WA36', 'F_WB3Q', 'F_WF36DMD', 'P2SEL', 'PS3SEL', 'T2SEL', 'T3SEL', 'TFLCYCS', 'TFLPDFS', 'TFLIDFS', 'TFLODFS', 'WFINRM', 'WFOTRM', 'WFQPERRCOR', 'A90RH', 'F_WAFL', 'NGGSEL', 'PX36SEL', 'PX36AVAL', 'PX36BVAL', 'NPTSEL', 'NPTREF', 'DWB36PCT', 'REGULATOR', 'T48SEL', 'CDPSEL', 'T8SEL', 'P48SEL', 'LHVSEL', 'SGSEL', 'O2_HMI', 'VLVFBKG_06', 'SSFILTER', 'F_WB3', 'NOX15', 'CO15']\n"
     ]
    }
   ],
   "source": [
    "print(list(train_X.columns))\n"
   ]
  },
  {
   "cell_type": "code",
   "execution_count": null,
   "id": "c00cd986",
   "metadata": {},
   "outputs": [],
   "source": [
    "# old_pred_tr=train_X[['NOX15', 'CO15']]\n",
    "\n",
    "# old_pred_test=test_X[['NOX15', 'CO15']]\n",
    "# print(old_pred_tr.shape,old_pred_test.shape)"
   ]
  },
  {
   "cell_type": "code",
   "execution_count": 51,
   "id": "dd2f217d",
   "metadata": {},
   "outputs": [],
   "source": [
    "# #drop these columns\n",
    "train_X.drop(['NOX15', 'CO15'],axis=1,inplace=True)\n",
    "test_X.drop(['NOX15', 'CO15'],axis=1,inplace=True)"
   ]
  },
  {
   "cell_type": "code",
   "execution_count": 52,
   "id": "31f7cc87",
   "metadata": {},
   "outputs": [
    {
     "name": "stdout",
     "output_type": "stream",
     "text": [
      "(46428, 40) (19903, 40) (46428, 2) (19903, 2)\n"
     ]
    }
   ],
   "source": [
    "print(train_X.shape,test_X.shape,train_y.shape,test_y.shape)"
   ]
  },
  {
   "cell_type": "code",
   "execution_count": 53,
   "id": "9701560d",
   "metadata": {},
   "outputs": [],
   "source": [
    "other_params={'learning_rate':0.1,'n_estimators':300,'max_depth':5,'min_child_weight':1,'subsample':0.8,'colsample_bytree':0.8}"
   ]
  },
  {
   "cell_type": "code",
   "execution_count": 54,
   "id": "4458be30",
   "metadata": {},
   "outputs": [],
   "source": [
    "multioutputregressor=MultiOutputRegressor(xgb.XGBRegressor(objective='reg:squarederror',**other_params)).fit(train_X,train_y)"
   ]
  },
  {
   "cell_type": "code",
   "execution_count": 55,
   "id": "8f60eab6",
   "metadata": {},
   "outputs": [],
   "source": [
    "predictions=multioutputregressor.predict(test_X)"
   ]
  },
  {
   "cell_type": "code",
   "execution_count": 56,
   "id": "72510a5f",
   "metadata": {},
   "outputs": [
    {
     "name": "stdout",
     "output_type": "stream",
     "text": [
      "Root_mean_squared_error_test set 4.752500495484383\n",
      "R2 Score_test set 0.9221337083946902\n"
     ]
    }
   ],
   "source": [
    "#for test set\n",
    "print('Root_mean_squared_error_test set',math.sqrt(mean_squared_error(test_y,predictions)))\n",
    "print('R2 Score_test set',r2_score(test_y,predictions))"
   ]
  },
  {
   "cell_type": "code",
   "execution_count": null,
   "id": "b63a8fbc",
   "metadata": {},
   "outputs": [],
   "source": [
    "#find out separately the mean squared error of CO and NO HMIs\n"
   ]
  },
  {
   "cell_type": "code",
   "execution_count": null,
   "id": "29054ac9",
   "metadata": {},
   "outputs": [],
   "source": [
    "test_y.iloc[0:2]"
   ]
  },
  {
   "cell_type": "code",
   "execution_count": null,
   "id": "2e9ba377",
   "metadata": {},
   "outputs": [],
   "source": [
    "predictions[0:2]"
   ]
  },
  {
   "cell_type": "code",
   "execution_count": null,
   "id": "30457eeb",
   "metadata": {},
   "outputs": [],
   "source": [
    "predictions[:,1]"
   ]
  },
  {
   "cell_type": "code",
   "execution_count": 59,
   "id": "2026d36f",
   "metadata": {},
   "outputs": [
    {
     "name": "stdout",
     "output_type": "stream",
     "text": [
      "Root_mean_squared_error_test set_CO_HMI 5.930353099896555\n",
      "R2 Score_test set_CO_HMI 0.8629227265849247\n"
     ]
    }
   ],
   "source": [
    "print('Root_mean_squared_error_test set_CO_HMI',math.sqrt(mean_squared_error(test_y['CO_HMI'],predictions[:,1])))\n",
    "print('R2 Score_test set_CO_HMI',r2_score(test_y['CO_HMI'],predictions[:,1]))"
   ]
  },
  {
   "cell_type": "code",
   "execution_count": 60,
   "id": "35a4b11b",
   "metadata": {},
   "outputs": [
    {
     "name": "stdout",
     "output_type": "stream",
     "text": [
      "Root_mean_squared_error_test set_NOX 3.1628205813333654\n",
      "R2 Score_test set_NOX 0.9813446902044557\n"
     ]
    }
   ],
   "source": [
    "print('Root_mean_squared_error_test set_NOX',math.sqrt(mean_squared_error(test_y['NOX_HMI'],predictions[:,0])))\n",
    "print('R2 Score_test set_NOX',r2_score(test_y['NOX_HMI'],predictions[:,0]))"
   ]
  },
  {
   "cell_type": "code",
   "execution_count": null,
   "id": "c96ff437",
   "metadata": {},
   "outputs": [],
   "source": [
    "CO_NO_predictions=pd.DataFrame({'CO_HMI_real':test_y['CO_HMI'],'CO_HMI_predicted':predictions[:,1],'NOX_HMI_real':test_y['NOX_HMI'],'NOX_HMI_predicted':predictions[:,0]})"
   ]
  },
  {
   "cell_type": "code",
   "execution_count": null,
   "id": "0de9c15f",
   "metadata": {},
   "outputs": [],
   "source": [
    "CO_NO_predictions.shape"
   ]
  },
  {
   "cell_type": "code",
   "execution_count": null,
   "id": "7c8e86d4",
   "metadata": {},
   "outputs": [],
   "source": [
    "CO_NO_predictions.tail()"
   ]
  },
  {
   "cell_type": "code",
   "execution_count": null,
   "id": "5574bf12",
   "metadata": {},
   "outputs": [],
   "source": [
    "CO_NO_predictions.plot(figsize=(12,6))"
   ]
  },
  {
   "cell_type": "code",
   "execution_count": null,
   "id": "7efa1148",
   "metadata": {},
   "outputs": [],
   "source": [
    "plt.figure(2)\n",
    "plt.plot(y)\n",
    "plt.plot(y_pred_full)\n",
    "plt.grid(True)"
   ]
  },
  {
   "cell_type": "code",
   "execution_count": null,
   "id": "f1873912",
   "metadata": {},
   "outputs": [],
   "source": [
    "plt.figure(figsize=(12,5))\n",
    "plt.plot(CO_NO_predictions['CO_HMI_real'], label='CO_Real')\n",
    "plt.plot(CO_NO_predictions['CO_HMI_predicted'], label='CO_Predicted')\n",
    "plt.legend()\n",
    "plt.show()"
   ]
  },
  {
   "cell_type": "code",
   "execution_count": null,
   "id": "de139723",
   "metadata": {},
   "outputs": [],
   "source": [
    "plt.figure(figsize=(12,5))\n",
    "plt.plot(CO_NO_predictions['NOX_HMI_real'], label='NOX_Real')\n",
    "plt.plot(CO_NO_predictions['NOX_HMI_predicted'], label='NOX_Predicted')\n",
    "plt.legend()\n",
    "plt.show()"
   ]
  },
  {
   "cell_type": "code",
   "execution_count": null,
   "id": "8229c5a5",
   "metadata": {},
   "outputs": [],
   "source": []
  },
  {
   "cell_type": "markdown",
   "id": "23091bc4",
   "metadata": {},
   "source": [
    "# Try Random Forest model"
   ]
  },
  {
   "cell_type": "code",
   "execution_count": null,
   "id": "a78a67e1",
   "metadata": {},
   "outputs": [],
   "source": [
    "from sklearn.multioutput import MultiOutputRegressor\n",
    "from sklearn.ensemble import RandomForestRegressor"
   ]
  },
  {
   "cell_type": "code",
   "execution_count": null,
   "id": "a861aaf4",
   "metadata": {},
   "outputs": [],
   "source": [
    "max_depth = 30\n",
    "regr_multirf = MultiOutputRegressor(RandomForestRegressor(n_estimators=100,\n",
    "                                                          max_depth=max_depth,\n",
    "                                                          random_state=0))\n",
    "regr_multirf.fit(train_X, train_y)\n"
   ]
  },
  {
   "cell_type": "code",
   "execution_count": null,
   "id": "52b4d5a6",
   "metadata": {},
   "outputs": [],
   "source": [
    "predictions_rf=regr_multirf.predict(test_X)"
   ]
  },
  {
   "cell_type": "code",
   "execution_count": null,
   "id": "c2832f17",
   "metadata": {},
   "outputs": [],
   "source": [
    "#for test set\n",
    "print('Root_mean_squared_error_test set',math.sqrt(mean_squared_error(test_y,predictions_rf)))\n",
    "print('R2 Score_test set',r2_score(test_y,predictions_rf))"
   ]
  },
  {
   "cell_type": "code",
   "execution_count": null,
   "id": "70b67f52",
   "metadata": {},
   "outputs": [],
   "source": [
    "print('Root_mean_squared_error_test set_CO_HMI',math.sqrt(mean_squared_error(test_y['CO_HMI'],predictions_rf[:,1])))\n",
    "print('R2 Score_test set_CO_HMI',r2_score(test_y['CO_HMI'],predictions_rf[:,1]))\n",
    "print('Root_mean_squared_error_test set_NOX',math.sqrt(mean_squared_error(test_y['NOX_HMI'],predictions_rf[:,0])))\n",
    "print('R2 Score_test set_NOX',r2_score(test_y['NOX_HMI'],predictions_rf[:,0]))\n"
   ]
  },
  {
   "cell_type": "code",
   "execution_count": null,
   "id": "a92da14c",
   "metadata": {},
   "outputs": [],
   "source": []
  },
  {
   "cell_type": "code",
   "execution_count": null,
   "id": "f05b421e",
   "metadata": {},
   "outputs": [],
   "source": []
  },
  {
   "cell_type": "code",
   "execution_count": null,
   "id": "92dd4e0c",
   "metadata": {},
   "outputs": [],
   "source": []
  },
  {
   "cell_type": "code",
   "execution_count": null,
   "id": "e890f4c0",
   "metadata": {},
   "outputs": [],
   "source": [
    "regr_rf = RandomForestRegressor(n_estimators=100, max_depth=max_depth,\n",
    "                                random_state=2)\n",
    "regr_rf.fit(train_X, train_y)"
   ]
  },
  {
   "cell_type": "code",
   "execution_count": null,
   "id": "3699bb5f",
   "metadata": {},
   "outputs": [],
   "source": [
    "predictions_rf_0=regr_rf.predict(test_X)"
   ]
  },
  {
   "cell_type": "code",
   "execution_count": null,
   "id": "2c447ee8",
   "metadata": {},
   "outputs": [],
   "source": [
    "#for test set\n",
    "print('Root_mean_squared_error_test set',math.sqrt(mean_squared_error(test_y,predictions_rf)))\n",
    "print('R2 Score_test set',r2_score(test_y,predictions_rf))"
   ]
  },
  {
   "cell_type": "code",
   "execution_count": null,
   "id": "d69e4e43",
   "metadata": {},
   "outputs": [],
   "source": []
  },
  {
   "cell_type": "code",
   "execution_count": null,
   "id": "07f36d02",
   "metadata": {},
   "outputs": [],
   "source": []
  },
  {
   "cell_type": "code",
   "execution_count": null,
   "id": "cad0e6bd",
   "metadata": {},
   "outputs": [],
   "source": []
  },
  {
   "cell_type": "code",
   "execution_count": null,
   "id": "ac9e697b",
   "metadata": {},
   "outputs": [],
   "source": []
  },
  {
   "cell_type": "code",
   "execution_count": null,
   "id": "c1816acd",
   "metadata": {},
   "outputs": [],
   "source": []
  },
  {
   "cell_type": "code",
   "execution_count": null,
   "id": "9e28980f",
   "metadata": {},
   "outputs": [],
   "source": []
  },
  {
   "cell_type": "markdown",
   "id": "fd4433a6",
   "metadata": {},
   "source": [
    "## ignore these cells "
   ]
  },
  {
   "cell_type": "code",
   "execution_count": null,
   "id": "c874f1be",
   "metadata": {},
   "outputs": [],
   "source": [
    "# let us check # checking with old predicted values\n",
    "print('Root_mean_squared_error',math.sqrt(mean_squared_error(train_y,old_pred_tr)))\n",
    "print('R2 Score',r2_score(train_y,old_pred_tr))"
   ]
  },
  {
   "cell_type": "code",
   "execution_count": null,
   "id": "1f424027",
   "metadata": {},
   "outputs": [],
   "source": [
    "print('Root_mean_squared_error',math.sqrt(mean_squared_error(test_y,old_pred_test)))\n",
    "print(r2_score(test_y,old_pred_test))"
   ]
  },
  {
   "cell_type": "code",
   "execution_count": null,
   "id": "07761e9d",
   "metadata": {},
   "outputs": [],
   "source": []
  },
  {
   "cell_type": "code",
   "execution_count": null,
   "id": "9716ce85",
   "metadata": {},
   "outputs": [],
   "source": []
  },
  {
   "cell_type": "code",
   "execution_count": null,
   "id": "19a56661",
   "metadata": {},
   "outputs": [],
   "source": [
    "#ignore the following cells"
   ]
  },
  {
   "cell_type": "code",
   "execution_count": null,
   "id": "9a13191f",
   "metadata": {},
   "outputs": [],
   "source": [
    "ax=sns.boxplot(data=df_NaNs)"
   ]
  },
  {
   "cell_type": "code",
   "execution_count": null,
   "id": "6f89fc3b",
   "metadata": {},
   "outputs": [],
   "source": [
    "sns.set_style('darkgrid')\n",
    "df.plot(kind='line',legend='reverse',title='Visualize')\n",
    "plt.legend(loc='upper right',shadow=True,bbox_to_anchor=(1.35,1.0))\n",
    "plt.show"
   ]
  },
  {
   "cell_type": "code",
   "execution_count": null,
   "id": "ac2ac0db",
   "metadata": {},
   "outputs": [],
   "source": [
    "\n"
   ]
  },
  {
   "cell_type": "code",
   "execution_count": null,
   "id": "3366293d",
   "metadata": {},
   "outputs": [],
   "source": []
  },
  {
   "cell_type": "code",
   "execution_count": null,
   "id": "abe26a86",
   "metadata": {},
   "outputs": [],
   "source": []
  },
  {
   "cell_type": "code",
   "execution_count": null,
   "id": "be1c2c67",
   "metadata": {},
   "outputs": [],
   "source": []
  }
 ],
 "metadata": {
  "kernelspec": {
   "display_name": "Python 3 (ipykernel)",
   "language": "python",
   "name": "python3"
  },
  "language_info": {
   "codemirror_mode": {
    "name": "ipython",
    "version": 3
   },
   "file_extension": ".py",
   "mimetype": "text/x-python",
   "name": "python",
   "nbconvert_exporter": "python",
   "pygments_lexer": "ipython3",
   "version": "3.8.10"
  },
  "varInspector": {
   "cols": {
    "lenName": 16,
    "lenType": 16,
    "lenVar": 40
   },
   "kernels_config": {
    "python": {
     "delete_cmd_postfix": "",
     "delete_cmd_prefix": "del ",
     "library": "var_list.py",
     "varRefreshCmd": "print(var_dic_list())"
    },
    "r": {
     "delete_cmd_postfix": ") ",
     "delete_cmd_prefix": "rm(",
     "library": "var_list.r",
     "varRefreshCmd": "cat(var_dic_list()) "
    }
   },
   "types_to_exclude": [
    "module",
    "function",
    "builtin_function_or_method",
    "instance",
    "_Feature"
   ],
   "window_display": false
  }
 },
 "nbformat": 4,
 "nbformat_minor": 5
}
