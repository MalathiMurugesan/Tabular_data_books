{
 "cells": [
  {
   "cell_type": "code",
   "execution_count": null,
   "id": "26d3103d",
   "metadata": {},
   "outputs": [],
   "source": []
  },
  {
   "cell_type": "code",
   "execution_count": null,
   "id": "78caf85e",
   "metadata": {},
   "outputs": [],
   "source": [
    "# Try LSTM and its variants"
   ]
  },
  {
   "cell_type": "code",
   "execution_count": 4,
   "id": "45e4e47b",
   "metadata": {},
   "outputs": [
    {
     "name": "stderr",
     "output_type": "stream",
     "text": [
      "2021-09-03 09:01:33.410981: I tensorflow/stream_executor/platform/default/dso_loader.cc:53] Successfully opened dynamic library libcudart.so.11.0\n"
     ]
    }
   ],
   "source": [
    "import tensorflow as tf\n",
    "from tensorflow.keras.callbacks import CSVLogger, EarlyStopping\n",
    "\n",
    "from tensorflow.keras.models import Sequential\n",
    "from tensorflow.keras.layers import LSTM\n",
    "from tensorflow.keras.layers import Dense, Dropout\n",
    "\n",
    "import matplotlib as mpl\n",
    "import matplotlib.pyplot as plt\n",
    "%matplotlib inline\n",
    "import numpy as np\n",
    "import pandas as pd\n",
    "import seaborn as sns\n",
    "import time\n",
    "import gc\n",
    "import sys\n",
    "\n",
    "from sklearn.preprocessing import MinMaxScaler\n",
    "\n",
    "from sklearn.metrics import mean_absolute_error,mean_absolute_percentage_error\n",
    "from sklearn.metrics import r2_score,mean_squared_error\n",
    "from sklearn import metrics"
   ]
  },
  {
   "cell_type": "code",
   "execution_count": 5,
   "id": "77b52949",
   "metadata": {},
   "outputs": [],
   "source": [
    "data=pd.read_csv('data_modified.csv')\n",
    "data['DateTime']=pd.to_datetime(data['DateTime'])\n",
    "data=data.set_index('DateTime')"
   ]
  },
  {
   "cell_type": "code",
   "execution_count": 6,
   "id": "10c3b0c4",
   "metadata": {},
   "outputs": [
    {
     "name": "stdout",
     "output_type": "stream",
     "text": [
      "False\n",
      "(1512, 45) (505, 45)\n",
      "2020-10-15 18:35:00 2020-10-16 19:46:00\n",
      "2020-10-16 19:47:00 2020-10-17 04:11:00\n",
      "1 days 01:11:00\n",
      "0 days 08:24:00\n"
     ]
    }
   ],
   "source": [
    "dff=data.copy()\n",
    "print(dff.isnull().sum().any())\n",
    "#dff=df.copy()\n",
    "split=int(0.75*len(dff))\n",
    "train_data=dff[:split]\n",
    "test_data=dff[split:]\n",
    "print(train_data.shape,test_data.shape)\n",
    "print(train_data.index.min(),train_data.index.max())\n",
    "print(test_data.index.min(),test_data.index.max()) ##??\n",
    "print(train_data.index.max()-train_data.index.min())\n",
    "print(test_data.index.max()-test_data.index.min())"
   ]
  },
  {
   "cell_type": "code",
   "execution_count": 7,
   "id": "307e7000",
   "metadata": {},
   "outputs": [],
   "source": [
    "dff=dff[['BRNDMD', 'WFPILM', 'F_FARFLI', 'F_FARFLO', 'F_FARFL',\n",
    "       'F_W2', 'F_WA36', 'F_WB3Q', 'F_WF36DMD', 'P2SEL', 'PS3SEL', 'T2SEL',\n",
    "       'T3SEL', 'TFLCYCS', 'TFLPDFS', 'TFLIDFS', 'TFLODFS', 'WFINRM', 'WFOTRM',\n",
    "       'WFQPERRCOR', 'A90RH', 'F_WAFL', 'NGGSEL', 'PX36SEL', 'PX36AVAL',\n",
    "       'PX36BVAL', 'NPTSEL', 'NPTREF', 'DWB36PCT', 'REGULATOR', 'T48SEL',\n",
    "       'CDPSEL', 'T8SEL', 'P48SEL', 'LHVSEL', 'SGSEL','O2_HMI', 'VLVFBKG_06','SSFILTER', 'F_WB3','NOX_HMI','CO_HMI' ]]"
   ]
  },
  {
   "cell_type": "code",
   "execution_count": 8,
   "id": "c3362a4f",
   "metadata": {},
   "outputs": [
    {
     "name": "stdout",
     "output_type": "stream",
     "text": [
      "(2017, 42)\n",
      "(15, 42)\n"
     ]
    }
   ],
   "source": [
    "# validate data for 15 minutes with its predictions 15 minutes\n",
    "print(dff.shape)\n",
    "validate=dff.tail(15)\n",
    "print(validate.shape)\n",
    "dff.drop(dff.tail(15).index,inplace=True)"
   ]
  },
  {
   "cell_type": "code",
   "execution_count": 9,
   "id": "0d45ea7f",
   "metadata": {},
   "outputs": [
    {
     "data": {
      "text/plain": [
       "(15,)"
      ]
     },
     "execution_count": 9,
     "metadata": {},
     "output_type": "execute_result"
    }
   ],
   "source": [
    "validate['CO_HMI'].shape"
   ]
  },
  {
   "cell_type": "code",
   "execution_count": 10,
   "id": "cdc199ea",
   "metadata": {},
   "outputs": [
    {
     "name": "stdout",
     "output_type": "stream",
     "text": [
      "(2002, 42)\n"
     ]
    }
   ],
   "source": [
    "print(dff.shape)"
   ]
  },
  {
   "cell_type": "code",
   "execution_count": 11,
   "id": "0056edee",
   "metadata": {},
   "outputs": [],
   "source": [
    "X_data=dff[['BRNDMD', 'WFPILM', 'F_FARFLI', 'F_FARFLO', 'F_FARFL', 'F_W2', 'F_WA36',\n",
    "       'F_WB3Q', 'F_WF36DMD', 'P2SEL', 'PS3SEL', 'T2SEL', 'T3SEL', 'TFLCYCS',\n",
    "       'TFLPDFS', 'TFLIDFS', 'TFLODFS', 'WFINRM', 'WFOTRM', 'WFQPERRCOR',\n",
    "       'A90RH', 'F_WAFL', 'NGGSEL', 'PX36SEL', 'PX36AVAL', 'PX36BVAL',\n",
    "       'NPTSEL', 'NPTREF', 'DWB36PCT', 'REGULATOR', 'T48SEL', 'CDPSEL',\n",
    "       'T8SEL', 'P48SEL', 'LHVSEL', 'SGSEL', 'O2_HMI',\n",
    "       'VLVFBKG_06', 'SSFILTER', 'F_WB3','NOX_HMI','CO_HMI']]\n",
    "Y_data=dff[['CO_HMI']]"
   ]
  },
  {
   "cell_type": "code",
   "execution_count": null,
   "id": "43c0fe45",
   "metadata": {},
   "outputs": [],
   "source": [
    "# X_data=X_data.values\n",
    "# Y_data=Y_data.values"
   ]
  },
  {
   "cell_type": "code",
   "execution_count": 12,
   "id": "10961289",
   "metadata": {},
   "outputs": [],
   "source": [
    "X_scaler=MinMaxScaler()\n",
    "Y_scaler=MinMaxScaler()\n",
    "x_data=X_scaler.fit_transform(X_data)\n",
    "y_data=Y_scaler.fit_transform(Y_data)"
   ]
  },
  {
   "cell_type": "code",
   "execution_count": 13,
   "id": "91bd7413",
   "metadata": {},
   "outputs": [],
   "source": [
    "\n",
    "def data_lstm(dataset,target,start,end,past_history,n_future):\n",
    "    X=[]\n",
    "    y=[]\n",
    "    start=start+past_history\n",
    "    if end is None:\n",
    "        end=len(dataset)-n_future\n",
    "    for i in range(start,end):\n",
    "        indices=range(i-past_history,i)\n",
    "        X.append(dataset[indices])\n",
    "        indices_y=range(i+1,i+1+n_future)\n",
    "        y.append(target[indices_y])\n",
    "   \n",
    "    return np.array(X), np.array(y)"
   ]
  },
  {
   "cell_type": "code",
   "execution_count": 14,
   "id": "48c9d899",
   "metadata": {},
   "outputs": [],
   "source": [
    "#60, 15 \n",
    "split=int(len(dff)*(80/100))\n",
    "past_history=60\n",
    "n_future=15\n",
    "TRAIN_SPLIT=split\n",
    "x_train,y_train=data_lstm(x_data,y_data,0,TRAIN_SPLIT,past_history,n_future)\n",
    "x_val,y_val=data_lstm(x_data,y_data,TRAIN_SPLIT,None,past_history,n_future)\n"
   ]
  },
  {
   "cell_type": "code",
   "execution_count": 15,
   "id": "dffd4331",
   "metadata": {},
   "outputs": [
    {
     "name": "stdout",
     "output_type": "stream",
     "text": [
      "(1541, 60, 42) (1541, 15, 1) (326, 60, 42) (326, 15, 1)\n"
     ]
    }
   ],
   "source": [
    "print(x_train.shape,y_train.shape,x_val.shape,y_val.shape)"
   ]
  },
  {
   "cell_type": "code",
   "execution_count": 16,
   "id": "094daefc",
   "metadata": {},
   "outputs": [
    {
     "name": "stderr",
     "output_type": "stream",
     "text": [
      "2021-09-03 09:02:09.540854: I tensorflow/stream_executor/platform/default/dso_loader.cc:53] Successfully opened dynamic library libcuda.so.1\n",
      "2021-09-03 09:02:09.666122: I tensorflow/core/common_runtime/gpu/gpu_device.cc:1734] Found device 0 with properties: \n",
      "pciBusID: 0000:8a:00.0 name: Tesla V100-SXM2-32GB computeCapability: 7.0\n",
      "coreClock: 1.53GHz coreCount: 80 deviceMemorySize: 31.75GiB deviceMemoryBandwidth: 836.37GiB/s\n",
      "2021-09-03 09:02:09.666162: I tensorflow/stream_executor/platform/default/dso_loader.cc:53] Successfully opened dynamic library libcudart.so.11.0\n",
      "2021-09-03 09:02:09.671398: I tensorflow/stream_executor/platform/default/dso_loader.cc:53] Successfully opened dynamic library libcublas.so.11\n",
      "2021-09-03 09:02:09.671450: I tensorflow/stream_executor/platform/default/dso_loader.cc:53] Successfully opened dynamic library libcublasLt.so.11\n",
      "2021-09-03 09:02:09.674435: I tensorflow/stream_executor/platform/default/dso_loader.cc:53] Successfully opened dynamic library libcufft.so.10\n",
      "2021-09-03 09:02:09.674762: I tensorflow/stream_executor/platform/default/dso_loader.cc:53] Successfully opened dynamic library libcurand.so.10\n",
      "2021-09-03 09:02:09.675365: I tensorflow/stream_executor/platform/default/dso_loader.cc:53] Successfully opened dynamic library libcusolver.so.11\n",
      "2021-09-03 09:02:09.676417: I tensorflow/stream_executor/platform/default/dso_loader.cc:53] Successfully opened dynamic library libcusparse.so.11\n",
      "2021-09-03 09:02:09.676590: I tensorflow/stream_executor/platform/default/dso_loader.cc:53] Successfully opened dynamic library libcudnn.so.8\n",
      "2021-09-03 09:02:09.681424: I tensorflow/core/common_runtime/gpu/gpu_device.cc:1872] Adding visible gpu devices: 0\n",
      "2021-09-03 09:02:09.688314: I tensorflow/core/common_runtime/gpu/gpu_device.cc:1734] Found device 0 with properties: \n",
      "pciBusID: 0000:8a:00.0 name: Tesla V100-SXM2-32GB computeCapability: 7.0\n",
      "coreClock: 1.53GHz coreCount: 80 deviceMemorySize: 31.75GiB deviceMemoryBandwidth: 836.37GiB/s\n",
      "2021-09-03 09:02:09.692762: I tensorflow/core/common_runtime/gpu/gpu_device.cc:1872] Adding visible gpu devices: 0\n",
      "2021-09-03 09:02:09.692804: I tensorflow/stream_executor/platform/default/dso_loader.cc:53] Successfully opened dynamic library libcudart.so.11.0\n",
      "2021-09-03 09:02:10.552641: I tensorflow/core/common_runtime/gpu/gpu_device.cc:1258] Device interconnect StreamExecutor with strength 1 edge matrix:\n",
      "2021-09-03 09:02:10.552686: I tensorflow/core/common_runtime/gpu/gpu_device.cc:1264]      0 \n",
      "2021-09-03 09:02:10.552695: I tensorflow/core/common_runtime/gpu/gpu_device.cc:1277] 0:   N \n",
      "2021-09-03 09:02:10.560169: I tensorflow/core/common_runtime/gpu/gpu_device.cc:1418] Created TensorFlow device (/job:localhost/replica:0/task:0/device:GPU:0 with 29968 MB memory) -> physical GPU (device: 0, name: Tesla V100-SXM2-32GB, pci bus id: 0000:8a:00.0, compute capability: 7.0)\n"
     ]
    }
   ],
   "source": [
    "batch_size=32\n",
    "buffer_size=50\n",
    "train_data=tf.data.Dataset.from_tensor_slices((x_train,y_train))\n",
    "train_data=train_data.cache().shuffle(buffer_size).batch(batch_size).repeat()\n",
    "val_data=tf.data.Dataset.from_tensor_slices((x_val,y_val))\n",
    "val_data=val_data.batch(batch_size).repeat()"
   ]
  },
  {
   "cell_type": "code",
   "execution_count": null,
   "id": "8da592a2",
   "metadata": {},
   "outputs": [],
   "source": [
    "#  kernel_regularizer=keras.regularizers.l2(kr),\n",
    "#                         recurrent_regularizer=keras.regularizers.l2(rr),\n",
    "#                         bias_regularizer=keras.regularizers.l2(br)"
   ]
  },
  {
   "cell_type": "code",
   "execution_count": 66,
   "id": "988fced2",
   "metadata": {},
   "outputs": [
    {
     "name": "stdout",
     "output_type": "stream",
     "text": [
      "Model: \"sequential_9\"\n",
      "_________________________________________________________________\n",
      "Layer (type)                 Output Shape              Param #   \n",
      "=================================================================\n",
      "bidirectional_20 (Bidirectio (None, 60, 32)            7552      \n",
      "_________________________________________________________________\n",
      "dense_39 (Dense)             (None, 60, 8)             264       \n",
      "_________________________________________________________________\n",
      "bidirectional_21 (Bidirectio (None, 100)               23600     \n",
      "_________________________________________________________________\n",
      "dense_40 (Dense)             (None, 8)                 808       \n",
      "_________________________________________________________________\n",
      "dense_41 (Dense)             (None, 4)                 36        \n",
      "_________________________________________________________________\n",
      "dropout_10 (Dropout)         (None, 4)                 0         \n",
      "_________________________________________________________________\n",
      "dense_42 (Dense)             (None, 15)                75        \n",
      "=================================================================\n",
      "Total params: 32,335\n",
      "Trainable params: 32,335\n",
      "Non-trainable params: 0\n",
      "_________________________________________________________________\n"
     ]
    }
   ],
   "source": [
    "lstm_bidirectional_model = tf.keras.models.Sequential([\n",
    "   tf.keras.layers.Bidirectional(tf.keras.layers.LSTM(16, return_sequences=True), \n",
    "                                input_shape=x_train.shape[-2:]),\n",
    "     tf.keras.layers.Dense(8, activation='tanh'),\n",
    "     tf.keras.layers.Bidirectional(tf.keras.layers.LSTM(50)),\n",
    "     tf.keras.layers.Dense(8, activation='tanh'),\n",
    "     tf.keras.layers.Dense(4, activation='tanh'),\n",
    "     tf.keras.layers.Dropout(0.2),\n",
    "     tf.keras.layers.Dense(units=n_future),\n",
    " ])\n",
    "lstm_bidirectional_model.compile(optimizer='adam', loss='mse')\n",
    "lstm_bidirectional_model.summary() \n"
   ]
  },
  {
   "cell_type": "code",
   "execution_count": 67,
   "id": "cc781718",
   "metadata": {},
   "outputs": [
    {
     "name": "stdout",
     "output_type": "stream",
     "text": [
      "Epoch 1/150\n",
      "45/45 [==============================] - 9s 65ms/step - loss: 0.1137 - val_loss: 0.1826\n",
      "Epoch 2/150\n",
      "45/45 [==============================] - 1s 19ms/step - loss: 0.0889 - val_loss: 0.1373\n",
      "Epoch 3/150\n",
      "45/45 [==============================] - 1s 20ms/step - loss: 0.0665 - val_loss: 0.0673\n",
      "Epoch 4/150\n",
      "45/45 [==============================] - 1s 19ms/step - loss: 0.0493 - val_loss: 0.0352\n",
      "Epoch 5/150\n",
      "45/45 [==============================] - 1s 20ms/step - loss: 0.0426 - val_loss: 0.0239\n",
      "Epoch 6/150\n",
      "45/45 [==============================] - 1s 19ms/step - loss: 0.0407 - val_loss: 0.0164\n",
      "Epoch 7/150\n",
      "45/45 [==============================] - 1s 19ms/step - loss: 0.0369 - val_loss: 0.0122\n",
      "Epoch 8/150\n",
      "45/45 [==============================] - 1s 19ms/step - loss: 0.0274 - val_loss: 0.0093\n",
      "Epoch 9/150\n",
      "45/45 [==============================] - 1s 19ms/step - loss: 0.0239 - val_loss: 0.0090\n",
      "Epoch 10/150\n",
      "45/45 [==============================] - 1s 20ms/step - loss: 0.0229 - val_loss: 0.0079\n",
      "Epoch 11/150\n",
      "45/45 [==============================] - 1s 19ms/step - loss: 0.0211 - val_loss: 0.0074\n",
      "Epoch 12/150\n",
      "45/45 [==============================] - 1s 19ms/step - loss: 0.0216 - val_loss: 0.0067\n",
      "Epoch 13/150\n",
      "45/45 [==============================] - 1s 20ms/step - loss: 0.0191 - val_loss: 0.0070\n",
      "Epoch 14/150\n",
      "45/45 [==============================] - 1s 19ms/step - loss: 0.0182 - val_loss: 0.0059\n",
      "Epoch 15/150\n",
      "45/45 [==============================] - 1s 20ms/step - loss: 0.0181 - val_loss: 0.0068\n",
      "Epoch 16/150\n",
      "45/45 [==============================] - 1s 20ms/step - loss: 0.0167 - val_loss: 0.0115\n",
      "Epoch 17/150\n",
      "45/45 [==============================] - 1s 19ms/step - loss: 0.0182 - val_loss: 0.0057\n",
      "Epoch 18/150\n",
      "45/45 [==============================] - 1s 19ms/step - loss: 0.0165 - val_loss: 0.0147\n",
      "Epoch 19/150\n",
      "45/45 [==============================] - 1s 20ms/step - loss: 0.0181 - val_loss: 0.0162\n",
      "Epoch 20/150\n",
      "45/45 [==============================] - 1s 19ms/step - loss: 0.0156 - val_loss: 0.0250\n",
      "Epoch 21/150\n",
      "45/45 [==============================] - 1s 19ms/step - loss: 0.0151 - val_loss: 0.0246\n",
      "Epoch 22/150\n",
      "45/45 [==============================] - 1s 19ms/step - loss: 0.0167 - val_loss: 0.0068\n",
      "Epoch 23/150\n",
      "45/45 [==============================] - 1s 19ms/step - loss: 0.0151 - val_loss: 0.0048\n",
      "Epoch 24/150\n",
      "45/45 [==============================] - 1s 20ms/step - loss: 0.0163 - val_loss: 0.0068\n",
      "Epoch 25/150\n",
      "45/45 [==============================] - 1s 19ms/step - loss: 0.0146 - val_loss: 0.0074\n",
      "Epoch 26/150\n",
      "45/45 [==============================] - 1s 18ms/step - loss: 0.0133 - val_loss: 0.0282\n",
      "Epoch 27/150\n",
      "45/45 [==============================] - 1s 19ms/step - loss: 0.0131 - val_loss: 0.0065\n",
      "Epoch 28/150\n",
      "45/45 [==============================] - 1s 20ms/step - loss: 0.0144 - val_loss: 0.0190\n",
      "Epoch 29/150\n",
      "45/45 [==============================] - 1s 19ms/step - loss: 0.0138 - val_loss: 0.0043\n",
      "Epoch 30/150\n",
      "45/45 [==============================] - 1s 19ms/step - loss: 0.0132 - val_loss: 0.0081\n",
      "Epoch 31/150\n",
      "45/45 [==============================] - 1s 19ms/step - loss: 0.0132 - val_loss: 0.0049\n",
      "Epoch 32/150\n",
      "45/45 [==============================] - 1s 20ms/step - loss: 0.0121 - val_loss: 0.0330\n",
      "Epoch 33/150\n",
      "45/45 [==============================] - 1s 20ms/step - loss: 0.0125 - val_loss: 0.0339\n",
      "Epoch 34/150\n",
      "45/45 [==============================] - 1s 20ms/step - loss: 0.0129 - val_loss: 0.0237\n",
      "Epoch 35/150\n",
      "45/45 [==============================] - 1s 19ms/step - loss: 0.0125 - val_loss: 0.0093\n",
      "Epoch 36/150\n",
      "45/45 [==============================] - 1s 20ms/step - loss: 0.0125 - val_loss: 0.0107\n",
      "Epoch 37/150\n",
      "45/45 [==============================] - 1s 19ms/step - loss: 0.0126 - val_loss: 0.0077\n",
      "Epoch 38/150\n",
      "45/45 [==============================] - 1s 19ms/step - loss: 0.0109 - val_loss: 0.0186\n",
      "Epoch 39/150\n",
      "45/45 [==============================] - 1s 19ms/step - loss: 0.0111 - val_loss: 0.0264\n",
      "Epoch 40/150\n",
      "45/45 [==============================] - 1s 19ms/step - loss: 0.0119 - val_loss: 0.0116\n",
      "Epoch 41/150\n",
      "45/45 [==============================] - 1s 19ms/step - loss: 0.0109 - val_loss: 0.0043\n",
      "Epoch 42/150\n",
      "45/45 [==============================] - 1s 20ms/step - loss: 0.0113 - val_loss: 0.0153\n",
      "Epoch 43/150\n",
      "45/45 [==============================] - 1s 19ms/step - loss: 0.0120 - val_loss: 0.0068\n",
      "Epoch 44/150\n",
      "45/45 [==============================] - 1s 19ms/step - loss: 0.0117 - val_loss: 0.0270\n",
      "Epoch 45/150\n",
      "45/45 [==============================] - 1s 19ms/step - loss: 0.0111 - val_loss: 0.0635\n",
      "Epoch 46/150\n",
      "45/45 [==============================] - 1s 19ms/step - loss: 0.0126 - val_loss: 0.0458\n",
      "Epoch 47/150\n",
      "45/45 [==============================] - 1s 19ms/step - loss: 0.0131 - val_loss: 0.0120\n",
      "Epoch 48/150\n",
      "45/45 [==============================] - 1s 19ms/step - loss: 0.0118 - val_loss: 0.0059\n",
      "Epoch 49/150\n",
      "45/45 [==============================] - 1s 19ms/step - loss: 0.0116 - val_loss: 0.0203\n",
      "Epoch 50/150\n",
      "45/45 [==============================] - 1s 19ms/step - loss: 0.0103 - val_loss: 0.0211\n",
      "Epoch 51/150\n",
      "45/45 [==============================] - 1s 19ms/step - loss: 0.0101 - val_loss: 0.0045\n",
      "Epoch 52/150\n",
      "45/45 [==============================] - 1s 19ms/step - loss: 0.0110 - val_loss: 0.0163\n",
      "Epoch 53/150\n",
      "45/45 [==============================] - 1s 19ms/step - loss: 0.0108 - val_loss: 0.0064\n",
      "Epoch 54/150\n",
      "45/45 [==============================] - 1s 19ms/step - loss: 0.0114 - val_loss: 0.0096\n",
      "Epoch 55/150\n",
      "45/45 [==============================] - 1s 20ms/step - loss: 0.0105 - val_loss: 0.0408\n",
      "Epoch 56/150\n",
      "45/45 [==============================] - 1s 20ms/step - loss: 0.0114 - val_loss: 0.0263\n",
      "Epoch 57/150\n",
      "45/45 [==============================] - 1s 19ms/step - loss: 0.0111 - val_loss: 0.0048\n",
      "Epoch 58/150\n",
      "45/45 [==============================] - 1s 19ms/step - loss: 0.0109 - val_loss: 0.0217\n",
      "Epoch 59/150\n",
      "45/45 [==============================] - 1s 21ms/step - loss: 0.0105 - val_loss: 0.0113\n",
      "Epoch 60/150\n",
      "45/45 [==============================] - 1s 19ms/step - loss: 0.0106 - val_loss: 0.0219\n",
      "Epoch 61/150\n",
      "45/45 [==============================] - 1s 19ms/step - loss: 0.0105 - val_loss: 0.0153\n",
      "Epoch 62/150\n",
      "45/45 [==============================] - 1s 22ms/step - loss: 0.0094 - val_loss: 0.0218\n",
      "Epoch 63/150\n",
      "45/45 [==============================] - 1s 19ms/step - loss: 0.0097 - val_loss: 0.0106\n",
      "Epoch 64/150\n",
      "45/45 [==============================] - 1s 19ms/step - loss: 0.0100 - val_loss: 0.0104\n",
      "Epoch 65/150\n",
      "45/45 [==============================] - 1s 19ms/step - loss: 0.0099 - val_loss: 0.0261\n",
      "Epoch 66/150\n",
      "45/45 [==============================] - 1s 19ms/step - loss: 0.0106 - val_loss: 0.0108\n",
      "Epoch 67/150\n",
      "45/45 [==============================] - 1s 20ms/step - loss: 0.0098 - val_loss: 0.0291\n",
      "Epoch 68/150\n",
      "45/45 [==============================] - 1s 19ms/step - loss: 0.0103 - val_loss: 0.0365\n",
      "Epoch 69/150\n",
      "45/45 [==============================] - 1s 19ms/step - loss: 0.0113 - val_loss: 0.0060\n",
      "Epoch 70/150\n",
      "45/45 [==============================] - 1s 20ms/step - loss: 0.0114 - val_loss: 0.0226\n",
      "Epoch 71/150\n",
      "45/45 [==============================] - 1s 19ms/step - loss: 0.0107 - val_loss: 0.0151\n",
      "Epoch 72/150\n",
      "45/45 [==============================] - 1s 20ms/step - loss: 0.0112 - val_loss: 0.0136\n",
      "Epoch 73/150\n",
      "45/45 [==============================] - 1s 19ms/step - loss: 0.0107 - val_loss: 0.0196\n",
      "Epoch 74/150\n",
      "45/45 [==============================] - 1s 20ms/step - loss: 0.0097 - val_loss: 0.0265\n",
      "Epoch 75/150\n",
      "45/45 [==============================] - 1s 19ms/step - loss: 0.0092 - val_loss: 0.0088\n",
      "Epoch 76/150\n",
      "45/45 [==============================] - 1s 19ms/step - loss: 0.0111 - val_loss: 0.0300\n",
      "Epoch 77/150\n",
      "45/45 [==============================] - 1s 20ms/step - loss: 0.0094 - val_loss: 0.0546\n",
      "Epoch 78/150\n",
      "45/45 [==============================] - 1s 19ms/step - loss: 0.0098 - val_loss: 0.0654\n",
      "Epoch 79/150\n",
      "45/45 [==============================] - 1s 20ms/step - loss: 0.0103 - val_loss: 0.0209\n",
      "Epoch 80/150\n",
      "45/45 [==============================] - 1s 19ms/step - loss: 0.0104 - val_loss: 0.0046\n",
      "Epoch 81/150\n",
      "45/45 [==============================] - 1s 19ms/step - loss: 0.0096 - val_loss: 0.0259\n",
      "Epoch 82/150\n"
     ]
    },
    {
     "name": "stdout",
     "output_type": "stream",
     "text": [
      "45/45 [==============================] - 1s 19ms/step - loss: 0.0109 - val_loss: 0.0567\n",
      "Epoch 83/150\n",
      "45/45 [==============================] - 1s 19ms/step - loss: 0.0099 - val_loss: 0.0262\n",
      "Epoch 84/150\n",
      "45/45 [==============================] - 1s 20ms/step - loss: 0.0113 - val_loss: 0.0101\n",
      "Epoch 85/150\n",
      "45/45 [==============================] - 1s 19ms/step - loss: 0.0108 - val_loss: 0.0049\n",
      "Epoch 86/150\n",
      "45/45 [==============================] - 1s 19ms/step - loss: 0.0096 - val_loss: 0.0196\n",
      "Epoch 87/150\n",
      "45/45 [==============================] - 1s 19ms/step - loss: 0.0090 - val_loss: 0.0078\n",
      "Epoch 88/150\n",
      "45/45 [==============================] - 1s 19ms/step - loss: 0.0124 - val_loss: 0.0283\n",
      "Epoch 89/150\n",
      "45/45 [==============================] - 1s 20ms/step - loss: 0.0103 - val_loss: 0.0117\n",
      "Epoch 90/150\n",
      "45/45 [==============================] - 1s 20ms/step - loss: 0.0101 - val_loss: 0.0288\n",
      "Epoch 91/150\n",
      "45/45 [==============================] - 1s 20ms/step - loss: 0.0090 - val_loss: 0.0363\n",
      "Epoch 92/150\n",
      "45/45 [==============================] - 1s 20ms/step - loss: 0.0099 - val_loss: 0.0192\n",
      "Epoch 93/150\n",
      "45/45 [==============================] - 1s 20ms/step - loss: 0.0092 - val_loss: 0.0049\n",
      "Epoch 94/150\n",
      "45/45 [==============================] - 1s 19ms/step - loss: 0.0096 - val_loss: 0.0149\n",
      "Epoch 95/150\n",
      "45/45 [==============================] - 1s 19ms/step - loss: 0.0089 - val_loss: 0.0599\n",
      "Epoch 96/150\n",
      "45/45 [==============================] - 1s 19ms/step - loss: 0.0094 - val_loss: 0.0472\n",
      "Epoch 97/150\n",
      "45/45 [==============================] - 1s 18ms/step - loss: 0.0097 - val_loss: 0.0162\n",
      "Epoch 98/150\n",
      "45/45 [==============================] - 1s 19ms/step - loss: 0.0101 - val_loss: 0.0140\n",
      "Epoch 99/150\n",
      "45/45 [==============================] - 1s 20ms/step - loss: 0.0090 - val_loss: 0.0078\n",
      "Epoch 100/150\n",
      "45/45 [==============================] - 1s 19ms/step - loss: 0.0105 - val_loss: 0.0084\n",
      "Epoch 101/150\n",
      "45/45 [==============================] - 1s 19ms/step - loss: 0.0099 - val_loss: 0.0645\n",
      "Epoch 102/150\n",
      "45/45 [==============================] - 1s 19ms/step - loss: 0.0114 - val_loss: 0.0232\n",
      "Epoch 103/150\n",
      "45/45 [==============================] - 1s 20ms/step - loss: 0.0104 - val_loss: 0.0224\n",
      "Epoch 104/150\n",
      "45/45 [==============================] - 1s 19ms/step - loss: 0.0095 - val_loss: 0.0123\n",
      "Epoch 105/150\n",
      "45/45 [==============================] - 1s 20ms/step - loss: 0.0094 - val_loss: 0.0195\n",
      "Epoch 106/150\n",
      "45/45 [==============================] - 1s 19ms/step - loss: 0.0101 - val_loss: 0.0089\n",
      "Epoch 107/150\n",
      "45/45 [==============================] - 1s 19ms/step - loss: 0.0099 - val_loss: 0.0457\n",
      "Epoch 108/150\n",
      "45/45 [==============================] - 1s 19ms/step - loss: 0.0100 - val_loss: 0.0395\n",
      "Epoch 109/150\n",
      "45/45 [==============================] - 1s 19ms/step - loss: 0.0097 - val_loss: 0.0298\n",
      "Epoch 110/150\n",
      "45/45 [==============================] - 1s 19ms/step - loss: 0.0093 - val_loss: 0.0114\n",
      "Epoch 111/150\n",
      "45/45 [==============================] - 1s 19ms/step - loss: 0.0091 - val_loss: 0.0134\n",
      "Epoch 112/150\n",
      "45/45 [==============================] - 1s 19ms/step - loss: 0.0090 - val_loss: 0.0175\n",
      "Epoch 113/150\n",
      "45/45 [==============================] - 1s 20ms/step - loss: 0.0089 - val_loss: 0.0290\n",
      "Epoch 114/150\n",
      "45/45 [==============================] - 1s 20ms/step - loss: 0.0083 - val_loss: 0.0060\n",
      "Epoch 115/150\n",
      "45/45 [==============================] - 1s 19ms/step - loss: 0.0093 - val_loss: 0.0092\n",
      "Epoch 116/150\n",
      "45/45 [==============================] - 1s 19ms/step - loss: 0.0088 - val_loss: 0.0389\n",
      "Epoch 117/150\n",
      "45/45 [==============================] - 1s 19ms/step - loss: 0.0091 - val_loss: 0.0510\n",
      "Epoch 118/150\n",
      "45/45 [==============================] - 1s 19ms/step - loss: 0.0089 - val_loss: 0.0081\n",
      "Epoch 119/150\n",
      "45/45 [==============================] - 1s 19ms/step - loss: 0.0102 - val_loss: 0.0154\n",
      "Epoch 120/150\n",
      "45/45 [==============================] - 1s 20ms/step - loss: 0.0091 - val_loss: 0.0141\n",
      "Epoch 121/150\n",
      "45/45 [==============================] - 1s 20ms/step - loss: 0.0084 - val_loss: 0.0221\n",
      "Epoch 122/150\n",
      "45/45 [==============================] - 1s 19ms/step - loss: 0.0090 - val_loss: 0.0086\n",
      "Epoch 123/150\n",
      "45/45 [==============================] - 1s 19ms/step - loss: 0.0092 - val_loss: 0.0108\n",
      "Epoch 124/150\n",
      "45/45 [==============================] - 1s 19ms/step - loss: 0.0094 - val_loss: 0.0092\n",
      "Epoch 125/150\n",
      "45/45 [==============================] - 1s 19ms/step - loss: 0.0087 - val_loss: 0.0500\n",
      "Epoch 126/150\n",
      "45/45 [==============================] - 1s 20ms/step - loss: 0.0083 - val_loss: 0.0112\n",
      "Epoch 127/150\n",
      "45/45 [==============================] - 1s 19ms/step - loss: 0.0083 - val_loss: 0.0265\n",
      "Epoch 128/150\n",
      "45/45 [==============================] - 1s 20ms/step - loss: 0.0092 - val_loss: 0.0144\n",
      "Epoch 129/150\n",
      "45/45 [==============================] - 1s 20ms/step - loss: 0.0084 - val_loss: 0.0125\n",
      "Epoch 130/150\n",
      "45/45 [==============================] - 1s 20ms/step - loss: 0.0082 - val_loss: 0.0518\n",
      "Epoch 131/150\n",
      "45/45 [==============================] - 1s 20ms/step - loss: 0.0084 - val_loss: 0.0115\n",
      "Epoch 132/150\n",
      "45/45 [==============================] - 1s 19ms/step - loss: 0.0088 - val_loss: 0.0087\n",
      "Epoch 133/150\n",
      "45/45 [==============================] - 1s 19ms/step - loss: 0.0087 - val_loss: 0.0188\n",
      "Epoch 134/150\n",
      "45/45 [==============================] - 1s 19ms/step - loss: 0.0089 - val_loss: 0.0143\n",
      "Epoch 135/150\n",
      "45/45 [==============================] - 1s 20ms/step - loss: 0.0094 - val_loss: 0.0307\n",
      "Epoch 136/150\n",
      "45/45 [==============================] - 1s 19ms/step - loss: 0.0081 - val_loss: 0.0263\n",
      "Epoch 137/150\n",
      "45/45 [==============================] - 1s 19ms/step - loss: 0.0080 - val_loss: 0.0411\n",
      "Epoch 138/150\n",
      "45/45 [==============================] - 1s 20ms/step - loss: 0.0088 - val_loss: 0.0097\n",
      "Epoch 139/150\n",
      "45/45 [==============================] - 1s 19ms/step - loss: 0.0086 - val_loss: 0.0378\n",
      "Epoch 140/150\n",
      "45/45 [==============================] - 1s 20ms/step - loss: 0.0088 - val_loss: 0.0307\n",
      "Epoch 141/150\n",
      "45/45 [==============================] - 1s 20ms/step - loss: 0.0090 - val_loss: 0.0064\n",
      "Epoch 142/150\n",
      "45/45 [==============================] - 1s 19ms/step - loss: 0.0091 - val_loss: 0.0332\n",
      "Epoch 143/150\n",
      "45/45 [==============================] - 1s 20ms/step - loss: 0.0089 - val_loss: 0.0137\n",
      "Epoch 144/150\n",
      "45/45 [==============================] - 1s 20ms/step - loss: 0.0095 - val_loss: 0.0098\n",
      "Epoch 145/150\n",
      "45/45 [==============================] - 1s 19ms/step - loss: 0.0088 - val_loss: 0.0373\n",
      "Epoch 146/150\n",
      "45/45 [==============================] - 1s 19ms/step - loss: 0.0091 - val_loss: 0.0142\n",
      "Epoch 147/150\n",
      "45/45 [==============================] - 1s 19ms/step - loss: 0.0091 - val_loss: 0.0248\n",
      "Epoch 148/150\n",
      "45/45 [==============================] - 1s 20ms/step - loss: 0.0081 - val_loss: 0.0205\n",
      "Epoch 149/150\n",
      "45/45 [==============================] - 1s 19ms/step - loss: 0.0084 - val_loss: 0.0100\n",
      "Epoch 150/150\n",
      "45/45 [==============================] - 1s 19ms/step - loss: 0.0085 - val_loss: 0.0255\n"
     ]
    }
   ],
   "source": [
    "# from tf set tensor slicing\n",
    "#early_stopings=tf.keras.callbacks.EarlyStopping(monitor='val_loss',min_delta=0,patience=10,verbose=1,mode='min')\n",
    "history=lstm_bidirectional_model.fit(train_data,epochs=150,steps_per_epoch=45,validation_data=val_data,\n",
    "                    validation_steps=20,verbose=1)\n"
   ]
  },
  {
   "cell_type": "code",
   "execution_count": null,
   "id": "86b42c45",
   "metadata": {},
   "outputs": [],
   "source": [
    "#history=model.fit(x_train,y_train,epochs=150,validation_data=(x_val,y_val),batch_size=32,verbose=1,shuffle=False)\n"
   ]
  },
  {
   "cell_type": "code",
   "execution_count": 68,
   "id": "50aeae5b",
   "metadata": {},
   "outputs": [
    {
     "data": {
      "image/png": "[encoded data removed]",
      "text/plain": [
       "<Figure size 864x432 with 1 Axes>"
      ]
     },
     "metadata": {
      "needs_background": "light"
     },
     "output_type": "display_data"
    }
   ],
   "source": [
    "plt.figure(figsize=(12,6))\n",
    "plt.plot(history.history['loss'])\n",
    "plt.plot(history.history['val_loss'])\n",
    "plt.title('Model loss')\n",
    "plt.ylabel('loss')\n",
    "plt.xlabel('epoch')\n",
    "plt.legend(['train loss','validation loss'])\n",
    "plt.show()\n",
    "\n"
   ]
  },
  {
   "cell_type": "code",
   "execution_count": null,
   "id": "bdf6ff05",
   "metadata": {},
   "outputs": [],
   "source": [
    "# model_path='simple_LSTM_Multivariate.h5'\n",
    "# early_stopings=tf.keras.callbacks.EarlyStopping(monitor='val_loss',min_delta=0,patience=50,verbose=1,mode='min')\n",
    "# checkpoint=tf.keras.callbacks.ModelCheckpoint(model_path,monitor='val_loss',save_best_only=True,mode='min',verbose=0)\n",
    "# callbacks=[early_stopings,checkpoint]\n",
    "# history_1=model.fit(x_train,y_train,epochs=150,validation_data=(x_val,y_val),batch_size=32,verbose=1,shuffle=False,callbacks=callbacks)\n"
   ]
  },
  {
   "cell_type": "code",
   "execution_count": 69,
   "id": "8018b7ec",
   "metadata": {},
   "outputs": [
    {
     "data": {
      "text/plain": [
       "(1, 60, 42)"
      ]
     },
     "execution_count": 69,
     "metadata": {},
     "output_type": "execute_result"
    }
   ],
   "source": [
    "#print(X_data.tail(15).shape)\n",
    "data_val=X_scaler.fit_transform((X_data).tail(60))\n",
    "val_rescaled=data_val.reshape(1,data_val.shape[0],data_val.shape[1])\n",
    "val_rescaled.shape"
   ]
  },
  {
   "cell_type": "code",
   "execution_count": 70,
   "id": "f320691a",
   "metadata": {},
   "outputs": [
    {
     "data": {
      "text/plain": [
       "array([[4.6183834, 4.6147704, 4.6133027, 4.6063976, 4.605173 , 4.599367 ,\n",
       "        4.585667 , 4.5781665, 4.5714064, 4.5612464, 4.552951 , 4.548793 ,\n",
       "        4.5439224, 4.5351167, 4.5299363]], dtype=float32)"
      ]
     },
     "execution_count": 70,
     "metadata": {},
     "output_type": "execute_result"
    }
   ],
   "source": [
    "pred=lstm_bidirectional_model.predict(val_rescaled)\n",
    "pred_inverse=Y_scaler.inverse_transform(pred)\n",
    "pred_inverse"
   ]
  },
  {
   "cell_type": "code",
   "execution_count": 58,
   "id": "af23dbc3",
   "metadata": {},
   "outputs": [],
   "source": [
    "#Evaluation Metrics"
   ]
  },
  {
   "cell_type": "code",
   "execution_count": 64,
   "id": "2f3edbde",
   "metadata": {},
   "outputs": [],
   "source": [
    "def eval_metrics(y_true,y_pred):\n",
    "    def mean_absolute_percentage_error(y_true,y_pred):\n",
    "        y_true,y_pred=np.array(y_true),np.array(y_pred)\n",
    "        return np.mean(np.abs((y_true-y_pred) / y_true)) * 100\n",
    "    print('Evaluation Metrics-----')\n",
    "    print('-----------------------')\n",
    "    print(f'MSE is: {metrics.mean_squared_error(y_true,y_pred)}')\n",
    "    print(f'MAE is: {metrics.mean_absolute_error(y_true,y_pred)}')\n",
    "    print(f'RMSE is: {np.sqrt(metrics.mean_squared_error(y_true,y_pred))}')\n",
    "    print(f'MAPE is: {mean_absolute_percentage_error(y_true,y_pred)}')\n",
    "    print(f'R2 is {metrics.r2_score(y_true,y_pred)}', end='\\n\\n')\n",
    "    \n",
    "        "
   ]
  },
  {
   "cell_type": "code",
   "execution_count": 71,
   "id": "f673b131",
   "metadata": {},
   "outputs": [
    {
     "name": "stdout",
     "output_type": "stream",
     "text": [
      "Evaluation Metrics-----\n",
      "-----------------------\n",
      "MSE is: 0.09165054814681908\n",
      "MAE is: 0.26716912590151354\n",
      "RMSE is: 0.30273841538004237\n",
      "MAPE is: 5.437026076791488\n",
      "R2 is -3.537966826953686\n",
      "\n"
     ]
    }
   ],
   "source": [
    "eval_metrics(validate['CO_HMI'],pred_inverse[0])"
   ]
  },
  {
   "cell_type": "code",
   "execution_count": null,
   "id": "d4c1e8fd",
   "metadata": {},
   "outputs": [],
   "source": [
    "import matplotlib.pyplot as plt\n",
    "plt.figure(figsize=(12,5))\n",
    "plt.plot(validate['CO_HMI'].values, label='CO_HMI')\n",
    "plt.plot(pred_inverse[0], label='CO_HMI_predicted')\n",
    "plt.legend()\n",
    "plt.show()"
   ]
  },
  {
   "cell_type": "code",
   "execution_count": null,
   "id": "13d4db78",
   "metadata": {},
   "outputs": [],
   "source": []
  },
  {
   "cell_type": "code",
   "execution_count": null,
   "id": "92dad4a9",
   "metadata": {},
   "outputs": [],
   "source": []
  },
  {
   "cell_type": "code",
   "execution_count": null,
   "id": "768ed147",
   "metadata": {},
   "outputs": [],
   "source": []
  },
  {
   "cell_type": "code",
   "execution_count": null,
   "id": "1f954a2f",
   "metadata": {},
   "outputs": [],
   "source": []
  }
 ],
 "metadata": {
  "kernelspec": {
   "display_name": "Python 3 (ipykernel)",
   "language": "python",
   "name": "python3"
  },
  "language_info": {
   "codemirror_mode": {
    "name": "ipython",
    "version": 3
   },
   "file_extension": ".py",
   "mimetype": "text/x-python",
   "name": "python",
   "nbconvert_exporter": "python",
   "pygments_lexer": "ipython3",
   "version": "3.8.10"
  },
  "varInspector": {
   "cols": {
    "lenName": 16,
    "lenType": 16,
    "lenVar": 40
   },
   "kernels_config": {
    "python": {
     "delete_cmd_postfix": "",
     "delete_cmd_prefix": "del ",
     "library": "var_list.py",
     "varRefreshCmd": "print(var_dic_list())"
    },
    "r": {
     "delete_cmd_postfix": ") ",
     "delete_cmd_prefix": "rm(",
     "library": "var_list.r",
     "varRefreshCmd": "cat(var_dic_list()) "
    }
   },
   "types_to_exclude": [
    "module",
    "function",
    "builtin_function_or_method",
    "instance",
    "_Feature"
   ],
   "window_display": false
  }
 },
 "nbformat": 4,
 "nbformat_minor": 5
}
