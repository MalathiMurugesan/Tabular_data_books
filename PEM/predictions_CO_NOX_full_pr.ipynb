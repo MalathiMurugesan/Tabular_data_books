{
 "cells": [
  {
   "cell_type": "code",
   "execution_count": null,
   "id": "336b5972",
   "metadata": {},
   "outputs": [],
   "source": [
    "# some observations\n",
    "# imputation by interpolate performs better than other methods like median amd mode\n",
    "#XGB performs better than RF\n",
    "# scaling the variables does not improve the performance\n",
    "# Important features are derived for each output after applying the XGB model\n",
    "# Grid search for best parameters take multiple days??\n",
    "#-----------------------\n",
    "#get the common important features derived for both outputs from XGB model and use them to \n",
    "#create a Recurrent Neural Network, LSTM"
   ]
  },
  {
   "cell_type": "markdown",
   "id": "07fcff42",
   "metadata": {},
   "source": [
    "### Import all the Libraries "
   ]
  },
  {
   "cell_type": "code",
   "execution_count": 2,
   "id": "50cb86f8",
   "metadata": {},
   "outputs": [],
   "source": [
    "#import all the libraries\n",
    "import pandas as pd\n",
    "import matplotlib.pyplot as plt\n",
    "import numpy as np\n",
    "import seaborn as sns\n",
    "from sklearn.multioutput import MultiOutputRegressor\n",
    "import xgboost as xgb\n",
    "from sklearn.model_selection import train_test_split\n",
    "from sklearn.metrics import r2_score,mean_squared_error\n",
    "import math\n",
    "import time"
   ]
  },
  {
   "cell_type": "markdown",
   "id": "d0af55fd",
   "metadata": {},
   "source": [
    "### PEM dataset for the prediction of ['NOX_HMI', 'CO_HMI']"
   ]
  },
  {
   "cell_type": "code",
   "execution_count": 3,
   "id": "05ca790f",
   "metadata": {},
   "outputs": [
    {
     "name": "stdout",
     "output_type": "stream",
     "text": [
      "(66331, 46)\n",
      "['Timestamp', 'BRNDMD', 'WFPILM', 'F_FARFLI', 'F_FARFLO', 'F_FARFL', 'F_W2', 'F_WA36', 'F_WB3Q', 'F_WF36DMD', 'P2SEL', 'PS3SEL', 'T2SEL', 'T3SEL', 'TFLCYCS', 'TFLPDFS', 'TFLIDFS', 'TFLODFS', 'WFINRM', 'WFOTRM', 'WFQPERRCOR', 'A90RH', 'F_WAFL', 'NGGSEL', 'PX36SEL', 'PX36AVAL', 'PX36BVAL', 'NPTSEL', 'NPTREF', 'DWB36PCT', 'REGULATOR', 'T48SEL', 'CDPSEL', 'T8SEL', 'P48SEL', 'LHVSEL', 'SGSEL', 'NOX_HMI', 'CO_HMI', 'O2_HMI', 'VLVFBKG_06', 'EMISSIONS_SS', 'SSFILTER', 'F_WB3', 'NOX15', 'CO15']\n"
     ]
    }
   ],
   "source": [
    "# read the respective files from these locations\n",
    "data_file_training='/data-restricted/PEM/L0162_20200909T0001_20201201T1230.csv'\n",
    "\n",
    "df = pd.read_csv(data_file_training)\n",
    "print(df.shape)\n",
    "print(list(df.columns))"
   ]
  },
  {
   "cell_type": "code",
   "execution_count": 4,
   "id": "b3518db8",
   "metadata": {},
   "outputs": [],
   "source": [
    "#output_columns=['NOX_HMI', 'CO_HMI'] #compare your predictions with 'NOX15', 'CO15'\n",
    "df['Timestamp']=pd.to_datetime(df['Timestamp'])\n",
    "df=df.set_index('Timestamp')"
   ]
  },
  {
   "cell_type": "markdown",
   "id": "74551ceb",
   "metadata": {},
   "source": [
    "### Missing values imputation "
   ]
  },
  {
   "cell_type": "code",
   "execution_count": 5,
   "id": "a5382ad5",
   "metadata": {},
   "outputs": [],
   "source": [
    "#imputation for the missing values\n",
    "cols_with_NaNs=df.columns[df.isnull().any()].tolist()\n",
    "df_NaNs=df[cols_with_NaNs]\n",
    "percent_missing=df_NaNs.isnull().sum() * 100/len(df_NaNs)\n",
    "#since 75% of this variable are NaNs\n",
    "df.drop(('EMISSIONS_SS'),axis=1,inplace=True)\n",
    "#imputation by interpolate method\n",
    "df['PX36AVAL']=df['PX36AVAL'].interpolate(method='linear')\n",
    "df['PX36BVAL']=df['PX36BVAL'].interpolate(method='linear')\n",
    "#There are no null values"
   ]
  },
  {
   "cell_type": "code",
   "execution_count": 6,
   "id": "3af36574",
   "metadata": {},
   "outputs": [],
   "source": [
    "df.drop(['NOX15','CO15'],axis=1,inplace=True)"
   ]
  },
  {
   "cell_type": "markdown",
   "id": "43335d3a",
   "metadata": {},
   "source": [
    "### Data split "
   ]
  },
  {
   "cell_type": "code",
   "execution_count": 7,
   "id": "8d4acf98",
   "metadata": {},
   "outputs": [
    {
     "name": "stdout",
     "output_type": "stream",
     "text": [
      "(46428, 42) (19903, 42)\n",
      "(46428, 40) (46428, 2) (19903, 40) (19903, 2)\n"
     ]
    }
   ],
   "source": [
    "# will split the data to 70:30 for training and testing\n",
    "#0.70*66327\n",
    "train_df,test_df=df[:46428],df[46428:]\n",
    "print(train_df.shape,test_df.shape)\n",
    "OUTPUT_COLUMNS=['NOX_HMI','CO_HMI']\n",
    "train_X=train_df.drop(OUTPUT_COLUMNS,axis=1)\n",
    "train_y=train_df[OUTPUT_COLUMNS]\n",
    "test_X=test_df.drop(OUTPUT_COLUMNS,axis=1)\n",
    "test_y=test_df[OUTPUT_COLUMNS]\n",
    "print(train_X.shape,train_y.shape,test_X.shape,test_y.shape)"
   ]
  },
  {
   "cell_type": "markdown",
   "id": "a81f555b",
   "metadata": {},
   "source": [
    "### MultiOutputRegressor model as the wrapper for XGBRegressor "
   ]
  },
  {
   "cell_type": "code",
   "execution_count": 8,
   "id": "285c3470",
   "metadata": {},
   "outputs": [],
   "source": [
    "other_params={'learning_rate':0.1,'n_estimators':300,'max_depth':5,'min_child_weight':1,'subsample':0.8,'colsample_bytree':0.8}\n",
    "multioutputregressor=MultiOutputRegressor(xgb.XGBRegressor(objective='reg:squarederror',**other_params)).fit(train_X,train_y)\n",
    "predictions=multioutputregressor.predict(test_X)"
   ]
  },
  {
   "cell_type": "markdown",
   "id": "a811da93",
   "metadata": {},
   "source": [
    "### Evaluation of the test set"
   ]
  },
  {
   "cell_type": "code",
   "execution_count": 9,
   "id": "2f1ae10a",
   "metadata": {},
   "outputs": [
    {
     "name": "stdout",
     "output_type": "stream",
     "text": [
      "Root_mean_squared_error_test set_all 4.427835662198557\n",
      "R2 Score_test set_all 0.9330317996353548\n"
     ]
    }
   ],
   "source": [
    "# Evaluation forthe test set_both CO and NOX\n",
    "print('Root_mean_squared_error_test set_all',math.sqrt(mean_squared_error(test_y,predictions)))\n",
    "print('R2 Score_test set_all',r2_score(test_y,predictions))"
   ]
  },
  {
   "cell_type": "code",
   "execution_count": 10,
   "id": "234d78ed",
   "metadata": {},
   "outputs": [
    {
     "name": "stdout",
     "output_type": "stream",
     "text": [
      "Root_mean_squared_error_test set_NOX 3.0489351088192436\n",
      "R2 Score_test set_NOX 0.9826639673759708\n",
      "Root_mean_squared_error_test set_CO_HMI 5.469501988763151\n",
      "R2 Score_test set_CO_HMI 0.8833996318947388\n"
     ]
    }
   ],
   "source": [
    "# Individual evaluations\n",
    "print('Root_mean_squared_error_test set_NOX',math.sqrt(mean_squared_error(test_y['NOX_HMI'],predictions[:,0])))\n",
    "print('R2 Score_test set_NOX',r2_score(test_y['NOX_HMI'],predictions[:,0]))\n",
    "\n",
    "print('Root_mean_squared_error_test set_CO_HMI',math.sqrt(mean_squared_error(test_y['CO_HMI'],predictions[:,1])))\n",
    "print('R2 Score_test set_CO_HMI',r2_score(test_y['CO_HMI'],predictions[:,1]))"
   ]
  },
  {
   "cell_type": "markdown",
   "id": "a4856b7b",
   "metadata": {},
   "source": [
    "### Feature Importance"
   ]
  },
  {
   "cell_type": "code",
   "execution_count": 11,
   "id": "ba50e34b",
   "metadata": {},
   "outputs": [
    {
     "name": "stdout",
     "output_type": "stream",
     "text": [
      "2\n"
     ]
    },
    {
     "data": {
      "text/plain": [
       "Index(['O2_HMI', 'NPTSEL', 'PX36AVAL', 'TFLIDFS', 'F_FARFL', 'PX36BVAL',\n",
       "       'TFLCYCS', 'T48SEL', 'PX36SEL', 'T8SEL', 'SGSEL', 'F_WB3', 'LHVSEL',\n",
       "       'TFLPDFS', 'P2SEL', 'F_WA36', 'WFPILM', 'TFLODFS', 'NGGSEL',\n",
       "       'F_WF36DMD', 'NPTREF', 'SSFILTER', 'T2SEL', 'P48SEL', 'T3SEL', 'F_WB3Q',\n",
       "       'PS3SEL', 'WFQPERRCOR', 'BRNDMD', 'F_FARFLO'],\n",
       "      dtype='object')"
      ]
     },
     "execution_count": 11,
     "metadata": {},
     "output_type": "execute_result"
    }
   ],
   "source": [
    "print(len(multioutputregressor.estimators_))\n",
    "\n",
    "NOX_HMI=multioutputregressor.estimators_[0].feature_importances_\n",
    "CO_HMI=multioutputregressor.estimators_[1].feature_importances_\n",
    "feature_importances_NOX_HMI=pd.DataFrame(NOX_HMI,index=train_X.columns,columns=['importance']).sort_values('importance',ascending=False)\n",
    "feature_importances_CO_HMI=pd.DataFrame(CO_HMI,index=train_X.columns,columns=['importance']).sort_values('importance',ascending=False)\n",
    "\n",
    "feature_importances_CO_HMI.index[0:30]\n",
    "feature_importances_NOX_HMI.index[0:30]"
   ]
  },
  {
   "cell_type": "code",
   "execution_count": 12,
   "id": "8aa60dbd",
   "metadata": {},
   "outputs": [
    {
     "name": "stdout",
     "output_type": "stream",
     "text": [
      "25 ['TFLIDFS', 'T8SEL', 'F_WB3Q', 'F_FARFL', 'O2_HMI', 'TFLPDFS', 'TFLCYCS', 'NPTREF', 'PX36AVAL', 'P48SEL', 'NGGSEL', 'BRNDMD', 'F_WB3', 'WFPILM', 'PS3SEL', 'SGSEL', 'F_WA36', 'F_WF36DMD', 'WFQPERRCOR', 'LHVSEL', 'TFLODFS', 'P2SEL', 'NPTSEL', 'T3SEL', 'T48SEL']\n"
     ]
    }
   ],
   "source": [
    "# common_important_features from top 30 features of both output columns\n",
    "common_important_features=list(set(feature_importances_CO_HMI.index[0:30]) & set(feature_importances_NOX_HMI.index[0:30]))\n",
    "print(len(common_important_features),common_important_features)\n"
   ]
  },
  {
   "cell_type": "code",
   "execution_count": null,
   "id": "e60d0e55",
   "metadata": {},
   "outputs": [],
   "source": []
  },
  {
   "cell_type": "code",
   "execution_count": null,
   "id": "0c0ed542",
   "metadata": {},
   "outputs": [],
   "source": []
  },
  {
   "cell_type": "code",
   "execution_count": null,
   "id": "caf784a7",
   "metadata": {},
   "outputs": [],
   "source": []
  },
  {
   "cell_type": "code",
   "execution_count": null,
   "id": "eea916cc",
   "metadata": {},
   "outputs": [],
   "source": []
  },
  {
   "cell_type": "code",
   "execution_count": null,
   "id": "0e49e2ac",
   "metadata": {},
   "outputs": [],
   "source": []
  },
  {
   "cell_type": "code",
   "execution_count": null,
   "id": "47c0297d",
   "metadata": {},
   "outputs": [],
   "source": [
    "\n",
    "### Grid search to get the best parameters \n",
    "\n",
    "from sklearn.model_selection import RandomizedSearchCV, GridSearchCV\n",
    "gsc = GridSearchCV(\n",
    "            estimator=xgb.XGBRegressor(),\n",
    "            param_grid={\"learning_rate\": (0.05, 0.10, 0.15),\n",
    "                        \"max_depth\": [4, 5, 6, 8],\n",
    "                        \"min_child_weight\": [ 1, 3, 5, 7],\n",
    "                        \"gamma\":[ 0.0, 0.1, 0.2],\n",
    "                        \"subsample\": [0.8,0.9, 1.0],\n",
    "                        \"colsample_bytree\":[ 0.8, 0.9],},\n",
    "            cv=5, scoring='neg_mean_squared_error', verbose=0, n_jobs=-1)\n",
    "start1=time.time()\n",
    "grid_result = MultiOutputRegressor(gsc).fit(train_X, train_y)\n",
    "end1=time.time()\n",
    "print('time elapsed: ' + str(end1-start1))\n",
    "\n",
    "y_predict_gsc = grid_result.predict(test_X)\n",
    "print('Root_mean_squared_error_test set',math.sqrt(mean_squared_error(test_y,y_predict_gsc)))\n",
    "print('R2 Score_test set',r2_score(test_y,y_predict_gsc))\n"
   ]
  },
  {
   "cell_type": "code",
   "execution_count": null,
   "id": "9b9406dd",
   "metadata": {},
   "outputs": [],
   "source": [
    "\n",
    "\n",
    "\n",
    "\n",
    "\n",
    "\n",
    "\n",
    "\n",
    "\n",
    "\n",
    "\n",
    "\n",
    "\n",
    "\n",
    "\n",
    "\n",
    "\n",
    "\n",
    "\n",
    "\n",
    "\n",
    "\n",
    "\n",
    "\n",
    " \n",
    "\n",
    "\n",
    "\n",
    "\n",
    "\n",
    "\n",
    "\n",
    " \n",
    "\n",
    "\n",
    "\n",
    "\n",
    "\n",
    "\n"
   ]
  },
  {
   "cell_type": "code",
   "execution_count": null,
   "id": "c8857fd9",
   "metadata": {},
   "outputs": [],
   "source": []
  }
 ],
 "metadata": {
  "kernelspec": {
   "display_name": "Python 3 (ipykernel)",
   "language": "python",
   "name": "python3"
  },
  "language_info": {
   "codemirror_mode": {
    "name": "ipython",
    "version": 3
   },
   "file_extension": ".py",
   "mimetype": "text/x-python",
   "name": "python",
   "nbconvert_exporter": "python",
   "pygments_lexer": "ipython3",
   "version": "3.8.10"
  },
  "varInspector": {
   "cols": {
    "lenName": 16,
    "lenType": 16,
    "lenVar": 40
   },
   "kernels_config": {
    "python": {
     "delete_cmd_postfix": "",
     "delete_cmd_prefix": "del ",
     "library": "var_list.py",
     "varRefreshCmd": "print(var_dic_list())"
    },
    "r": {
     "delete_cmd_postfix": ") ",
     "delete_cmd_prefix": "rm(",
     "library": "var_list.r",
     "varRefreshCmd": "cat(var_dic_list()) "
    }
   },
   "types_to_exclude": [
    "module",
    "function",
    "builtin_function_or_method",
    "instance",
    "_Feature"
   ],
   "window_display": false
  }
 },
 "nbformat": 4,
 "nbformat_minor": 5
}
