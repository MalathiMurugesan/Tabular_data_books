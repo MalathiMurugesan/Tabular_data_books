{
 "cells": [
  {
   "cell_type": "code",
   "execution_count": null,
   "id": "4f3e9994",
   "metadata": {},
   "outputs": [],
   "source": [
    "# imputation by interpolate performs better than other methods -median amd mode\n",
    "#XGB performs better than RF\n",
    "# scaling does not improve the performance\n",
    "# Important features are found using Lasso regression works fine for linear relationship\n",
    "# Through XGB important variables are found for both CO_HMI and NOX_HMI cols\n",
    "# Trying grid search and randomized search taking a lot of time -hours"
   ]
  },
  {
   "cell_type": "code",
   "execution_count": 3,
   "id": "9fb9f70c",
   "metadata": {},
   "outputs": [],
   "source": [
    "import pandas as pd\n",
    "import matplotlib.pyplot as plt\n",
    "import numpy as np\n",
    "import seaborn as sns\n",
    "\n",
    "from sklearn.preprocessing import MinMaxScaler\n",
    "\n",
    "from sklearn.linear_model import Lasso\n",
    "from sklearn.linear_model import LassoCV\n",
    "from sklearn.feature_selection import SelectFromModel\n",
    "\n",
    "from sklearn.ensemble import GradientBoostingRegressor\n",
    "from sklearn.ensemble import RandomForestRegressor\n",
    "#from sklearn.ensemble import StackingRegressor\n",
    "\n",
    "from sklearn.multioutput import MultiOutputRegressor\n",
    "import xgboost as xgb\n",
    "#from sklearn.model_selection import train_test_split\n",
    "\n",
    "from sklearn.metrics import r2_score,mean_squared_error\n",
    "import math"
   ]
  },
  {
   "cell_type": "code",
   "execution_count": 4,
   "id": "db3fd347",
   "metadata": {},
   "outputs": [
    {
     "ename": "FileNotFoundError",
     "evalue": "[Errno 2] No such file or directory: '/data-restricted/PEM/L0162_20200909T0001_20201201T1230.csv'",
     "output_type": "error",
     "traceback": [
      "\u001b[0;31m---------------------------------------------------------------------------\u001b[0m",
      "\u001b[0;31mFileNotFoundError\u001b[0m                         Traceback (most recent call last)",
      "\u001b[0;32m/tmp/ipykernel_133/473536808.py\u001b[0m in \u001b[0;36m<module>\u001b[0;34m\u001b[0m\n\u001b[1;32m      1\u001b[0m \u001b[0;31m# read the respective files from these locations\u001b[0m\u001b[0;34m\u001b[0m\u001b[0;34m\u001b[0m\u001b[0;34m\u001b[0m\u001b[0m\n\u001b[1;32m      2\u001b[0m \u001b[0mdata_file_training\u001b[0m\u001b[0;34m=\u001b[0m\u001b[0;34m'/data-restricted/PEM/L0162_20200909T0001_20201201T1230.csv'\u001b[0m\u001b[0;34m\u001b[0m\u001b[0;34m\u001b[0m\u001b[0m\n\u001b[0;32m----> 3\u001b[0;31m \u001b[0mdf\u001b[0m \u001b[0;34m=\u001b[0m \u001b[0mpd\u001b[0m\u001b[0;34m.\u001b[0m\u001b[0mread_csv\u001b[0m\u001b[0;34m(\u001b[0m\u001b[0mdata_file_training\u001b[0m\u001b[0;34m)\u001b[0m\u001b[0;34m\u001b[0m\u001b[0;34m\u001b[0m\u001b[0m\n\u001b[0m\u001b[1;32m      4\u001b[0m \u001b[0mprint\u001b[0m\u001b[0;34m(\u001b[0m\u001b[0mdf\u001b[0m\u001b[0;34m.\u001b[0m\u001b[0mshape\u001b[0m\u001b[0;34m)\u001b[0m\u001b[0;34m\u001b[0m\u001b[0;34m\u001b[0m\u001b[0m\n\u001b[1;32m      5\u001b[0m \u001b[0mprint\u001b[0m\u001b[0;34m(\u001b[0m\u001b[0mlist\u001b[0m\u001b[0;34m(\u001b[0m\u001b[0mdf\u001b[0m\u001b[0;34m.\u001b[0m\u001b[0mcolumns\u001b[0m\u001b[0;34m)\u001b[0m\u001b[0;34m)\u001b[0m\u001b[0;34m\u001b[0m\u001b[0;34m\u001b[0m\u001b[0m\n",
      "\u001b[0;32m/usr/local/lib/python3.8/dist-packages/pandas/util/_decorators.py\u001b[0m in \u001b[0;36mwrapper\u001b[0;34m(*args, **kwargs)\u001b[0m\n\u001b[1;32m    309\u001b[0m                     \u001b[0mstacklevel\u001b[0m\u001b[0;34m=\u001b[0m\u001b[0mstacklevel\u001b[0m\u001b[0;34m,\u001b[0m\u001b[0;34m\u001b[0m\u001b[0;34m\u001b[0m\u001b[0m\n\u001b[1;32m    310\u001b[0m                 )\n\u001b[0;32m--> 311\u001b[0;31m             \u001b[0;32mreturn\u001b[0m \u001b[0mfunc\u001b[0m\u001b[0;34m(\u001b[0m\u001b[0;34m*\u001b[0m\u001b[0margs\u001b[0m\u001b[0;34m,\u001b[0m \u001b[0;34m**\u001b[0m\u001b[0mkwargs\u001b[0m\u001b[0;34m)\u001b[0m\u001b[0;34m\u001b[0m\u001b[0;34m\u001b[0m\u001b[0m\n\u001b[0m\u001b[1;32m    312\u001b[0m \u001b[0;34m\u001b[0m\u001b[0m\n\u001b[1;32m    313\u001b[0m         \u001b[0;32mreturn\u001b[0m \u001b[0mwrapper\u001b[0m\u001b[0;34m\u001b[0m\u001b[0;34m\u001b[0m\u001b[0m\n",
      "\u001b[0;32m/usr/local/lib/python3.8/dist-packages/pandas/io/parsers/readers.py\u001b[0m in \u001b[0;36mread_csv\u001b[0;34m(filepath_or_buffer, sep, delimiter, header, names, index_col, usecols, squeeze, prefix, mangle_dupe_cols, dtype, engine, converters, true_values, false_values, skipinitialspace, skiprows, skipfooter, nrows, na_values, keep_default_na, na_filter, verbose, skip_blank_lines, parse_dates, infer_datetime_format, keep_date_col, date_parser, dayfirst, cache_dates, iterator, chunksize, compression, thousands, decimal, lineterminator, quotechar, quoting, doublequote, escapechar, comment, encoding, encoding_errors, dialect, error_bad_lines, warn_bad_lines, on_bad_lines, delim_whitespace, low_memory, memory_map, float_precision, storage_options)\u001b[0m\n\u001b[1;32m    584\u001b[0m     \u001b[0mkwds\u001b[0m\u001b[0;34m.\u001b[0m\u001b[0mupdate\u001b[0m\u001b[0;34m(\u001b[0m\u001b[0mkwds_defaults\u001b[0m\u001b[0;34m)\u001b[0m\u001b[0;34m\u001b[0m\u001b[0;34m\u001b[0m\u001b[0m\n\u001b[1;32m    585\u001b[0m \u001b[0;34m\u001b[0m\u001b[0m\n\u001b[0;32m--> 586\u001b[0;31m     \u001b[0;32mreturn\u001b[0m \u001b[0m_read\u001b[0m\u001b[0;34m(\u001b[0m\u001b[0mfilepath_or_buffer\u001b[0m\u001b[0;34m,\u001b[0m \u001b[0mkwds\u001b[0m\u001b[0;34m)\u001b[0m\u001b[0;34m\u001b[0m\u001b[0;34m\u001b[0m\u001b[0m\n\u001b[0m\u001b[1;32m    587\u001b[0m \u001b[0;34m\u001b[0m\u001b[0m\n\u001b[1;32m    588\u001b[0m \u001b[0;34m\u001b[0m\u001b[0m\n",
      "\u001b[0;32m/usr/local/lib/python3.8/dist-packages/pandas/io/parsers/readers.py\u001b[0m in \u001b[0;36m_read\u001b[0;34m(filepath_or_buffer, kwds)\u001b[0m\n\u001b[1;32m    480\u001b[0m \u001b[0;34m\u001b[0m\u001b[0m\n\u001b[1;32m    481\u001b[0m     \u001b[0;31m# Create the parser.\u001b[0m\u001b[0;34m\u001b[0m\u001b[0;34m\u001b[0m\u001b[0;34m\u001b[0m\u001b[0m\n\u001b[0;32m--> 482\u001b[0;31m     \u001b[0mparser\u001b[0m \u001b[0;34m=\u001b[0m \u001b[0mTextFileReader\u001b[0m\u001b[0;34m(\u001b[0m\u001b[0mfilepath_or_buffer\u001b[0m\u001b[0;34m,\u001b[0m \u001b[0;34m**\u001b[0m\u001b[0mkwds\u001b[0m\u001b[0;34m)\u001b[0m\u001b[0;34m\u001b[0m\u001b[0;34m\u001b[0m\u001b[0m\n\u001b[0m\u001b[1;32m    483\u001b[0m \u001b[0;34m\u001b[0m\u001b[0m\n\u001b[1;32m    484\u001b[0m     \u001b[0;32mif\u001b[0m \u001b[0mchunksize\u001b[0m \u001b[0;32mor\u001b[0m \u001b[0miterator\u001b[0m\u001b[0;34m:\u001b[0m\u001b[0;34m\u001b[0m\u001b[0;34m\u001b[0m\u001b[0m\n",
      "\u001b[0;32m/usr/local/lib/python3.8/dist-packages/pandas/io/parsers/readers.py\u001b[0m in \u001b[0;36m__init__\u001b[0;34m(self, f, engine, **kwds)\u001b[0m\n\u001b[1;32m    809\u001b[0m             \u001b[0mself\u001b[0m\u001b[0;34m.\u001b[0m\u001b[0moptions\u001b[0m\u001b[0;34m[\u001b[0m\u001b[0;34m\"has_index_names\"\u001b[0m\u001b[0;34m]\u001b[0m \u001b[0;34m=\u001b[0m \u001b[0mkwds\u001b[0m\u001b[0;34m[\u001b[0m\u001b[0;34m\"has_index_names\"\u001b[0m\u001b[0;34m]\u001b[0m\u001b[0;34m\u001b[0m\u001b[0;34m\u001b[0m\u001b[0m\n\u001b[1;32m    810\u001b[0m \u001b[0;34m\u001b[0m\u001b[0m\n\u001b[0;32m--> 811\u001b[0;31m         \u001b[0mself\u001b[0m\u001b[0;34m.\u001b[0m\u001b[0m_engine\u001b[0m \u001b[0;34m=\u001b[0m \u001b[0mself\u001b[0m\u001b[0;34m.\u001b[0m\u001b[0m_make_engine\u001b[0m\u001b[0;34m(\u001b[0m\u001b[0mself\u001b[0m\u001b[0;34m.\u001b[0m\u001b[0mengine\u001b[0m\u001b[0;34m)\u001b[0m\u001b[0;34m\u001b[0m\u001b[0;34m\u001b[0m\u001b[0m\n\u001b[0m\u001b[1;32m    812\u001b[0m \u001b[0;34m\u001b[0m\u001b[0m\n\u001b[1;32m    813\u001b[0m     \u001b[0;32mdef\u001b[0m \u001b[0mclose\u001b[0m\u001b[0;34m(\u001b[0m\u001b[0mself\u001b[0m\u001b[0;34m)\u001b[0m\u001b[0;34m:\u001b[0m\u001b[0;34m\u001b[0m\u001b[0;34m\u001b[0m\u001b[0m\n",
      "\u001b[0;32m/usr/local/lib/python3.8/dist-packages/pandas/io/parsers/readers.py\u001b[0m in \u001b[0;36m_make_engine\u001b[0;34m(self, engine)\u001b[0m\n\u001b[1;32m   1038\u001b[0m             )\n\u001b[1;32m   1039\u001b[0m         \u001b[0;31m# error: Too many arguments for \"ParserBase\"\u001b[0m\u001b[0;34m\u001b[0m\u001b[0;34m\u001b[0m\u001b[0;34m\u001b[0m\u001b[0m\n\u001b[0;32m-> 1040\u001b[0;31m         \u001b[0;32mreturn\u001b[0m \u001b[0mmapping\u001b[0m\u001b[0;34m[\u001b[0m\u001b[0mengine\u001b[0m\u001b[0;34m]\u001b[0m\u001b[0;34m(\u001b[0m\u001b[0mself\u001b[0m\u001b[0;34m.\u001b[0m\u001b[0mf\u001b[0m\u001b[0;34m,\u001b[0m \u001b[0;34m**\u001b[0m\u001b[0mself\u001b[0m\u001b[0;34m.\u001b[0m\u001b[0moptions\u001b[0m\u001b[0;34m)\u001b[0m  \u001b[0;31m# type: ignore[call-arg]\u001b[0m\u001b[0;34m\u001b[0m\u001b[0;34m\u001b[0m\u001b[0m\n\u001b[0m\u001b[1;32m   1041\u001b[0m \u001b[0;34m\u001b[0m\u001b[0m\n\u001b[1;32m   1042\u001b[0m     \u001b[0;32mdef\u001b[0m \u001b[0m_failover_to_python\u001b[0m\u001b[0;34m(\u001b[0m\u001b[0mself\u001b[0m\u001b[0;34m)\u001b[0m\u001b[0;34m:\u001b[0m\u001b[0;34m\u001b[0m\u001b[0;34m\u001b[0m\u001b[0m\n",
      "\u001b[0;32m/usr/local/lib/python3.8/dist-packages/pandas/io/parsers/c_parser_wrapper.py\u001b[0m in \u001b[0;36m__init__\u001b[0;34m(self, src, **kwds)\u001b[0m\n\u001b[1;32m     49\u001b[0m \u001b[0;34m\u001b[0m\u001b[0m\n\u001b[1;32m     50\u001b[0m         \u001b[0;31m# open handles\u001b[0m\u001b[0;34m\u001b[0m\u001b[0;34m\u001b[0m\u001b[0;34m\u001b[0m\u001b[0m\n\u001b[0;32m---> 51\u001b[0;31m         \u001b[0mself\u001b[0m\u001b[0;34m.\u001b[0m\u001b[0m_open_handles\u001b[0m\u001b[0;34m(\u001b[0m\u001b[0msrc\u001b[0m\u001b[0;34m,\u001b[0m \u001b[0mkwds\u001b[0m\u001b[0;34m)\u001b[0m\u001b[0;34m\u001b[0m\u001b[0;34m\u001b[0m\u001b[0m\n\u001b[0m\u001b[1;32m     52\u001b[0m         \u001b[0;32massert\u001b[0m \u001b[0mself\u001b[0m\u001b[0;34m.\u001b[0m\u001b[0mhandles\u001b[0m \u001b[0;32mis\u001b[0m \u001b[0;32mnot\u001b[0m \u001b[0;32mNone\u001b[0m\u001b[0;34m\u001b[0m\u001b[0;34m\u001b[0m\u001b[0m\n\u001b[1;32m     53\u001b[0m \u001b[0;34m\u001b[0m\u001b[0m\n",
      "\u001b[0;32m/usr/local/lib/python3.8/dist-packages/pandas/io/parsers/base_parser.py\u001b[0m in \u001b[0;36m_open_handles\u001b[0;34m(self, src, kwds)\u001b[0m\n\u001b[1;32m    220\u001b[0m         \u001b[0mLet\u001b[0m \u001b[0mthe\u001b[0m \u001b[0mreaders\u001b[0m \u001b[0mopen\u001b[0m \u001b[0mIOHandles\u001b[0m \u001b[0mafter\u001b[0m \u001b[0mthey\u001b[0m \u001b[0mare\u001b[0m \u001b[0mdone\u001b[0m \u001b[0;32mwith\u001b[0m \u001b[0mtheir\u001b[0m \u001b[0mpotential\u001b[0m \u001b[0mraises\u001b[0m\u001b[0;34m.\u001b[0m\u001b[0;34m\u001b[0m\u001b[0;34m\u001b[0m\u001b[0m\n\u001b[1;32m    221\u001b[0m         \"\"\"\n\u001b[0;32m--> 222\u001b[0;31m         self.handles = get_handle(\n\u001b[0m\u001b[1;32m    223\u001b[0m             \u001b[0msrc\u001b[0m\u001b[0;34m,\u001b[0m\u001b[0;34m\u001b[0m\u001b[0;34m\u001b[0m\u001b[0m\n\u001b[1;32m    224\u001b[0m             \u001b[0;34m\"r\"\u001b[0m\u001b[0;34m,\u001b[0m\u001b[0;34m\u001b[0m\u001b[0;34m\u001b[0m\u001b[0m\n",
      "\u001b[0;32m/usr/local/lib/python3.8/dist-packages/pandas/io/common.py\u001b[0m in \u001b[0;36mget_handle\u001b[0;34m(path_or_buf, mode, encoding, compression, memory_map, is_text, errors, storage_options)\u001b[0m\n\u001b[1;32m    699\u001b[0m         \u001b[0;32mif\u001b[0m \u001b[0mioargs\u001b[0m\u001b[0;34m.\u001b[0m\u001b[0mencoding\u001b[0m \u001b[0;32mand\u001b[0m \u001b[0;34m\"b\"\u001b[0m \u001b[0;32mnot\u001b[0m \u001b[0;32min\u001b[0m \u001b[0mioargs\u001b[0m\u001b[0;34m.\u001b[0m\u001b[0mmode\u001b[0m\u001b[0;34m:\u001b[0m\u001b[0;34m\u001b[0m\u001b[0;34m\u001b[0m\u001b[0m\n\u001b[1;32m    700\u001b[0m             \u001b[0;31m# Encoding\u001b[0m\u001b[0;34m\u001b[0m\u001b[0;34m\u001b[0m\u001b[0;34m\u001b[0m\u001b[0m\n\u001b[0;32m--> 701\u001b[0;31m             handle = open(\n\u001b[0m\u001b[1;32m    702\u001b[0m                 \u001b[0mhandle\u001b[0m\u001b[0;34m,\u001b[0m\u001b[0;34m\u001b[0m\u001b[0;34m\u001b[0m\u001b[0m\n\u001b[1;32m    703\u001b[0m                 \u001b[0mioargs\u001b[0m\u001b[0;34m.\u001b[0m\u001b[0mmode\u001b[0m\u001b[0;34m,\u001b[0m\u001b[0;34m\u001b[0m\u001b[0;34m\u001b[0m\u001b[0m\n",
      "\u001b[0;31mFileNotFoundError\u001b[0m: [Errno 2] No such file or directory: '/data-restricted/PEM/L0162_20200909T0001_20201201T1230.csv'"
     ]
    }
   ],
   "source": [
    "# read the respective files from these locations\n",
    "data_file_training='/data-restricted/PEM/L0162_20200909T0001_20201201T1230.csv'\n",
    "df = pd.read_csv(data_file_training)\n",
    "print(df.shape)\n",
    "print(list(df.columns))"
   ]
  },
  {
   "cell_type": "code",
   "execution_count": 4,
   "id": "9f8e2f42",
   "metadata": {},
   "outputs": [],
   "source": [
    "#output_columns=['NOX_HMI', 'CO_HMI'] #compare your predictions with 'NOX15', 'CO15'\n",
    "df.drop(['NOX15','CO15'],axis=1,inplace=True)"
   ]
  },
  {
   "cell_type": "code",
   "execution_count": 5,
   "id": "ddaa140c",
   "metadata": {},
   "outputs": [],
   "source": [
    "df['Timestamp']=pd.to_datetime(df['Timestamp'])\n",
    "df=df.set_index('Timestamp')"
   ]
  },
  {
   "cell_type": "code",
   "execution_count": null,
   "id": "ade5b11f",
   "metadata": {},
   "outputs": [],
   "source": [
    "#df[df.columns].apply(lambda x: x.corr(df['CO_HMI']))\n",
    "#df[df.columns].apply(lambda x: x.corr(df['NOX_HMI']))"
   ]
  },
  {
   "cell_type": "code",
   "execution_count": 6,
   "id": "36aca62f",
   "metadata": {},
   "outputs": [
    {
     "data": {
      "text/plain": [
       "['PX36AVAL', 'PX36BVAL', 'EMISSIONS_SS']"
      ]
     },
     "execution_count": 6,
     "metadata": {},
     "output_type": "execute_result"
    }
   ],
   "source": [
    "cols_with_NaNs=df.columns[df.isnull().any()].tolist()\n",
    "cols_with_NaNs"
   ]
  },
  {
   "cell_type": "code",
   "execution_count": 7,
   "id": "a7ec732c",
   "metadata": {},
   "outputs": [
    {
     "data": {
      "text/plain": [
       "array([[<AxesSubplot:title={'center':'BRNDMD'}>,\n",
       "        <AxesSubplot:title={'center':'WFPILM'}>,\n",
       "        <AxesSubplot:title={'center':'F_FARFLI'}>,\n",
       "        <AxesSubplot:title={'center':'F_FARFLO'}>,\n",
       "        <AxesSubplot:title={'center':'F_FARFL'}>,\n",
       "        <AxesSubplot:title={'center':'F_W2'}>,\n",
       "        <AxesSubplot:title={'center':'F_WA36'}>],\n",
       "       [<AxesSubplot:title={'center':'F_WB3Q'}>,\n",
       "        <AxesSubplot:title={'center':'F_WF36DMD'}>,\n",
       "        <AxesSubplot:title={'center':'P2SEL'}>,\n",
       "        <AxesSubplot:title={'center':'PS3SEL'}>,\n",
       "        <AxesSubplot:title={'center':'T2SEL'}>,\n",
       "        <AxesSubplot:title={'center':'T3SEL'}>,\n",
       "        <AxesSubplot:title={'center':'TFLCYCS'}>],\n",
       "       [<AxesSubplot:title={'center':'TFLPDFS'}>,\n",
       "        <AxesSubplot:title={'center':'TFLIDFS'}>,\n",
       "        <AxesSubplot:title={'center':'TFLODFS'}>,\n",
       "        <AxesSubplot:title={'center':'WFINRM'}>,\n",
       "        <AxesSubplot:title={'center':'WFOTRM'}>,\n",
       "        <AxesSubplot:title={'center':'WFQPERRCOR'}>,\n",
       "        <AxesSubplot:title={'center':'A90RH'}>],\n",
       "       [<AxesSubplot:title={'center':'F_WAFL'}>,\n",
       "        <AxesSubplot:title={'center':'NGGSEL'}>,\n",
       "        <AxesSubplot:title={'center':'PX36SEL'}>,\n",
       "        <AxesSubplot:title={'center':'PX36AVAL'}>,\n",
       "        <AxesSubplot:title={'center':'PX36BVAL'}>,\n",
       "        <AxesSubplot:title={'center':'NPTSEL'}>,\n",
       "        <AxesSubplot:title={'center':'NPTREF'}>],\n",
       "       [<AxesSubplot:title={'center':'DWB36PCT'}>,\n",
       "        <AxesSubplot:title={'center':'REGULATOR'}>,\n",
       "        <AxesSubplot:title={'center':'T48SEL'}>,\n",
       "        <AxesSubplot:title={'center':'CDPSEL'}>,\n",
       "        <AxesSubplot:title={'center':'T8SEL'}>,\n",
       "        <AxesSubplot:title={'center':'P48SEL'}>,\n",
       "        <AxesSubplot:title={'center':'LHVSEL'}>],\n",
       "       [<AxesSubplot:title={'center':'SGSEL'}>,\n",
       "        <AxesSubplot:title={'center':'NOX_HMI'}>,\n",
       "        <AxesSubplot:title={'center':'CO_HMI'}>,\n",
       "        <AxesSubplot:title={'center':'O2_HMI'}>,\n",
       "        <AxesSubplot:title={'center':'VLVFBKG_06'}>,\n",
       "        <AxesSubplot:title={'center':'EMISSIONS_SS'}>,\n",
       "        <AxesSubplot:title={'center':'SSFILTER'}>],\n",
       "       [<AxesSubplot:title={'center':'F_WB3'}>, <AxesSubplot:>,\n",
       "        <AxesSubplot:>, <AxesSubplot:>, <AxesSubplot:>, <AxesSubplot:>,\n",
       "        <AxesSubplot:>]], dtype=object)"
      ]
     },
     "execution_count": 7,
     "metadata": {},
     "output_type": "execute_result"
    },
    {
     "data": {
      "image/png": "[encoded data removed]",
      "text/plain": [
       "<Figure size 1440x1080 with 49 Axes>"
      ]
     },
     "metadata": {
      "needs_background": "light"
     },
     "output_type": "display_data"
    }
   ],
   "source": [
    "df.hist(figsize=(20,15))"
   ]
  },
  {
   "cell_type": "code",
   "execution_count": 8,
   "id": "4f9c458d",
   "metadata": {},
   "outputs": [],
   "source": [
    "#imputation by interpolate method\n",
    "df['PX36AVAL']=df['PX36AVAL'].interpolate(method='linear')\n",
    "df['PX36BVAL']=df['PX36BVAL'].interpolate(method='linear')\n",
    "#There are no null values"
   ]
  },
  {
   "cell_type": "code",
   "execution_count": 9,
   "id": "111c488a",
   "metadata": {},
   "outputs": [],
   "source": [
    "#since 75% if this variable are NaNs\n",
    "df.drop(('EMISSIONS_SS'),axis=1,inplace=True)"
   ]
  },
  {
   "cell_type": "code",
   "execution_count": 10,
   "id": "49446b60",
   "metadata": {},
   "outputs": [
    {
     "data": {
      "text/plain": [
       "False"
      ]
     },
     "execution_count": 10,
     "metadata": {},
     "output_type": "execute_result"
    }
   ],
   "source": [
    "df.isnull().sum().any()"
   ]
  },
  {
   "cell_type": "code",
   "execution_count": 11,
   "id": "4b2601ad",
   "metadata": {},
   "outputs": [
    {
     "name": "stdout",
     "output_type": "stream",
     "text": [
      "(46428, 42) (19903, 42)\n"
     ]
    }
   ],
   "source": [
    "#train and test split\n",
    "train_df,test_df=df[:46428],df[46428:]\n",
    "print(train_df.shape,test_df.shape)"
   ]
  },
  {
   "cell_type": "markdown",
   "id": "e6a42b87",
   "metadata": {},
   "source": [
    "## do feature scaling and get the performance "
   ]
  },
  {
   "cell_type": "code",
   "execution_count": 12,
   "id": "c0063d8b",
   "metadata": {},
   "outputs": [
    {
     "name": "stderr",
     "output_type": "stream",
     "text": [
      "/usr/local/lib/python3.8/dist-packages/pandas/core/frame.py:3673: SettingWithCopyWarning: \n",
      "A value is trying to be set on a copy of a slice from a DataFrame.\n",
      "Try using .loc[row_indexer,col_indexer] = value instead\n",
      "\n",
      "See the caveats in the documentation: https://pandas.pydata.org/pandas-docs/stable/user_guide/indexing.html#returning-a-view-versus-a-copy\n",
      "  self[col] = igetitem(value, i)\n",
      "/usr/local/lib/python3.8/dist-packages/pandas/core/frame.py:3673: SettingWithCopyWarning: \n",
      "A value is trying to be set on a copy of a slice from a DataFrame.\n",
      "Try using .loc[row_indexer,col_indexer] = value instead\n",
      "\n",
      "See the caveats in the documentation: https://pandas.pydata.org/pandas-docs/stable/user_guide/indexing.html#returning-a-view-versus-a-copy\n",
      "  self[col] = igetitem(value, i)\n"
     ]
    }
   ],
   "source": [
    "#feature scaling\n",
    "train_vars=[var for var in train_df.columns if var not in ['NOX_HMI', 'CO_HMI']]\n",
    "#create scaler\n",
    "scaler=MinMaxScaler()\n",
    "#fit the scaler to the train set\n",
    "scaler.fit(train_df[train_vars])\n",
    "# transform the train and the test set\n",
    "train_df[train_vars]=scaler.transform(train_df[train_vars])\n",
    "test_df[train_vars]=scaler.transform(test_df[train_vars])"
   ]
  },
  {
   "cell_type": "code",
   "execution_count": 14,
   "id": "a9aca413",
   "metadata": {},
   "outputs": [],
   "source": [
    "#train_df.hist(figsize=(20,10))"
   ]
  },
  {
   "cell_type": "code",
   "execution_count": 15,
   "id": "be5c3b5e",
   "metadata": {},
   "outputs": [],
   "source": [
    "OUTPUT_COLUMNS=['NOX_HMI','CO_HMI']\n",
    "train_X=train_df.drop(OUTPUT_COLUMNS,axis=1)\n",
    "train_y=train_df[OUTPUT_COLUMNS]\n",
    "test_X=test_df.drop(OUTPUT_COLUMNS,axis=1)\n",
    "test_y=test_df[OUTPUT_COLUMNS]"
   ]
  },
  {
   "cell_type": "code",
   "execution_count": 16,
   "id": "92905b79",
   "metadata": {},
   "outputs": [
    {
     "name": "stdout",
     "output_type": "stream",
     "text": [
      "Total features: 40\n",
      "selected features: 29\n",
      "features with coefficients sharank to zero: 45\n"
     ]
    },
    {
     "name": "stderr",
     "output_type": "stream",
     "text": [
      "/usr/local/lib/python3.8/dist-packages/sklearn/linear_model/_coordinate_descent.py:530: ConvergenceWarning: Objective did not converge. You might want to increase the number of iterations. Duality gap: 379354.60627975187, tolerance: 1731.5385843402412\n",
      "  model = cd_fast.enet_coordinate_descent(\n"
     ]
    }
   ],
   "source": [
    "sel_ = SelectFromModel(Lasso(alpha=0.005,random_state=0))\n",
    "#train lasso model and select features\n",
    "sel_.fit(train_X,train_y)\n",
    "#print the number of total and selected features\n",
    "selected_feats=train_X.columns[(sel_.get_support())]\n",
    "#statistics of the features\n",
    "print('Total features: {}'.format((train_X.shape[1])))\n",
    "print('selected features: {}'.format(len(selected_feats)))\n",
    "print('features with coefficients sharank to zero: {}'.format(np.sum(sel_.estimator_.coef_==0)))"
   ]
  },
  {
   "cell_type": "code",
   "execution_count": 18,
   "id": "2da8f8f2",
   "metadata": {},
   "outputs": [
    {
     "data": {
      "text/plain": [
       "Index(['BRNDMD', 'WFPILM', 'F_FARFLO', 'F_FARFL', 'F_W2', 'F_WB3Q',\n",
       "       'F_WF36DMD', 'P2SEL', 'T2SEL', 'T3SEL', 'TFLCYCS', 'TFLIDFS', 'TFLODFS',\n",
       "       'WFINRM', 'WFOTRM', 'A90RH', 'PX36SEL', 'PX36AVAL', 'NPTREF',\n",
       "       'DWB36PCT', 'REGULATOR', 'CDPSEL', 'T8SEL', 'P48SEL', 'LHVSEL', 'SGSEL',\n",
       "       'O2_HMI', 'VLVFBKG_06', 'SSFILTER'],\n",
       "      dtype='object')"
      ]
     },
     "execution_count": 18,
     "metadata": {},
     "output_type": "execute_result"
    }
   ],
   "source": [
    "selected_feats"
   ]
  },
  {
   "cell_type": "code",
   "execution_count": 23,
   "id": "b33abfec",
   "metadata": {},
   "outputs": [
    {
     "data": {
      "text/plain": [
       "Index(['NOX_HMI', 'CO_HMI'], dtype='object')"
      ]
     },
     "execution_count": 23,
     "metadata": {},
     "output_type": "execute_result"
    }
   ],
   "source": [
    "train_y.columns"
   ]
  },
  {
   "cell_type": "code",
   "execution_count": null,
   "id": "ace6b142",
   "metadata": {},
   "outputs": [],
   "source": [
    "#with lasso after rescaling and all features\n",
    "##lasso\n",
    "Root_mean_squared_error_test set 7.94650850612373\n",
    "R2 Score_test set 0.7806846064304057\n",
    "# include selected features\n",
    "Root_mean_squared_error_test set 9.287444536571622\n",
    "R2 Score_test set 0.6905458903064012\n",
    "##RF"
   ]
  },
  {
   "cell_type": "code",
   "execution_count": 21,
   "id": "5b579967",
   "metadata": {},
   "outputs": [
    {
     "name": "stdout",
     "output_type": "stream",
     "text": [
      "Root_mean_squared_error_test set 9.287444536571622\n",
      "R2 Score_test set 0.6905458903064012\n"
     ]
    },
    {
     "name": "stderr",
     "output_type": "stream",
     "text": [
      "/usr/local/lib/python3.8/dist-packages/sklearn/linear_model/_coordinate_descent.py:530: ConvergenceWarning: Objective did not converge. You might want to increase the number of iterations. Duality gap: 380668.429849108, tolerance: 1731.5385843402412\n",
      "  model = cd_fast.enet_coordinate_descent(\n"
     ]
    }
   ],
   "source": [
    "lin_model=Lasso(alpha=0.005,random_state=0)\n",
    "model1=lin_model.fit(train_X[selected_feats],train_y)\n",
    "predictions_lasso=model1.predict(test_X[selected_feats])\n",
    "#for test set\n",
    "print('Root_mean_squared_error_test set',math.sqrt(mean_squared_error(test_y,predictions_lasso)))\n",
    "print('R2 Score_test set',r2_score(test_y,predictions_lasso))"
   ]
  },
  {
   "cell_type": "markdown",
   "id": "7da8ddd5",
   "metadata": {},
   "source": [
    "### Apply different models linear and non-linear "
   ]
  },
  {
   "cell_type": "code",
   "execution_count": 27,
   "id": "5d16a43c",
   "metadata": {},
   "outputs": [
    {
     "name": "stdout",
     "output_type": "stream",
     "text": [
      "Root_mean_squared_error_test set 4.938363291838102\n",
      "R2 Score_test set 0.9215976718077572\n"
     ]
    }
   ],
   "source": [
    "#with 400 trees error is 9.28\n",
    "# with selected features 100 trees error is same\n",
    "RF_model=RandomForestRegressor(n_estimators=100,random_state=0)\n",
    "model2=RF_model.fit(train_X,train_y)\n",
    "predictions_RF=model2.predict(test_X)\n",
    "#for test set\n",
    "print('Root_mean_squared_error_test set',math.sqrt(mean_squared_error(test_y,predictions_RF)))\n",
    "print('R2 Score_test set',r2_score(test_y,predictions_RF))\n"
   ]
  },
  {
   "cell_type": "code",
   "execution_count": 30,
   "id": "6edfc281",
   "metadata": {},
   "outputs": [
    {
     "name": "stdout",
     "output_type": "stream",
     "text": [
      "Root_mean_squared_error_test set 4.593399106402547\n",
      "R2 Score_test set 0.9409580860964399\n"
     ]
    }
   ],
   "source": [
    "#changed the estimators to 100 and depth 12 lr=.1 4.3604 0.937\n",
    "other_params={'learning_rate':0.05,'n_estimators':50,'max_depth':12,'min_child_weight':1,'subsample':0.8,'colsample_bytree':0.8}\n",
    "\n",
    "multioutputregressor=MultiOutputRegressor(xgb.XGBRegressor(objective='reg:squarederror',**other_params)).fit(train_X,train_y)\n",
    "\n",
    "predictions=multioutputregressor.predict(test_X)\n",
    "\n",
    "#for test set\n",
    "print('Root_mean_squared_error_test set',math.sqrt(mean_squared_error(test_y,predictions)))\n",
    "print('R2 Score_test set',r2_score(test_y,predictions))"
   ]
  },
  {
   "cell_type": "code",
   "execution_count": 49,
   "id": "acef4c8a",
   "metadata": {},
   "outputs": [
    {
     "data": {
      "text/html": [
       "<div>\n",
       "<style scoped>\n",
       "    .dataframe tbody tr th:only-of-type {\n",
       "        vertical-align: middle;\n",
       "    }\n",
       "\n",
       "    .dataframe tbody tr th {\n",
       "        vertical-align: top;\n",
       "    }\n",
       "\n",
       "    .dataframe thead th {\n",
       "        text-align: right;\n",
       "    }\n",
       "</style>\n",
       "<table border=\"1\" class=\"dataframe\">\n",
       "  <thead>\n",
       "    <tr style=\"text-align: right;\">\n",
       "      <th></th>\n",
       "      <th>NOX_HMI</th>\n",
       "      <th>CO_HMI</th>\n",
       "    </tr>\n",
       "    <tr>\n",
       "      <th>Timestamp</th>\n",
       "      <th></th>\n",
       "      <th></th>\n",
       "    </tr>\n",
       "  </thead>\n",
       "  <tbody>\n",
       "    <tr>\n",
       "      <th>2020-09-09 00:01:00</th>\n",
       "      <td>0.088763</td>\n",
       "      <td>-0.143556</td>\n",
       "    </tr>\n",
       "    <tr>\n",
       "      <th>2020-09-09 00:02:00</th>\n",
       "      <td>0.009912</td>\n",
       "      <td>-0.143507</td>\n",
       "    </tr>\n",
       "  </tbody>\n",
       "</table>\n",
       "</div>"
      ],
      "text/plain": [
       "                      NOX_HMI    CO_HMI\n",
       "Timestamp                              \n",
       "2020-09-09 00:01:00  0.088763 -0.143556\n",
       "2020-09-09 00:02:00  0.009912 -0.143507"
      ]
     },
     "execution_count": 49,
     "metadata": {},
     "output_type": "execute_result"
    }
   ],
   "source": [
    "train_y.head(2)"
   ]
  },
  {
   "cell_type": "code",
   "execution_count": 46,
   "id": "a465713c",
   "metadata": {},
   "outputs": [
    {
     "data": {
      "text/plain": [
       "2"
      ]
     },
     "execution_count": 46,
     "metadata": {},
     "output_type": "execute_result"
    }
   ],
   "source": [
    "len(multioutputregressor.estimators_)"
   ]
  },
  {
   "cell_type": "code",
   "execution_count": 61,
   "id": "946c0ef7",
   "metadata": {},
   "outputs": [],
   "source": [
    "NOX_HMI=multioutputregressor.estimators_[0].feature_importances_\n",
    "CO_HMI=multioutputregressor.estimators_[1].feature_importances_\n",
    "feature_importances_NOX_HMI=pd.DataFrame(NOX_HMI,index=train_X.columns,columns=['importance']).sort_values('importance',ascending=False)\n",
    "feature_importances_CO_HMI=pd.DataFrame(CO_HMI,index=train_X.columns,columns=['importance']).sort_values('importance',ascending=False)"
   ]
  },
  {
   "cell_type": "code",
   "execution_count": 75,
   "id": "1c788a36",
   "metadata": {},
   "outputs": [
    {
     "data": {
      "text/plain": [
       "<AxesSubplot:>"
      ]
     },
     "execution_count": 75,
     "metadata": {},
     "output_type": "execute_result"
    },
    {
     "data": {
      "image/png": "[encoded data removed]",
      "text/plain": [
       "<Figure size 720x360 with 1 Axes>"
      ]
     },
     "metadata": {
      "needs_background": "light"
     },
     "output_type": "display_data"
    }
   ],
   "source": [
    "pd.Series(NOX_HMI, index=train_X.columns).nlargest(20).plot(kind='barh',figsize=(10,5)) "
   ]
  },
  {
   "cell_type": "code",
   "execution_count": 67,
   "id": "738a4300",
   "metadata": {},
   "outputs": [
    {
     "data": {
      "text/html": [
       "<div>\n",
       "<style scoped>\n",
       "    .dataframe tbody tr th:only-of-type {\n",
       "        vertical-align: middle;\n",
       "    }\n",
       "\n",
       "    .dataframe tbody tr th {\n",
       "        vertical-align: top;\n",
       "    }\n",
       "\n",
       "    .dataframe thead th {\n",
       "        text-align: right;\n",
       "    }\n",
       "</style>\n",
       "<table border=\"1\" class=\"dataframe\">\n",
       "  <thead>\n",
       "    <tr style=\"text-align: right;\">\n",
       "      <th></th>\n",
       "      <th>importance</th>\n",
       "    </tr>\n",
       "  </thead>\n",
       "  <tbody>\n",
       "    <tr>\n",
       "      <th>O2_HMI</th>\n",
       "      <td>0.761220</td>\n",
       "    </tr>\n",
       "    <tr>\n",
       "      <th>WFPILM</th>\n",
       "      <td>0.085231</td>\n",
       "    </tr>\n",
       "    <tr>\n",
       "      <th>PX36BVAL</th>\n",
       "      <td>0.050231</td>\n",
       "    </tr>\n",
       "    <tr>\n",
       "      <th>T48SEL</th>\n",
       "      <td>0.025489</td>\n",
       "    </tr>\n",
       "    <tr>\n",
       "      <th>SGSEL</th>\n",
       "      <td>0.016301</td>\n",
       "    </tr>\n",
       "    <tr>\n",
       "      <th>LHVSEL</th>\n",
       "      <td>0.015312</td>\n",
       "    </tr>\n",
       "    <tr>\n",
       "      <th>TFLIDFS</th>\n",
       "      <td>0.009313</td>\n",
       "    </tr>\n",
       "    <tr>\n",
       "      <th>TFLODFS</th>\n",
       "      <td>0.006066</td>\n",
       "    </tr>\n",
       "    <tr>\n",
       "      <th>PX36SEL</th>\n",
       "      <td>0.005325</td>\n",
       "    </tr>\n",
       "    <tr>\n",
       "      <th>P2SEL</th>\n",
       "      <td>0.004814</td>\n",
       "    </tr>\n",
       "    <tr>\n",
       "      <th>TFLPDFS</th>\n",
       "      <td>0.003705</td>\n",
       "    </tr>\n",
       "    <tr>\n",
       "      <th>F_WB3</th>\n",
       "      <td>0.003201</td>\n",
       "    </tr>\n",
       "    <tr>\n",
       "      <th>F_FARFLO</th>\n",
       "      <td>0.001989</td>\n",
       "    </tr>\n",
       "    <tr>\n",
       "      <th>P48SEL</th>\n",
       "      <td>0.001179</td>\n",
       "    </tr>\n",
       "    <tr>\n",
       "      <th>NPTREF</th>\n",
       "      <td>0.001019</td>\n",
       "    </tr>\n",
       "    <tr>\n",
       "      <th>VLVFBKG_06</th>\n",
       "      <td>0.001012</td>\n",
       "    </tr>\n",
       "    <tr>\n",
       "      <th>F_WF36DMD</th>\n",
       "      <td>0.000876</td>\n",
       "    </tr>\n",
       "    <tr>\n",
       "      <th>REGULATOR</th>\n",
       "      <td>0.000789</td>\n",
       "    </tr>\n",
       "    <tr>\n",
       "      <th>PX36AVAL</th>\n",
       "      <td>0.000724</td>\n",
       "    </tr>\n",
       "    <tr>\n",
       "      <th>NGGSEL</th>\n",
       "      <td>0.000590</td>\n",
       "    </tr>\n",
       "    <tr>\n",
       "      <th>NPTSEL</th>\n",
       "      <td>0.000568</td>\n",
       "    </tr>\n",
       "    <tr>\n",
       "      <th>T2SEL</th>\n",
       "      <td>0.000519</td>\n",
       "    </tr>\n",
       "    <tr>\n",
       "      <th>SSFILTER</th>\n",
       "      <td>0.000504</td>\n",
       "    </tr>\n",
       "    <tr>\n",
       "      <th>TFLCYCS</th>\n",
       "      <td>0.000468</td>\n",
       "    </tr>\n",
       "    <tr>\n",
       "      <th>WFINRM</th>\n",
       "      <td>0.000431</td>\n",
       "    </tr>\n",
       "    <tr>\n",
       "      <th>WFQPERRCOR</th>\n",
       "      <td>0.000428</td>\n",
       "    </tr>\n",
       "    <tr>\n",
       "      <th>T3SEL</th>\n",
       "      <td>0.000428</td>\n",
       "    </tr>\n",
       "    <tr>\n",
       "      <th>F_FARFL</th>\n",
       "      <td>0.000283</td>\n",
       "    </tr>\n",
       "    <tr>\n",
       "      <th>F_WB3Q</th>\n",
       "      <td>0.000281</td>\n",
       "    </tr>\n",
       "    <tr>\n",
       "      <th>F_WA36</th>\n",
       "      <td>0.000249</td>\n",
       "    </tr>\n",
       "    <tr>\n",
       "      <th>A90RH</th>\n",
       "      <td>0.000231</td>\n",
       "    </tr>\n",
       "    <tr>\n",
       "      <th>BRNDMD</th>\n",
       "      <td>0.000231</td>\n",
       "    </tr>\n",
       "    <tr>\n",
       "      <th>T8SEL</th>\n",
       "      <td>0.000221</td>\n",
       "    </tr>\n",
       "    <tr>\n",
       "      <th>F_WAFL</th>\n",
       "      <td>0.000184</td>\n",
       "    </tr>\n",
       "    <tr>\n",
       "      <th>F_W2</th>\n",
       "      <td>0.000168</td>\n",
       "    </tr>\n",
       "    <tr>\n",
       "      <th>WFOTRM</th>\n",
       "      <td>0.000139</td>\n",
       "    </tr>\n",
       "    <tr>\n",
       "      <th>DWB36PCT</th>\n",
       "      <td>0.000111</td>\n",
       "    </tr>\n",
       "    <tr>\n",
       "      <th>CDPSEL</th>\n",
       "      <td>0.000071</td>\n",
       "    </tr>\n",
       "    <tr>\n",
       "      <th>F_FARFLI</th>\n",
       "      <td>0.000061</td>\n",
       "    </tr>\n",
       "    <tr>\n",
       "      <th>PS3SEL</th>\n",
       "      <td>0.000037</td>\n",
       "    </tr>\n",
       "  </tbody>\n",
       "</table>\n",
       "</div>"
      ],
      "text/plain": [
       "            importance\n",
       "O2_HMI        0.761220\n",
       "WFPILM        0.085231\n",
       "PX36BVAL      0.050231\n",
       "T48SEL        0.025489\n",
       "SGSEL         0.016301\n",
       "LHVSEL        0.015312\n",
       "TFLIDFS       0.009313\n",
       "TFLODFS       0.006066\n",
       "PX36SEL       0.005325\n",
       "P2SEL         0.004814\n",
       "TFLPDFS       0.003705\n",
       "F_WB3         0.003201\n",
       "F_FARFLO      0.001989\n",
       "P48SEL        0.001179\n",
       "NPTREF        0.001019\n",
       "VLVFBKG_06    0.001012\n",
       "F_WF36DMD     0.000876\n",
       "REGULATOR     0.000789\n",
       "PX36AVAL      0.000724\n",
       "NGGSEL        0.000590\n",
       "NPTSEL        0.000568\n",
       "T2SEL         0.000519\n",
       "SSFILTER      0.000504\n",
       "TFLCYCS       0.000468\n",
       "WFINRM        0.000431\n",
       "WFQPERRCOR    0.000428\n",
       "T3SEL         0.000428\n",
       "F_FARFL       0.000283\n",
       "F_WB3Q        0.000281\n",
       "F_WA36        0.000249\n",
       "A90RH         0.000231\n",
       "BRNDMD        0.000231\n",
       "T8SEL         0.000221\n",
       "F_WAFL        0.000184\n",
       "F_W2          0.000168\n",
       "WFOTRM        0.000139\n",
       "DWB36PCT      0.000111\n",
       "CDPSEL        0.000071\n",
       "F_FARFLI      0.000061\n",
       "PS3SEL        0.000037"
      ]
     },
     "execution_count": 67,
     "metadata": {},
     "output_type": "execute_result"
    }
   ],
   "source": [
    "feature_importances_NOX_HMI"
   ]
  },
  {
   "cell_type": "code",
   "execution_count": 84,
   "id": "5747b39a",
   "metadata": {},
   "outputs": [
    {
     "data": {
      "text/html": [
       "<div>\n",
       "<style scoped>\n",
       "    .dataframe tbody tr th:only-of-type {\n",
       "        vertical-align: middle;\n",
       "    }\n",
       "\n",
       "    .dataframe tbody tr th {\n",
       "        vertical-align: top;\n",
       "    }\n",
       "\n",
       "    .dataframe thead th {\n",
       "        text-align: right;\n",
       "    }\n",
       "</style>\n",
       "<table border=\"1\" class=\"dataframe\">\n",
       "  <thead>\n",
       "    <tr style=\"text-align: right;\">\n",
       "      <th></th>\n",
       "      <th>importance</th>\n",
       "    </tr>\n",
       "  </thead>\n",
       "  <tbody>\n",
       "    <tr>\n",
       "      <th>REGULATOR</th>\n",
       "      <td>0.767585</td>\n",
       "    </tr>\n",
       "    <tr>\n",
       "      <th>F_WB3Q</th>\n",
       "      <td>0.111317</td>\n",
       "    </tr>\n",
       "    <tr>\n",
       "      <th>O2_HMI</th>\n",
       "      <td>0.062413</td>\n",
       "    </tr>\n",
       "    <tr>\n",
       "      <th>T48SEL</th>\n",
       "      <td>0.009718</td>\n",
       "    </tr>\n",
       "    <tr>\n",
       "      <th>WFOTRM</th>\n",
       "      <td>0.009195</td>\n",
       "    </tr>\n",
       "    <tr>\n",
       "      <th>F_FARFL</th>\n",
       "      <td>0.005692</td>\n",
       "    </tr>\n",
       "    <tr>\n",
       "      <th>WFINRM</th>\n",
       "      <td>0.004382</td>\n",
       "    </tr>\n",
       "    <tr>\n",
       "      <th>F_WB3</th>\n",
       "      <td>0.004298</td>\n",
       "    </tr>\n",
       "    <tr>\n",
       "      <th>TFLCYCS</th>\n",
       "      <td>0.004018</td>\n",
       "    </tr>\n",
       "    <tr>\n",
       "      <th>NPTREF</th>\n",
       "      <td>0.002753</td>\n",
       "    </tr>\n",
       "    <tr>\n",
       "      <th>NPTSEL</th>\n",
       "      <td>0.002566</td>\n",
       "    </tr>\n",
       "    <tr>\n",
       "      <th>SGSEL</th>\n",
       "      <td>0.002124</td>\n",
       "    </tr>\n",
       "    <tr>\n",
       "      <th>TFLIDFS</th>\n",
       "      <td>0.001825</td>\n",
       "    </tr>\n",
       "    <tr>\n",
       "      <th>NGGSEL</th>\n",
       "      <td>0.001644</td>\n",
       "    </tr>\n",
       "    <tr>\n",
       "      <th>LHVSEL</th>\n",
       "      <td>0.001474</td>\n",
       "    </tr>\n",
       "    <tr>\n",
       "      <th>BRNDMD</th>\n",
       "      <td>0.001330</td>\n",
       "    </tr>\n",
       "    <tr>\n",
       "      <th>PX36AVAL</th>\n",
       "      <td>0.001056</td>\n",
       "    </tr>\n",
       "    <tr>\n",
       "      <th>WFQPERRCOR</th>\n",
       "      <td>0.000650</td>\n",
       "    </tr>\n",
       "    <tr>\n",
       "      <th>DWB36PCT</th>\n",
       "      <td>0.000619</td>\n",
       "    </tr>\n",
       "    <tr>\n",
       "      <th>P2SEL</th>\n",
       "      <td>0.000610</td>\n",
       "    </tr>\n",
       "    <tr>\n",
       "      <th>TFLODFS</th>\n",
       "      <td>0.000490</td>\n",
       "    </tr>\n",
       "    <tr>\n",
       "      <th>PX36BVAL</th>\n",
       "      <td>0.000431</td>\n",
       "    </tr>\n",
       "    <tr>\n",
       "      <th>T8SEL</th>\n",
       "      <td>0.000373</td>\n",
       "    </tr>\n",
       "    <tr>\n",
       "      <th>TFLPDFS</th>\n",
       "      <td>0.000360</td>\n",
       "    </tr>\n",
       "    <tr>\n",
       "      <th>PS3SEL</th>\n",
       "      <td>0.000358</td>\n",
       "    </tr>\n",
       "    <tr>\n",
       "      <th>WFPILM</th>\n",
       "      <td>0.000317</td>\n",
       "    </tr>\n",
       "    <tr>\n",
       "      <th>F_WAFL</th>\n",
       "      <td>0.000282</td>\n",
       "    </tr>\n",
       "    <tr>\n",
       "      <th>F_WA36</th>\n",
       "      <td>0.000264</td>\n",
       "    </tr>\n",
       "    <tr>\n",
       "      <th>P48SEL</th>\n",
       "      <td>0.000237</td>\n",
       "    </tr>\n",
       "    <tr>\n",
       "      <th>PX36SEL</th>\n",
       "      <td>0.000235</td>\n",
       "    </tr>\n",
       "    <tr>\n",
       "      <th>F_W2</th>\n",
       "      <td>0.000204</td>\n",
       "    </tr>\n",
       "    <tr>\n",
       "      <th>F_FARFLO</th>\n",
       "      <td>0.000182</td>\n",
       "    </tr>\n",
       "    <tr>\n",
       "      <th>CDPSEL</th>\n",
       "      <td>0.000170</td>\n",
       "    </tr>\n",
       "    <tr>\n",
       "      <th>F_FARFLI</th>\n",
       "      <td>0.000159</td>\n",
       "    </tr>\n",
       "    <tr>\n",
       "      <th>A90RH</th>\n",
       "      <td>0.000142</td>\n",
       "    </tr>\n",
       "    <tr>\n",
       "      <th>T3SEL</th>\n",
       "      <td>0.000138</td>\n",
       "    </tr>\n",
       "    <tr>\n",
       "      <th>T2SEL</th>\n",
       "      <td>0.000113</td>\n",
       "    </tr>\n",
       "    <tr>\n",
       "      <th>VLVFBKG_06</th>\n",
       "      <td>0.000112</td>\n",
       "    </tr>\n",
       "    <tr>\n",
       "      <th>F_WF36DMD</th>\n",
       "      <td>0.000102</td>\n",
       "    </tr>\n",
       "    <tr>\n",
       "      <th>SSFILTER</th>\n",
       "      <td>0.000061</td>\n",
       "    </tr>\n",
       "  </tbody>\n",
       "</table>\n",
       "</div>"
      ],
      "text/plain": [
       "            importance\n",
       "REGULATOR     0.767585\n",
       "F_WB3Q        0.111317\n",
       "O2_HMI        0.062413\n",
       "T48SEL        0.009718\n",
       "WFOTRM        0.009195\n",
       "F_FARFL       0.005692\n",
       "WFINRM        0.004382\n",
       "F_WB3         0.004298\n",
       "TFLCYCS       0.004018\n",
       "NPTREF        0.002753\n",
       "NPTSEL        0.002566\n",
       "SGSEL         0.002124\n",
       "TFLIDFS       0.001825\n",
       "NGGSEL        0.001644\n",
       "LHVSEL        0.001474\n",
       "BRNDMD        0.001330\n",
       "PX36AVAL      0.001056\n",
       "WFQPERRCOR    0.000650\n",
       "DWB36PCT      0.000619\n",
       "P2SEL         0.000610\n",
       "TFLODFS       0.000490\n",
       "PX36BVAL      0.000431\n",
       "T8SEL         0.000373\n",
       "TFLPDFS       0.000360\n",
       "PS3SEL        0.000358\n",
       "WFPILM        0.000317\n",
       "F_WAFL        0.000282\n",
       "F_WA36        0.000264\n",
       "P48SEL        0.000237\n",
       "PX36SEL       0.000235\n",
       "F_W2          0.000204\n",
       "F_FARFLO      0.000182\n",
       "CDPSEL        0.000170\n",
       "F_FARFLI      0.000159\n",
       "A90RH         0.000142\n",
       "T3SEL         0.000138\n",
       "T2SEL         0.000113\n",
       "VLVFBKG_06    0.000112\n",
       "F_WF36DMD     0.000102\n",
       "SSFILTER      0.000061"
      ]
     },
     "execution_count": 84,
     "metadata": {},
     "output_type": "execute_result"
    }
   ],
   "source": [
    "feature_importances_CO_HMI=feature_importances_CO_HMI.sort_values('importance',ascending=False)\n",
    "feature_importances_CO_HMI"
   ]
  },
  {
   "cell_type": "code",
   "execution_count": 70,
   "id": "b742f954",
   "metadata": {},
   "outputs": [],
   "source": [
    "common_imp_columns_all=set(feature_importances_CO_HMI.index) & set(feature_importances_NOX_HMI.index)  "
   ]
  },
  {
   "cell_type": "code",
   "execution_count": 85,
   "id": "9532564a",
   "metadata": {},
   "outputs": [
    {
     "data": {
      "text/plain": [
       "Index(['REGULATOR', 'F_WB3Q', 'O2_HMI', 'T48SEL', 'WFOTRM', 'F_FARFL',\n",
       "       'WFINRM', 'F_WB3', 'TFLCYCS', 'NPTREF', 'NPTSEL', 'SGSEL', 'TFLIDFS',\n",
       "       'NGGSEL', 'LHVSEL', 'BRNDMD', 'PX36AVAL', 'WFQPERRCOR', 'DWB36PCT',\n",
       "       'P2SEL', 'TFLODFS', 'PX36BVAL', 'T8SEL', 'TFLPDFS', 'PS3SEL', 'WFPILM',\n",
       "       'F_WAFL', 'F_WA36', 'P48SEL', 'PX36SEL'],\n",
       "      dtype='object')"
      ]
     },
     "execution_count": 85,
     "metadata": {},
     "output_type": "execute_result"
    }
   ],
   "source": [
    "feature_importances_CO_HMI.index[0:30]"
   ]
  },
  {
   "cell_type": "code",
   "execution_count": 86,
   "id": "7f9dce94",
   "metadata": {},
   "outputs": [
    {
     "data": {
      "text/plain": [
       "Index(['O2_HMI', 'WFPILM', 'PX36BVAL', 'T48SEL', 'SGSEL', 'LHVSEL', 'TFLIDFS',\n",
       "       'TFLODFS', 'PX36SEL', 'P2SEL', 'TFLPDFS', 'F_WB3', 'F_FARFLO', 'P48SEL',\n",
       "       'NPTREF', 'VLVFBKG_06', 'F_WF36DMD', 'REGULATOR', 'PX36AVAL', 'NGGSEL',\n",
       "       'NPTSEL', 'T2SEL', 'SSFILTER', 'TFLCYCS', 'WFINRM', 'WFQPERRCOR',\n",
       "       'T3SEL', 'F_FARFL', 'F_WB3Q', 'F_WA36'],\n",
       "      dtype='object')"
      ]
     },
     "execution_count": 86,
     "metadata": {},
     "output_type": "execute_result"
    }
   ],
   "source": [
    "feature_importances_NOX_HMI.index[0:30]"
   ]
  },
  {
   "cell_type": "code",
   "execution_count": 88,
   "id": "42c64d56",
   "metadata": {},
   "outputs": [],
   "source": [
    "#ommon_important_features from top 30 features of both output columns\n",
    "common_important_features=list(set(feature_importances_CO_HMI.index[0:30]) & set(feature_importances_NOX_HMI.index[0:30]))"
   ]
  },
  {
   "cell_type": "code",
   "execution_count": 90,
   "id": "e385194c",
   "metadata": {},
   "outputs": [
    {
     "name": "stdout",
     "output_type": "stream",
     "text": [
      "24 ['F_WA36', 'P2SEL', 'T48SEL', 'TFLPDFS', 'WFINRM', 'WFPILM', 'P48SEL', 'PX36AVAL', 'PX36SEL', 'TFLODFS', 'TFLIDFS', 'WFQPERRCOR', 'F_FARFL', 'PX36BVAL', 'LHVSEL', 'REGULATOR', 'NPTREF', 'NGGSEL', 'NPTSEL', 'F_WB3Q', 'F_WB3', 'O2_HMI', 'TFLCYCS', 'SGSEL']\n"
     ]
    }
   ],
   "source": [
    "print(len(common_important_features),common_important_features)"
   ]
  },
  {
   "cell_type": "code",
   "execution_count": 87,
   "id": "3965f46f",
   "metadata": {},
   "outputs": [
    {
     "data": {
      "text/plain": [
       "Index(['BRNDMD', 'WFPILM', 'F_FARFLO', 'F_FARFL', 'F_W2', 'F_WB3Q',\n",
       "       'F_WF36DMD', 'P2SEL', 'T2SEL', 'T3SEL', 'TFLCYCS', 'TFLIDFS', 'TFLODFS',\n",
       "       'WFINRM', 'WFOTRM', 'A90RH', 'PX36SEL', 'PX36AVAL', 'NPTREF',\n",
       "       'DWB36PCT', 'REGULATOR', 'CDPSEL', 'T8SEL', 'P48SEL', 'LHVSEL', 'SGSEL',\n",
       "       'O2_HMI', 'VLVFBKG_06', 'SSFILTER'],\n",
       "      dtype='object')"
      ]
     },
     "execution_count": 87,
     "metadata": {},
     "output_type": "execute_result"
    }
   ],
   "source": [
    "#features from lasso\n",
    "selected_feats"
   ]
  },
  {
   "cell_type": "code",
   "execution_count": 92,
   "id": "a638c9e3",
   "metadata": {},
   "outputs": [
    {
     "name": "stdout",
     "output_type": "stream",
     "text": [
      "['LHVSEL', 'P2SEL', 'F_WB3Q', 'SGSEL', 'REGULATOR', 'TFLCYCS', 'F_FARFL', 'WFINRM', 'NPTREF', 'WFPILM', 'O2_HMI', 'P48SEL', 'PX36AVAL', 'PX36SEL', 'TFLODFS', 'TFLIDFS']\n"
     ]
    }
   ],
   "source": [
    "print(list(set(selected_feats) & set(common_important_features)))"
   ]
  },
  {
   "cell_type": "markdown",
   "id": "0d9b48e8",
   "metadata": {},
   "source": [
    "## Grid search randomized search"
   ]
  },
  {
   "cell_type": "code",
   "execution_count": 41,
   "id": "eec8203f",
   "metadata": {},
   "outputs": [],
   "source": [
    "from sklearn.model_selection import RandomizedSearchCV, GridSearchCV\n",
    "import time\n",
    "#from scipy.stats import skew\n"
   ]
  },
  {
   "cell_type": "markdown",
   "id": "772b2ac5",
   "metadata": {},
   "source": [
    "# takes a lot of time hours"
   ]
  },
  {
   "cell_type": "code",
   "execution_count": null,
   "id": "cce26e7a",
   "metadata": {},
   "outputs": [],
   "source": [
    "gsc = GridSearchCV(\n",
    "            estimator=xgb.XGBRegressor(),\n",
    "            param_grid={\"learning_rate\": (0.05, 0.10, 0.15),\n",
    "                        \"max_depth\": [4, 5, 6, 8],\n",
    "                        \"min_child_weight\": [ 1, 3, 5, 7],\n",
    "                        \"gamma\":[ 0.0, 0.1, 0.2],\n",
    "                        \"subsample\": [0.8,0.9, 1.0],\n",
    "                        \"colsample_bytree\":[ 0.8, 0.9],},\n",
    "            cv=5, scoring='neg_mean_squared_error', verbose=0, n_jobs=-1)\n",
    "start1=time.time()\n",
    "grid_result = MultiOutputRegressor(gsc).fit(train_X, train_y)\n",
    "end1=time.time()\n",
    "print('time elapsed: ' + str(end1-start1))"
   ]
  },
  {
   "cell_type": "code",
   "execution_count": null,
   "id": "f24a0b41",
   "metadata": {},
   "outputs": [],
   "source": [
    "y_predict_gsc = grid_result.predict(test_X)\n",
    "print('Root_mean_squared_error_test set',math.sqrt(mean_squared_error(test_y,y_predict_gsc)))\n",
    "print('R2 Score_test set',r2_score(test_y,y_predict_gsc))"
   ]
  },
  {
   "cell_type": "code",
   "execution_count": null,
   "id": "b08bb787",
   "metadata": {},
   "outputs": [],
   "source": []
  },
  {
   "cell_type": "code",
   "execution_count": null,
   "id": "d3479463",
   "metadata": {},
   "outputs": [],
   "source": []
  },
  {
   "cell_type": "code",
   "execution_count": 96,
   "id": "b46a2c8d",
   "metadata": {},
   "outputs": [
    {
     "ename": "TypeError",
     "evalue": "__init__() got an unexpected keyword argument 'param_grid'",
     "output_type": "error",
     "traceback": [
      "\u001b[0;31m---------------------------------------------------------------------------\u001b[0m",
      "\u001b[0;31mTypeError\u001b[0m                                 Traceback (most recent call last)",
      "\u001b[0;32m/tmp/ipykernel_1475/156980197.py\u001b[0m in \u001b[0;36m<module>\u001b[0;34m\u001b[0m\n\u001b[0;32m----> 1\u001b[0;31m rsc = RandomizedSearchCV(\n\u001b[0m\u001b[1;32m      2\u001b[0m             \u001b[0mestimator\u001b[0m\u001b[0;34m=\u001b[0m\u001b[0mxgb\u001b[0m\u001b[0;34m.\u001b[0m\u001b[0mXGBRegressor\u001b[0m\u001b[0;34m(\u001b[0m\u001b[0;34m)\u001b[0m\u001b[0;34m,\u001b[0m\u001b[0;34m\u001b[0m\u001b[0;34m\u001b[0m\u001b[0m\n\u001b[1;32m      3\u001b[0m             param_grid={\"learning_rate\": (0.05, 0.10, 0.15),\n\u001b[1;32m      4\u001b[0m                         \u001b[0;34m\"max_depth\"\u001b[0m\u001b[0;34m:\u001b[0m \u001b[0;34m[\u001b[0m\u001b[0;36m4\u001b[0m\u001b[0;34m,\u001b[0m \u001b[0;36m5\u001b[0m\u001b[0;34m,\u001b[0m \u001b[0;36m6\u001b[0m\u001b[0;34m,\u001b[0m \u001b[0;36m8\u001b[0m\u001b[0;34m]\u001b[0m\u001b[0;34m,\u001b[0m\u001b[0;34m\u001b[0m\u001b[0;34m\u001b[0m\u001b[0m\n\u001b[1;32m      5\u001b[0m                         \u001b[0;34m\"min_child_weight\"\u001b[0m\u001b[0;34m:\u001b[0m \u001b[0;34m[\u001b[0m \u001b[0;36m1\u001b[0m\u001b[0;34m,\u001b[0m \u001b[0;36m3\u001b[0m\u001b[0;34m,\u001b[0m \u001b[0;36m5\u001b[0m\u001b[0;34m,\u001b[0m \u001b[0;36m7\u001b[0m\u001b[0;34m]\u001b[0m\u001b[0;34m,\u001b[0m\u001b[0;34m\u001b[0m\u001b[0;34m\u001b[0m\u001b[0m\n",
      "\u001b[0;32m/usr/local/lib/python3.8/dist-packages/sklearn/utils/validation.py\u001b[0m in \u001b[0;36minner_f\u001b[0;34m(*args, **kwargs)\u001b[0m\n\u001b[1;32m     61\u001b[0m             \u001b[0mextra_args\u001b[0m \u001b[0;34m=\u001b[0m \u001b[0mlen\u001b[0m\u001b[0;34m(\u001b[0m\u001b[0margs\u001b[0m\u001b[0;34m)\u001b[0m \u001b[0;34m-\u001b[0m \u001b[0mlen\u001b[0m\u001b[0;34m(\u001b[0m\u001b[0mall_args\u001b[0m\u001b[0;34m)\u001b[0m\u001b[0;34m\u001b[0m\u001b[0;34m\u001b[0m\u001b[0m\n\u001b[1;32m     62\u001b[0m             \u001b[0;32mif\u001b[0m \u001b[0mextra_args\u001b[0m \u001b[0;34m<=\u001b[0m \u001b[0;36m0\u001b[0m\u001b[0;34m:\u001b[0m\u001b[0;34m\u001b[0m\u001b[0;34m\u001b[0m\u001b[0m\n\u001b[0;32m---> 63\u001b[0;31m                 \u001b[0;32mreturn\u001b[0m \u001b[0mf\u001b[0m\u001b[0;34m(\u001b[0m\u001b[0;34m*\u001b[0m\u001b[0margs\u001b[0m\u001b[0;34m,\u001b[0m \u001b[0;34m**\u001b[0m\u001b[0mkwargs\u001b[0m\u001b[0;34m)\u001b[0m\u001b[0;34m\u001b[0m\u001b[0;34m\u001b[0m\u001b[0m\n\u001b[0m\u001b[1;32m     64\u001b[0m \u001b[0;34m\u001b[0m\u001b[0m\n\u001b[1;32m     65\u001b[0m             \u001b[0;31m# extra_args > 0\u001b[0m\u001b[0;34m\u001b[0m\u001b[0;34m\u001b[0m\u001b[0;34m\u001b[0m\u001b[0m\n",
      "\u001b[0;31mTypeError\u001b[0m: __init__() got an unexpected keyword argument 'param_grid'"
     ]
    }
   ],
   "source": [
    "rsc = RandomizedSearchCV(\n",
    "            estimator=xgb.XGBRegressor(),\n",
    "            param_grid={\"learning_rate\": (0.05, 0.10, 0.15),\n",
    "                        \"max_depth\": [4, 5, 6, 8],\n",
    "                        \"min_child_weight\": [ 1, 3, 5, 7],\n",
    "                        \"gamma\":[ 0.0, 0.1, 0.2],\n",
    "                        \"subsample\": [0.8,0.9, 1.0],\n",
    "                        \"colsample_bytree\":[ 0.8, 0.9],},\n",
    "            cv=5, scoring='neg_mean_squared_error', verbose=0, n_jobs=-1)\n",
    "start2=time.time()\n",
    "grid_result = MultiOutputRegressor(rsc).fit(train_X, train_y)\n",
    "end2=time.time()\n",
    "print('time elapsed: ' + str(end2-start2))"
   ]
  },
  {
   "cell_type": "code",
   "execution_count": null,
   "id": "3c23459e",
   "metadata": {},
   "outputs": [],
   "source": []
  },
  {
   "cell_type": "code",
   "execution_count": null,
   "id": "f93a0f4e",
   "metadata": {},
   "outputs": [],
   "source": [
    "self.best_params = grid_result.estimators_[0].best_params_  # for the first y_target estimator"
   ]
  },
  {
   "cell_type": "code",
   "execution_count": null,
   "id": "be1c2c67",
   "metadata": {},
   "outputs": [],
   "source": []
  }
 ],
 "metadata": {
  "kernelspec": {
   "display_name": "Python 3 (ipykernel)",
   "language": "python",
   "name": "python3"
  },
  "language_info": {
   "codemirror_mode": {
    "name": "ipython",
    "version": 3
   },
   "file_extension": ".py",
   "mimetype": "text/x-python",
   "name": "python",
   "nbconvert_exporter": "python",
   "pygments_lexer": "ipython3",
   "version": "3.8.10"
  },
  "varInspector": {
   "cols": {
    "lenName": 16,
    "lenType": 16,
    "lenVar": 40
   },
   "kernels_config": {
    "python": {
     "delete_cmd_postfix": "",
     "delete_cmd_prefix": "del ",
     "library": "var_list.py",
     "varRefreshCmd": "print(var_dic_list())"
    },
    "r": {
     "delete_cmd_postfix": ") ",
     "delete_cmd_prefix": "rm(",
     "library": "var_list.r",
     "varRefreshCmd": "cat(var_dic_list()) "
    }
   },
   "types_to_exclude": [
    "module",
    "function",
    "builtin_function_or_method",
    "instance",
    "_Feature"
   ],
   "window_display": false
  }
 },
 "nbformat": 4,
 "nbformat_minor": 5
}
