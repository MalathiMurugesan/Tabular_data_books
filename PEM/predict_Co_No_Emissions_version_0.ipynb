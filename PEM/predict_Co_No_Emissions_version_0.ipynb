{
 "cells": [
  {
   "cell_type": "code",
   "execution_count": 1,
   "id": "9fb9f70c",
   "metadata": {},
   "outputs": [],
   "source": [
    "import pandas as pd\n",
    "import matplotlib.pyplot as plt\n",
    "import numpy as np\n",
    "import seaborn as sns"
   ]
  },
  {
   "cell_type": "code",
   "execution_count": 13,
   "id": "db3fd347",
   "metadata": {},
   "outputs": [
    {
     "name": "stdout",
     "output_type": "stream",
     "text": [
      "(66331, 46)\n",
      "['Timestamp', 'BRNDMD', 'WFPILM', 'F_FARFLI', 'F_FARFLO', 'F_FARFL', 'F_W2', 'F_WA36', 'F_WB3Q', 'F_WF36DMD', 'P2SEL', 'PS3SEL', 'T2SEL', 'T3SEL', 'TFLCYCS', 'TFLPDFS', 'TFLIDFS', 'TFLODFS', 'WFINRM', 'WFOTRM', 'WFQPERRCOR', 'A90RH', 'F_WAFL', 'NGGSEL', 'PX36SEL', 'PX36AVAL', 'PX36BVAL', 'NPTSEL', 'NPTREF', 'DWB36PCT', 'REGULATOR', 'T48SEL', 'CDPSEL', 'T8SEL', 'P48SEL', 'LHVSEL', 'SGSEL', 'NOX_HMI', 'CO_HMI', 'O2_HMI', 'VLVFBKG_06', 'EMISSIONS_SS', 'SSFILTER', 'F_WB3', 'NOX15', 'CO15']\n"
     ]
    }
   ],
   "source": [
    "# read the respective files from these locations\n",
    "data_file_training='/data-restricted/PEM/L0162_20200909T0001_20201201T1230.csv'\n",
    "df = pd.read_csv(data_file_training)\n",
    "print(df.shape)\n",
    "print(list(df.columns))"
   ]
  },
  {
   "cell_type": "code",
   "execution_count": 14,
   "id": "adfd730a",
   "metadata": {},
   "outputs": [],
   "source": [
    "#df.plot(subplots=True,figsize=(15,4))"
   ]
  },
  {
   "cell_type": "code",
   "execution_count": 12,
   "id": "b5366704",
   "metadata": {
    "scrolled": true
   },
   "outputs": [
    {
     "data": {
      "text/html": [
       "<div>\n",
       "<style scoped>\n",
       "    .dataframe tbody tr th:only-of-type {\n",
       "        vertical-align: middle;\n",
       "    }\n",
       "\n",
       "    .dataframe tbody tr th {\n",
       "        vertical-align: top;\n",
       "    }\n",
       "\n",
       "    .dataframe thead th {\n",
       "        text-align: right;\n",
       "    }\n",
       "</style>\n",
       "<table border=\"1\" class=\"dataframe\">\n",
       "  <thead>\n",
       "    <tr style=\"text-align: right;\">\n",
       "      <th></th>\n",
       "      <th>BRNDMD</th>\n",
       "      <th>WFPILM</th>\n",
       "      <th>F_FARFLI</th>\n",
       "      <th>F_FARFLO</th>\n",
       "      <th>F_FARFL</th>\n",
       "      <th>F_W2</th>\n",
       "      <th>F_WA36</th>\n",
       "      <th>F_WB3Q</th>\n",
       "      <th>F_WF36DMD</th>\n",
       "      <th>P2SEL</th>\n",
       "      <th>...</th>\n",
       "      <th>SGSEL</th>\n",
       "      <th>NOX_HMI</th>\n",
       "      <th>CO_HMI</th>\n",
       "      <th>O2_HMI</th>\n",
       "      <th>VLVFBKG_06</th>\n",
       "      <th>EMISSIONS_SS</th>\n",
       "      <th>SSFILTER</th>\n",
       "      <th>F_WB3</th>\n",
       "      <th>NOX15</th>\n",
       "      <th>CO15</th>\n",
       "    </tr>\n",
       "    <tr>\n",
       "      <th>Timestamp</th>\n",
       "      <th></th>\n",
       "      <th></th>\n",
       "      <th></th>\n",
       "      <th></th>\n",
       "      <th></th>\n",
       "      <th></th>\n",
       "      <th></th>\n",
       "      <th></th>\n",
       "      <th></th>\n",
       "      <th></th>\n",
       "      <th></th>\n",
       "      <th></th>\n",
       "      <th></th>\n",
       "      <th></th>\n",
       "      <th></th>\n",
       "      <th></th>\n",
       "      <th></th>\n",
       "      <th></th>\n",
       "      <th></th>\n",
       "      <th></th>\n",
       "      <th></th>\n",
       "    </tr>\n",
       "  </thead>\n",
       "  <tbody>\n",
       "    <tr>\n",
       "      <th>2020-01-12 12:26:00</th>\n",
       "      <td>40</td>\n",
       "      <td>4245.363281</td>\n",
       "      <td>0.033496</td>\n",
       "      <td>0.032872</td>\n",
       "      <td>0.033384</td>\n",
       "      <td>145.356903</td>\n",
       "      <td>110.093590</td>\n",
       "      <td>0.001</td>\n",
       "      <td>10006.125980</td>\n",
       "      <td>14.297701</td>\n",
       "      <td>...</td>\n",
       "      <td>0.585046</td>\n",
       "      <td>27.391798</td>\n",
       "      <td>3.973013</td>\n",
       "      <td>14.625360</td>\n",
       "      <td>1</td>\n",
       "      <td>1.0</td>\n",
       "      <td>1.0</td>\n",
       "      <td>0.145357</td>\n",
       "      <td>25.769247</td>\n",
       "      <td>3.737672</td>\n",
       "    </tr>\n",
       "    <tr>\n",
       "      <th>2020-01-12 12:27:00</th>\n",
       "      <td>40</td>\n",
       "      <td>4283.017578</td>\n",
       "      <td>0.033521</td>\n",
       "      <td>0.032821</td>\n",
       "      <td>0.033463</td>\n",
       "      <td>145.288956</td>\n",
       "      <td>110.270889</td>\n",
       "      <td>0.001</td>\n",
       "      <td>10009.563480</td>\n",
       "      <td>14.295923</td>\n",
       "      <td>...</td>\n",
       "      <td>0.585054</td>\n",
       "      <td>27.278019</td>\n",
       "      <td>4.065174</td>\n",
       "      <td>14.648416</td>\n",
       "      <td>1</td>\n",
       "      <td>0.0</td>\n",
       "      <td>1.0</td>\n",
       "      <td>0.145289</td>\n",
       "      <td>25.756096</td>\n",
       "      <td>3.838366</td>\n",
       "    </tr>\n",
       "    <tr>\n",
       "      <th>2020-01-12 12:28:00</th>\n",
       "      <td>40</td>\n",
       "      <td>4300.925293</td>\n",
       "      <td>0.033463</td>\n",
       "      <td>0.032855</td>\n",
       "      <td>0.033434</td>\n",
       "      <td>145.408936</td>\n",
       "      <td>110.211601</td>\n",
       "      <td>0.001</td>\n",
       "      <td>10018.526370</td>\n",
       "      <td>14.295927</td>\n",
       "      <td>...</td>\n",
       "      <td>0.585079</td>\n",
       "      <td>26.944965</td>\n",
       "      <td>3.973126</td>\n",
       "      <td>14.636371</td>\n",
       "      <td>1</td>\n",
       "      <td>1.0</td>\n",
       "      <td>1.0</td>\n",
       "      <td>0.145409</td>\n",
       "      <td>25.393088</td>\n",
       "      <td>3.744297</td>\n",
       "    </tr>\n",
       "    <tr>\n",
       "      <th>2020-01-12 12:29:00</th>\n",
       "      <td>40</td>\n",
       "      <td>4297.243164</td>\n",
       "      <td>0.033402</td>\n",
       "      <td>0.032862</td>\n",
       "      <td>0.033441</td>\n",
       "      <td>145.378998</td>\n",
       "      <td>110.093704</td>\n",
       "      <td>0.001</td>\n",
       "      <td>9981.017578</td>\n",
       "      <td>14.287127</td>\n",
       "      <td>...</td>\n",
       "      <td>0.585009</td>\n",
       "      <td>27.326286</td>\n",
       "      <td>3.938121</td>\n",
       "      <td>14.647351</td>\n",
       "      <td>1</td>\n",
       "      <td>1.0</td>\n",
       "      <td>1.0</td>\n",
       "      <td>0.145379</td>\n",
       "      <td>25.797313</td>\n",
       "      <td>3.717773</td>\n",
       "    </tr>\n",
       "    <tr>\n",
       "      <th>2020-01-12 12:30:00</th>\n",
       "      <td>40</td>\n",
       "      <td>4303.796875</td>\n",
       "      <td>0.033415</td>\n",
       "      <td>0.032892</td>\n",
       "      <td>0.033355</td>\n",
       "      <td>145.597916</td>\n",
       "      <td>110.074516</td>\n",
       "      <td>0.001</td>\n",
       "      <td>9983.533203</td>\n",
       "      <td>14.295054</td>\n",
       "      <td>...</td>\n",
       "      <td>0.585053</td>\n",
       "      <td>27.067863</td>\n",
       "      <td>3.929481</td>\n",
       "      <td>14.634238</td>\n",
       "      <td>1</td>\n",
       "      <td>1.0</td>\n",
       "      <td>1.0</td>\n",
       "      <td>0.145598</td>\n",
       "      <td>25.500295</td>\n",
       "      <td>3.701915</td>\n",
       "    </tr>\n",
       "  </tbody>\n",
       "</table>\n",
       "<p>5 rows × 45 columns</p>\n",
       "</div>"
      ],
      "text/plain": [
       "                     BRNDMD       WFPILM  F_FARFLI  F_FARFLO   F_FARFL  \\\n",
       "Timestamp                                                                \n",
       "2020-01-12 12:26:00      40  4245.363281  0.033496  0.032872  0.033384   \n",
       "2020-01-12 12:27:00      40  4283.017578  0.033521  0.032821  0.033463   \n",
       "2020-01-12 12:28:00      40  4300.925293  0.033463  0.032855  0.033434   \n",
       "2020-01-12 12:29:00      40  4297.243164  0.033402  0.032862  0.033441   \n",
       "2020-01-12 12:30:00      40  4303.796875  0.033415  0.032892  0.033355   \n",
       "\n",
       "                           F_W2      F_WA36  F_WB3Q     F_WF36DMD      P2SEL  \\\n",
       "Timestamp                                                                      \n",
       "2020-01-12 12:26:00  145.356903  110.093590   0.001  10006.125980  14.297701   \n",
       "2020-01-12 12:27:00  145.288956  110.270889   0.001  10009.563480  14.295923   \n",
       "2020-01-12 12:28:00  145.408936  110.211601   0.001  10018.526370  14.295927   \n",
       "2020-01-12 12:29:00  145.378998  110.093704   0.001   9981.017578  14.287127   \n",
       "2020-01-12 12:30:00  145.597916  110.074516   0.001   9983.533203  14.295054   \n",
       "\n",
       "                     ...     SGSEL    NOX_HMI    CO_HMI     O2_HMI  \\\n",
       "Timestamp            ...                                             \n",
       "2020-01-12 12:26:00  ...  0.585046  27.391798  3.973013  14.625360   \n",
       "2020-01-12 12:27:00  ...  0.585054  27.278019  4.065174  14.648416   \n",
       "2020-01-12 12:28:00  ...  0.585079  26.944965  3.973126  14.636371   \n",
       "2020-01-12 12:29:00  ...  0.585009  27.326286  3.938121  14.647351   \n",
       "2020-01-12 12:30:00  ...  0.585053  27.067863  3.929481  14.634238   \n",
       "\n",
       "                     VLVFBKG_06  EMISSIONS_SS  SSFILTER     F_WB3      NOX15  \\\n",
       "Timestamp                                                                      \n",
       "2020-01-12 12:26:00           1           1.0       1.0  0.145357  25.769247   \n",
       "2020-01-12 12:27:00           1           0.0       1.0  0.145289  25.756096   \n",
       "2020-01-12 12:28:00           1           1.0       1.0  0.145409  25.393088   \n",
       "2020-01-12 12:29:00           1           1.0       1.0  0.145379  25.797313   \n",
       "2020-01-12 12:30:00           1           1.0       1.0  0.145598  25.500295   \n",
       "\n",
       "                         CO15  \n",
       "Timestamp                      \n",
       "2020-01-12 12:26:00  3.737672  \n",
       "2020-01-12 12:27:00  3.838366  \n",
       "2020-01-12 12:28:00  3.744297  \n",
       "2020-01-12 12:29:00  3.717773  \n",
       "2020-01-12 12:30:00  3.701915  \n",
       "\n",
       "[5 rows x 45 columns]"
      ]
     },
     "execution_count": 12,
     "metadata": {},
     "output_type": "execute_result"
    }
   ],
   "source": [
    "df.tail(5)"
   ]
  },
  {
   "cell_type": "code",
   "execution_count": 15,
   "id": "02ac24a8",
   "metadata": {},
   "outputs": [],
   "source": [
    "df['DateTime']=pd.to_datetime(df['Timestamp'], format='%d/%m/%Y %H:%M')"
   ]
  },
  {
   "cell_type": "code",
   "execution_count": 18,
   "id": "b47bf769",
   "metadata": {},
   "outputs": [
    {
     "name": "stdout",
     "output_type": "stream",
     "text": [
      "2020-09-09 00:01:00 2020-12-01 12:30:00\n"
     ]
    }
   ],
   "source": [
    "print(df['DateTime'].min(),df['DateTime'].max()) #gives lot of confusion"
   ]
  },
  {
   "cell_type": "code",
   "execution_count": 20,
   "id": "0cc28053",
   "metadata": {},
   "outputs": [
    {
     "data": {
      "text/html": [
       "<div>\n",
       "<style scoped>\n",
       "    .dataframe tbody tr th:only-of-type {\n",
       "        vertical-align: middle;\n",
       "    }\n",
       "\n",
       "    .dataframe tbody tr th {\n",
       "        vertical-align: top;\n",
       "    }\n",
       "\n",
       "    .dataframe thead th {\n",
       "        text-align: right;\n",
       "    }\n",
       "</style>\n",
       "<table border=\"1\" class=\"dataframe\">\n",
       "  <thead>\n",
       "    <tr style=\"text-align: right;\">\n",
       "      <th></th>\n",
       "      <th>DateTime</th>\n",
       "      <th>Timestamp</th>\n",
       "    </tr>\n",
       "  </thead>\n",
       "  <tbody>\n",
       "    <tr>\n",
       "      <th>66326</th>\n",
       "      <td>2020-12-01 12:26:00</td>\n",
       "      <td>01/12/2020 12:26</td>\n",
       "    </tr>\n",
       "    <tr>\n",
       "      <th>66327</th>\n",
       "      <td>2020-12-01 12:27:00</td>\n",
       "      <td>01/12/2020 12:27</td>\n",
       "    </tr>\n",
       "    <tr>\n",
       "      <th>66328</th>\n",
       "      <td>2020-12-01 12:28:00</td>\n",
       "      <td>01/12/2020 12:28</td>\n",
       "    </tr>\n",
       "    <tr>\n",
       "      <th>66329</th>\n",
       "      <td>2020-12-01 12:29:00</td>\n",
       "      <td>01/12/2020 12:29</td>\n",
       "    </tr>\n",
       "    <tr>\n",
       "      <th>66330</th>\n",
       "      <td>2020-12-01 12:30:00</td>\n",
       "      <td>01/12/2020 12:30</td>\n",
       "    </tr>\n",
       "  </tbody>\n",
       "</table>\n",
       "</div>"
      ],
      "text/plain": [
       "                 DateTime         Timestamp\n",
       "66326 2020-12-01 12:26:00  01/12/2020 12:26\n",
       "66327 2020-12-01 12:27:00  01/12/2020 12:27\n",
       "66328 2020-12-01 12:28:00  01/12/2020 12:28\n",
       "66329 2020-12-01 12:29:00  01/12/2020 12:29\n",
       "66330 2020-12-01 12:30:00  01/12/2020 12:30"
      ]
     },
     "execution_count": 20,
     "metadata": {},
     "output_type": "execute_result"
    }
   ],
   "source": [
    "df[['DateTime','Timestamp']].tail()"
   ]
  },
  {
   "cell_type": "code",
   "execution_count": 21,
   "id": "9bd62c74",
   "metadata": {},
   "outputs": [
    {
     "data": {
      "text/html": [
       "<div>\n",
       "<style scoped>\n",
       "    .dataframe tbody tr th:only-of-type {\n",
       "        vertical-align: middle;\n",
       "    }\n",
       "\n",
       "    .dataframe tbody tr th {\n",
       "        vertical-align: top;\n",
       "    }\n",
       "\n",
       "    .dataframe thead th {\n",
       "        text-align: right;\n",
       "    }\n",
       "</style>\n",
       "<table border=\"1\" class=\"dataframe\">\n",
       "  <thead>\n",
       "    <tr style=\"text-align: right;\">\n",
       "      <th></th>\n",
       "      <th>Timestamp</th>\n",
       "      <th>BRNDMD</th>\n",
       "      <th>WFPILM</th>\n",
       "      <th>F_FARFLI</th>\n",
       "      <th>F_FARFLO</th>\n",
       "      <th>F_FARFL</th>\n",
       "      <th>F_W2</th>\n",
       "      <th>F_WA36</th>\n",
       "      <th>F_WB3Q</th>\n",
       "      <th>F_WF36DMD</th>\n",
       "      <th>...</th>\n",
       "      <th>SGSEL</th>\n",
       "      <th>NOX_HMI</th>\n",
       "      <th>CO_HMI</th>\n",
       "      <th>O2_HMI</th>\n",
       "      <th>VLVFBKG_06</th>\n",
       "      <th>EMISSIONS_SS</th>\n",
       "      <th>SSFILTER</th>\n",
       "      <th>F_WB3</th>\n",
       "      <th>NOX15</th>\n",
       "      <th>CO15</th>\n",
       "    </tr>\n",
       "    <tr>\n",
       "      <th>DateTime</th>\n",
       "      <th></th>\n",
       "      <th></th>\n",
       "      <th></th>\n",
       "      <th></th>\n",
       "      <th></th>\n",
       "      <th></th>\n",
       "      <th></th>\n",
       "      <th></th>\n",
       "      <th></th>\n",
       "      <th></th>\n",
       "      <th></th>\n",
       "      <th></th>\n",
       "      <th></th>\n",
       "      <th></th>\n",
       "      <th></th>\n",
       "      <th></th>\n",
       "      <th></th>\n",
       "      <th></th>\n",
       "      <th></th>\n",
       "      <th></th>\n",
       "      <th></th>\n",
       "    </tr>\n",
       "  </thead>\n",
       "  <tbody>\n",
       "    <tr>\n",
       "      <th>2020-09-09 00:01:00</th>\n",
       "      <td>09/09/2020 00:01</td>\n",
       "      <td>0</td>\n",
       "      <td>0.000000</td>\n",
       "      <td>0.050706</td>\n",
       "      <td>0.054869</td>\n",
       "      <td>0.000394</td>\n",
       "      <td>2.955765</td>\n",
       "      <td>2.205765</td>\n",
       "      <td>0.001</td>\n",
       "      <td>1.000000</td>\n",
       "      <td>...</td>\n",
       "      <td>0.581794</td>\n",
       "      <td>0.088763</td>\n",
       "      <td>-0.143556</td>\n",
       "      <td>20.903236</td>\n",
       "      <td>1</td>\n",
       "      <td>NaN</td>\n",
       "      <td>0.0</td>\n",
       "      <td>0.002956</td>\n",
       "      <td>11.293851</td>\n",
       "      <td>11.293851</td>\n",
       "    </tr>\n",
       "    <tr>\n",
       "      <th>2020-09-09 00:02:00</th>\n",
       "      <td>09/09/2020 00:02</td>\n",
       "      <td>0</td>\n",
       "      <td>0.000000</td>\n",
       "      <td>0.050663</td>\n",
       "      <td>0.054912</td>\n",
       "      <td>0.000394</td>\n",
       "      <td>2.955769</td>\n",
       "      <td>2.203284</td>\n",
       "      <td>0.001</td>\n",
       "      <td>1.000000</td>\n",
       "      <td>...</td>\n",
       "      <td>0.581880</td>\n",
       "      <td>0.009912</td>\n",
       "      <td>-0.143507</td>\n",
       "      <td>20.904413</td>\n",
       "      <td>1</td>\n",
       "      <td>NaN</td>\n",
       "      <td>0.0</td>\n",
       "      <td>0.002956</td>\n",
       "      <td>1.293750</td>\n",
       "      <td>1.293750</td>\n",
       "    </tr>\n",
       "    <tr>\n",
       "      <th>2020-09-09 00:03:00</th>\n",
       "      <td>09/09/2020 00:03</td>\n",
       "      <td>0</td>\n",
       "      <td>0.000000</td>\n",
       "      <td>0.050619</td>\n",
       "      <td>0.054950</td>\n",
       "      <td>0.000394</td>\n",
       "      <td>2.955831</td>\n",
       "      <td>2.207688</td>\n",
       "      <td>0.001</td>\n",
       "      <td>1.000000</td>\n",
       "      <td>...</td>\n",
       "      <td>0.581835</td>\n",
       "      <td>0.001085</td>\n",
       "      <td>-0.476700</td>\n",
       "      <td>20.904449</td>\n",
       "      <td>1</td>\n",
       "      <td>NaN</td>\n",
       "      <td>0.0</td>\n",
       "      <td>0.002956</td>\n",
       "      <td>0.141702</td>\n",
       "      <td>0.141702</td>\n",
       "    </tr>\n",
       "    <tr>\n",
       "      <th>2020-09-09 00:04:00</th>\n",
       "      <td>09/09/2020 00:04</td>\n",
       "      <td>0</td>\n",
       "      <td>0.000000</td>\n",
       "      <td>0.050772</td>\n",
       "      <td>0.054837</td>\n",
       "      <td>0.000394</td>\n",
       "      <td>2.955652</td>\n",
       "      <td>2.201402</td>\n",
       "      <td>0.001</td>\n",
       "      <td>1.000000</td>\n",
       "      <td>...</td>\n",
       "      <td>0.581801</td>\n",
       "      <td>-0.003205</td>\n",
       "      <td>-0.112790</td>\n",
       "      <td>20.901173</td>\n",
       "      <td>1</td>\n",
       "      <td>NaN</td>\n",
       "      <td>0.0</td>\n",
       "      <td>0.002956</td>\n",
       "      <td>-0.390584</td>\n",
       "      <td>-0.390584</td>\n",
       "    </tr>\n",
       "    <tr>\n",
       "      <th>2020-09-09 00:05:00</th>\n",
       "      <td>09/09/2020 00:05</td>\n",
       "      <td>0</td>\n",
       "      <td>0.000000</td>\n",
       "      <td>0.050657</td>\n",
       "      <td>0.054788</td>\n",
       "      <td>0.000394</td>\n",
       "      <td>2.955683</td>\n",
       "      <td>2.199374</td>\n",
       "      <td>0.001</td>\n",
       "      <td>1.000000</td>\n",
       "      <td>...</td>\n",
       "      <td>0.581818</td>\n",
       "      <td>0.040537</td>\n",
       "      <td>-0.389031</td>\n",
       "      <td>20.893452</td>\n",
       "      <td>1</td>\n",
       "      <td>NaN</td>\n",
       "      <td>0.0</td>\n",
       "      <td>0.002956</td>\n",
       "      <td>4.265306</td>\n",
       "      <td>4.265306</td>\n",
       "    </tr>\n",
       "    <tr>\n",
       "      <th>...</th>\n",
       "      <td>...</td>\n",
       "      <td>...</td>\n",
       "      <td>...</td>\n",
       "      <td>...</td>\n",
       "      <td>...</td>\n",
       "      <td>...</td>\n",
       "      <td>...</td>\n",
       "      <td>...</td>\n",
       "      <td>...</td>\n",
       "      <td>...</td>\n",
       "      <td>...</td>\n",
       "      <td>...</td>\n",
       "      <td>...</td>\n",
       "      <td>...</td>\n",
       "      <td>...</td>\n",
       "      <td>...</td>\n",
       "      <td>...</td>\n",
       "      <td>...</td>\n",
       "      <td>...</td>\n",
       "      <td>...</td>\n",
       "      <td>...</td>\n",
       "    </tr>\n",
       "    <tr>\n",
       "      <th>2020-12-01 12:26:00</th>\n",
       "      <td>01/12/2020 12:26</td>\n",
       "      <td>40</td>\n",
       "      <td>4245.363281</td>\n",
       "      <td>0.033496</td>\n",
       "      <td>0.032872</td>\n",
       "      <td>0.033384</td>\n",
       "      <td>145.356903</td>\n",
       "      <td>110.093590</td>\n",
       "      <td>0.001</td>\n",
       "      <td>10006.125980</td>\n",
       "      <td>...</td>\n",
       "      <td>0.585046</td>\n",
       "      <td>27.391798</td>\n",
       "      <td>3.973013</td>\n",
       "      <td>14.625360</td>\n",
       "      <td>1</td>\n",
       "      <td>1.0</td>\n",
       "      <td>1.0</td>\n",
       "      <td>0.145357</td>\n",
       "      <td>25.769247</td>\n",
       "      <td>3.737672</td>\n",
       "    </tr>\n",
       "    <tr>\n",
       "      <th>2020-12-01 12:27:00</th>\n",
       "      <td>01/12/2020 12:27</td>\n",
       "      <td>40</td>\n",
       "      <td>4283.017578</td>\n",
       "      <td>0.033521</td>\n",
       "      <td>0.032821</td>\n",
       "      <td>0.033463</td>\n",
       "      <td>145.288956</td>\n",
       "      <td>110.270889</td>\n",
       "      <td>0.001</td>\n",
       "      <td>10009.563480</td>\n",
       "      <td>...</td>\n",
       "      <td>0.585054</td>\n",
       "      <td>27.278019</td>\n",
       "      <td>4.065174</td>\n",
       "      <td>14.648416</td>\n",
       "      <td>1</td>\n",
       "      <td>0.0</td>\n",
       "      <td>1.0</td>\n",
       "      <td>0.145289</td>\n",
       "      <td>25.756096</td>\n",
       "      <td>3.838366</td>\n",
       "    </tr>\n",
       "    <tr>\n",
       "      <th>2020-12-01 12:28:00</th>\n",
       "      <td>01/12/2020 12:28</td>\n",
       "      <td>40</td>\n",
       "      <td>4300.925293</td>\n",
       "      <td>0.033463</td>\n",
       "      <td>0.032855</td>\n",
       "      <td>0.033434</td>\n",
       "      <td>145.408936</td>\n",
       "      <td>110.211601</td>\n",
       "      <td>0.001</td>\n",
       "      <td>10018.526370</td>\n",
       "      <td>...</td>\n",
       "      <td>0.585079</td>\n",
       "      <td>26.944965</td>\n",
       "      <td>3.973126</td>\n",
       "      <td>14.636371</td>\n",
       "      <td>1</td>\n",
       "      <td>1.0</td>\n",
       "      <td>1.0</td>\n",
       "      <td>0.145409</td>\n",
       "      <td>25.393088</td>\n",
       "      <td>3.744297</td>\n",
       "    </tr>\n",
       "    <tr>\n",
       "      <th>2020-12-01 12:29:00</th>\n",
       "      <td>01/12/2020 12:29</td>\n",
       "      <td>40</td>\n",
       "      <td>4297.243164</td>\n",
       "      <td>0.033402</td>\n",
       "      <td>0.032862</td>\n",
       "      <td>0.033441</td>\n",
       "      <td>145.378998</td>\n",
       "      <td>110.093704</td>\n",
       "      <td>0.001</td>\n",
       "      <td>9981.017578</td>\n",
       "      <td>...</td>\n",
       "      <td>0.585009</td>\n",
       "      <td>27.326286</td>\n",
       "      <td>3.938121</td>\n",
       "      <td>14.647351</td>\n",
       "      <td>1</td>\n",
       "      <td>1.0</td>\n",
       "      <td>1.0</td>\n",
       "      <td>0.145379</td>\n",
       "      <td>25.797313</td>\n",
       "      <td>3.717773</td>\n",
       "    </tr>\n",
       "    <tr>\n",
       "      <th>2020-12-01 12:30:00</th>\n",
       "      <td>01/12/2020 12:30</td>\n",
       "      <td>40</td>\n",
       "      <td>4303.796875</td>\n",
       "      <td>0.033415</td>\n",
       "      <td>0.032892</td>\n",
       "      <td>0.033355</td>\n",
       "      <td>145.597916</td>\n",
       "      <td>110.074516</td>\n",
       "      <td>0.001</td>\n",
       "      <td>9983.533203</td>\n",
       "      <td>...</td>\n",
       "      <td>0.585053</td>\n",
       "      <td>27.067863</td>\n",
       "      <td>3.929481</td>\n",
       "      <td>14.634238</td>\n",
       "      <td>1</td>\n",
       "      <td>1.0</td>\n",
       "      <td>1.0</td>\n",
       "      <td>0.145598</td>\n",
       "      <td>25.500295</td>\n",
       "      <td>3.701915</td>\n",
       "    </tr>\n",
       "  </tbody>\n",
       "</table>\n",
       "<p>66331 rows × 46 columns</p>\n",
       "</div>"
      ],
      "text/plain": [
       "                            Timestamp  BRNDMD       WFPILM  F_FARFLI  \\\n",
       "DateTime                                                               \n",
       "2020-09-09 00:01:00  09/09/2020 00:01       0     0.000000  0.050706   \n",
       "2020-09-09 00:02:00  09/09/2020 00:02       0     0.000000  0.050663   \n",
       "2020-09-09 00:03:00  09/09/2020 00:03       0     0.000000  0.050619   \n",
       "2020-09-09 00:04:00  09/09/2020 00:04       0     0.000000  0.050772   \n",
       "2020-09-09 00:05:00  09/09/2020 00:05       0     0.000000  0.050657   \n",
       "...                               ...     ...          ...       ...   \n",
       "2020-12-01 12:26:00  01/12/2020 12:26      40  4245.363281  0.033496   \n",
       "2020-12-01 12:27:00  01/12/2020 12:27      40  4283.017578  0.033521   \n",
       "2020-12-01 12:28:00  01/12/2020 12:28      40  4300.925293  0.033463   \n",
       "2020-12-01 12:29:00  01/12/2020 12:29      40  4297.243164  0.033402   \n",
       "2020-12-01 12:30:00  01/12/2020 12:30      40  4303.796875  0.033415   \n",
       "\n",
       "                     F_FARFLO   F_FARFL        F_W2      F_WA36  F_WB3Q  \\\n",
       "DateTime                                                                  \n",
       "2020-09-09 00:01:00  0.054869  0.000394    2.955765    2.205765   0.001   \n",
       "2020-09-09 00:02:00  0.054912  0.000394    2.955769    2.203284   0.001   \n",
       "2020-09-09 00:03:00  0.054950  0.000394    2.955831    2.207688   0.001   \n",
       "2020-09-09 00:04:00  0.054837  0.000394    2.955652    2.201402   0.001   \n",
       "2020-09-09 00:05:00  0.054788  0.000394    2.955683    2.199374   0.001   \n",
       "...                       ...       ...         ...         ...     ...   \n",
       "2020-12-01 12:26:00  0.032872  0.033384  145.356903  110.093590   0.001   \n",
       "2020-12-01 12:27:00  0.032821  0.033463  145.288956  110.270889   0.001   \n",
       "2020-12-01 12:28:00  0.032855  0.033434  145.408936  110.211601   0.001   \n",
       "2020-12-01 12:29:00  0.032862  0.033441  145.378998  110.093704   0.001   \n",
       "2020-12-01 12:30:00  0.032892  0.033355  145.597916  110.074516   0.001   \n",
       "\n",
       "                        F_WF36DMD  ...     SGSEL    NOX_HMI    CO_HMI  \\\n",
       "DateTime                           ...                                  \n",
       "2020-09-09 00:01:00      1.000000  ...  0.581794   0.088763 -0.143556   \n",
       "2020-09-09 00:02:00      1.000000  ...  0.581880   0.009912 -0.143507   \n",
       "2020-09-09 00:03:00      1.000000  ...  0.581835   0.001085 -0.476700   \n",
       "2020-09-09 00:04:00      1.000000  ...  0.581801  -0.003205 -0.112790   \n",
       "2020-09-09 00:05:00      1.000000  ...  0.581818   0.040537 -0.389031   \n",
       "...                           ...  ...       ...        ...       ...   \n",
       "2020-12-01 12:26:00  10006.125980  ...  0.585046  27.391798  3.973013   \n",
       "2020-12-01 12:27:00  10009.563480  ...  0.585054  27.278019  4.065174   \n",
       "2020-12-01 12:28:00  10018.526370  ...  0.585079  26.944965  3.973126   \n",
       "2020-12-01 12:29:00   9981.017578  ...  0.585009  27.326286  3.938121   \n",
       "2020-12-01 12:30:00   9983.533203  ...  0.585053  27.067863  3.929481   \n",
       "\n",
       "                        O2_HMI  VLVFBKG_06  EMISSIONS_SS  SSFILTER     F_WB3  \\\n",
       "DateTime                                                                       \n",
       "2020-09-09 00:01:00  20.903236           1           NaN       0.0  0.002956   \n",
       "2020-09-09 00:02:00  20.904413           1           NaN       0.0  0.002956   \n",
       "2020-09-09 00:03:00  20.904449           1           NaN       0.0  0.002956   \n",
       "2020-09-09 00:04:00  20.901173           1           NaN       0.0  0.002956   \n",
       "2020-09-09 00:05:00  20.893452           1           NaN       0.0  0.002956   \n",
       "...                        ...         ...           ...       ...       ...   \n",
       "2020-12-01 12:26:00  14.625360           1           1.0       1.0  0.145357   \n",
       "2020-12-01 12:27:00  14.648416           1           0.0       1.0  0.145289   \n",
       "2020-12-01 12:28:00  14.636371           1           1.0       1.0  0.145409   \n",
       "2020-12-01 12:29:00  14.647351           1           1.0       1.0  0.145379   \n",
       "2020-12-01 12:30:00  14.634238           1           1.0       1.0  0.145598   \n",
       "\n",
       "                         NOX15       CO15  \n",
       "DateTime                                   \n",
       "2020-09-09 00:01:00  11.293851  11.293851  \n",
       "2020-09-09 00:02:00   1.293750   1.293750  \n",
       "2020-09-09 00:03:00   0.141702   0.141702  \n",
       "2020-09-09 00:04:00  -0.390584  -0.390584  \n",
       "2020-09-09 00:05:00   4.265306   4.265306  \n",
       "...                        ...        ...  \n",
       "2020-12-01 12:26:00  25.769247   3.737672  \n",
       "2020-12-01 12:27:00  25.756096   3.838366  \n",
       "2020-12-01 12:28:00  25.393088   3.744297  \n",
       "2020-12-01 12:29:00  25.797313   3.717773  \n",
       "2020-12-01 12:30:00  25.500295   3.701915  \n",
       "\n",
       "[66331 rows x 46 columns]"
      ]
     },
     "execution_count": 21,
     "metadata": {},
     "output_type": "execute_result"
    }
   ],
   "source": [
    "df.set_index('DateTime')"
   ]
  },
  {
   "cell_type": "code",
   "execution_count": null,
   "id": "7690c6ac",
   "metadata": {},
   "outputs": [],
   "source": [
    "df['DateTime']=pd.to_datetime(df['Timestamp'], format='%d/%m/%Y %H:%M')"
   ]
  },
  {
   "cell_type": "code",
   "execution_count": null,
   "id": "598f2a28",
   "metadata": {},
   "outputs": [],
   "source": [
    "#print(data['Timestamp'].min(),data['Timestamp'].max()) gives lot of confusion"
   ]
  },
  {
   "cell_type": "code",
   "execution_count": null,
   "id": "9f8e2f42",
   "metadata": {},
   "outputs": [],
   "source": [
    "#output_columns=['NOX_HMI', 'CO_HMI'] #compare your predictions with 'NOX15', 'CO15'"
   ]
  },
  {
   "cell_type": "code",
   "execution_count": 7,
   "id": "ddaa140c",
   "metadata": {},
   "outputs": [],
   "source": [
    "df['Timestamp']=pd.to_datetime(df['Timestamp'])\n",
    "df=df.set_index('Timestamp')"
   ]
  },
  {
   "cell_type": "code",
   "execution_count": 7,
   "id": "ade5b11f",
   "metadata": {},
   "outputs": [
    {
     "data": {
      "text/plain": [
       "BRNDMD          0.497649\n",
       "WFPILM          0.542715\n",
       "F_FARFLI       -0.329813\n",
       "F_FARFLO       -0.565216\n",
       "F_FARFL         0.625346\n",
       "F_W2            0.536194\n",
       "F_WA36          0.524021\n",
       "F_WB3Q          0.523522\n",
       "F_WF36DMD       0.503742\n",
       "P2SEL          -0.224610\n",
       "PS3SEL          0.509355\n",
       "T2SEL          -0.002705\n",
       "T3SEL           0.559404\n",
       "TFLCYCS         0.609639\n",
       "TFLPDFS         0.607566\n",
       "TFLIDFS         0.476199\n",
       "TFLODFS         0.543248\n",
       "WFINRM          0.379456\n",
       "WFOTRM          0.493927\n",
       "WFQPERRCOR      0.548106\n",
       "A90RH          -0.171942\n",
       "F_WAFL          0.485169\n",
       "NGGSEL          0.572279\n",
       "PX36SEL         0.512209\n",
       "PX36AVAL        0.494771\n",
       "PX36BVAL        0.505996\n",
       "NPTSEL          0.540816\n",
       "NPTREF          0.467056\n",
       "DWB36PCT        0.523450\n",
       "REGULATOR      -0.675086\n",
       "T48SEL          0.572176\n",
       "CDPSEL         -0.480828\n",
       "T8SEL           0.595082\n",
       "P48SEL          0.493394\n",
       "LHVSEL          0.127043\n",
       "SGSEL          -0.241319\n",
       "NOX_HMI         0.793344\n",
       "CO_HMI          1.000000\n",
       "O2_HMI          0.686464\n",
       "VLVFBKG_06     -0.349178\n",
       "EMISSIONS_SS    0.251124\n",
       "SSFILTER        0.423710\n",
       "F_WB3           0.488616\n",
       "NOX15           0.516868\n",
       "CO15            0.561017\n",
       "dtype: float64"
      ]
     },
     "execution_count": 7,
     "metadata": {},
     "output_type": "execute_result"
    }
   ],
   "source": [
    "df[df.columns].apply(lambda x: x.corr(df['CO_HMI']))"
   ]
  },
  {
   "cell_type": "code",
   "execution_count": null,
   "id": "4f0436f5",
   "metadata": {},
   "outputs": [],
   "source": []
  },
  {
   "cell_type": "code",
   "execution_count": null,
   "id": "986ed909",
   "metadata": {},
   "outputs": [],
   "source": []
  },
  {
   "cell_type": "code",
   "execution_count": null,
   "id": "320d949f",
   "metadata": {},
   "outputs": [],
   "source": []
  },
  {
   "cell_type": "code",
   "execution_count": 8,
   "id": "7572d936",
   "metadata": {},
   "outputs": [
    {
     "data": {
      "text/plain": [
       "BRNDMD          0.789382\n",
       "WFPILM          0.818220\n",
       "F_FARFLI       -0.437164\n",
       "F_FARFLO       -0.815788\n",
       "F_FARFL         0.818661\n",
       "F_W2            0.812581\n",
       "F_WA36          0.809606\n",
       "F_WB3Q          0.353119\n",
       "F_WF36DMD       0.803396\n",
       "P2SEL          -0.443865\n",
       "PS3SEL          0.805211\n",
       "T2SEL          -0.250926\n",
       "T3SEL           0.818632\n",
       "TFLCYCS         0.820989\n",
       "TFLPDFS         0.822040\n",
       "TFLIDFS         0.734349\n",
       "TFLODFS         0.814365\n",
       "WFINRM          0.687243\n",
       "WFOTRM          0.803806\n",
       "WFQPERRCOR      0.810654\n",
       "A90RH          -0.063455\n",
       "F_WAFL          0.793595\n",
       "NGGSEL          0.816182\n",
       "PX36SEL         0.798704\n",
       "PX36AVAL        0.785611\n",
       "PX36BVAL        0.789451\n",
       "NPTSEL          0.814239\n",
       "NPTREF          0.794936\n",
       "DWB36PCT        0.353094\n",
       "REGULATOR      -0.677457\n",
       "T48SEL          0.824492\n",
       "CDPSEL         -0.777380\n",
       "T8SEL           0.824856\n",
       "P48SEL          0.801119\n",
       "LHVSEL         -0.036496\n",
       "SGSEL          -0.079984\n",
       "NOX_HMI         1.000000\n",
       "CO_HMI          0.793344\n",
       "O2_HMI          0.692898\n",
       "VLVFBKG_06     -0.090024\n",
       "EMISSIONS_SS    0.655639\n",
       "SSFILTER        0.702245\n",
       "F_WB3           0.380899\n",
       "NOX15           0.717821\n",
       "CO15            0.752523\n",
       "dtype: float64"
      ]
     },
     "execution_count": 8,
     "metadata": {},
     "output_type": "execute_result"
    }
   ],
   "source": [
    "df[df.columns].apply(lambda x: x.corr(df['NOX_HMI']))"
   ]
  },
  {
   "cell_type": "code",
   "execution_count": 9,
   "id": "36aca62f",
   "metadata": {},
   "outputs": [
    {
     "data": {
      "text/plain": [
       "['PX36AVAL', 'PX36BVAL', 'EMISSIONS_SS']"
      ]
     },
     "execution_count": 9,
     "metadata": {},
     "output_type": "execute_result"
    }
   ],
   "source": [
    "cols_with_NaNs=df.columns[df.isnull().any()].tolist()\n",
    "cols_with_NaNs"
   ]
  },
  {
   "cell_type": "code",
   "execution_count": 10,
   "id": "6238633b",
   "metadata": {},
   "outputs": [
    {
     "data": {
      "text/html": [
       "<div>\n",
       "<style scoped>\n",
       "    .dataframe tbody tr th:only-of-type {\n",
       "        vertical-align: middle;\n",
       "    }\n",
       "\n",
       "    .dataframe tbody tr th {\n",
       "        vertical-align: top;\n",
       "    }\n",
       "\n",
       "    .dataframe thead th {\n",
       "        text-align: right;\n",
       "    }\n",
       "</style>\n",
       "<table border=\"1\" class=\"dataframe\">\n",
       "  <thead>\n",
       "    <tr style=\"text-align: right;\">\n",
       "      <th></th>\n",
       "      <th>PX36AVAL</th>\n",
       "      <th>PX36BVAL</th>\n",
       "      <th>EMISSIONS_SS</th>\n",
       "    </tr>\n",
       "  </thead>\n",
       "  <tbody>\n",
       "    <tr>\n",
       "      <th>count</th>\n",
       "      <td>61493.000000</td>\n",
       "      <td>61493.000000</td>\n",
       "      <td>16130.000000</td>\n",
       "    </tr>\n",
       "    <tr>\n",
       "      <th>mean</th>\n",
       "      <td>0.312573</td>\n",
       "      <td>0.351047</td>\n",
       "      <td>0.532982</td>\n",
       "    </tr>\n",
       "    <tr>\n",
       "      <th>std</th>\n",
       "      <td>0.557965</td>\n",
       "      <td>0.628402</td>\n",
       "      <td>0.498926</td>\n",
       "    </tr>\n",
       "    <tr>\n",
       "      <th>min</th>\n",
       "      <td>0.019073</td>\n",
       "      <td>0.019073</td>\n",
       "      <td>0.000000</td>\n",
       "    </tr>\n",
       "    <tr>\n",
       "      <th>25%</th>\n",
       "      <td>0.019073</td>\n",
       "      <td>0.019073</td>\n",
       "      <td>0.000000</td>\n",
       "    </tr>\n",
       "    <tr>\n",
       "      <th>50%</th>\n",
       "      <td>0.019073</td>\n",
       "      <td>0.019073</td>\n",
       "      <td>1.000000</td>\n",
       "    </tr>\n",
       "    <tr>\n",
       "      <th>75%</th>\n",
       "      <td>0.019073</td>\n",
       "      <td>0.019073</td>\n",
       "      <td>1.000000</td>\n",
       "    </tr>\n",
       "    <tr>\n",
       "      <th>max</th>\n",
       "      <td>3.074648</td>\n",
       "      <td>3.353121</td>\n",
       "      <td>1.000000</td>\n",
       "    </tr>\n",
       "  </tbody>\n",
       "</table>\n",
       "</div>"
      ],
      "text/plain": [
       "           PX36AVAL      PX36BVAL  EMISSIONS_SS\n",
       "count  61493.000000  61493.000000  16130.000000\n",
       "mean       0.312573      0.351047      0.532982\n",
       "std        0.557965      0.628402      0.498926\n",
       "min        0.019073      0.019073      0.000000\n",
       "25%        0.019073      0.019073      0.000000\n",
       "50%        0.019073      0.019073      1.000000\n",
       "75%        0.019073      0.019073      1.000000\n",
       "max        3.074648      3.353121      1.000000"
      ]
     },
     "execution_count": 10,
     "metadata": {},
     "output_type": "execute_result"
    }
   ],
   "source": [
    "df_NaNs=df[cols_with_NaNs]\n",
    "df_NaNs.describe()"
   ]
  },
  {
   "cell_type": "code",
   "execution_count": 11,
   "id": "8c92abd9",
   "metadata": {},
   "outputs": [
    {
     "data": {
      "text/plain": [
       "PX36AVAL         7.293724\n",
       "PX36BVAL         7.293724\n",
       "EMISSIONS_SS    75.682562\n",
       "dtype: float64"
      ]
     },
     "execution_count": 11,
     "metadata": {},
     "output_type": "execute_result"
    }
   ],
   "source": [
    "percent_missing=df_NaNs.isnull().sum() * 100/len(df_NaNs)\n",
    "percent_missing"
   ]
  },
  {
   "cell_type": "code",
   "execution_count": 12,
   "id": "b1a68b16",
   "metadata": {},
   "outputs": [
    {
     "data": {
      "text/plain": [
       "array([[<AxesSubplot:title={'center':'PX36AVAL'}>,\n",
       "        <AxesSubplot:title={'center':'PX36BVAL'}>],\n",
       "       [<AxesSubplot:title={'center':'EMISSIONS_SS'}>, <AxesSubplot:>]],\n",
       "      dtype=object)"
      ]
     },
     "execution_count": 12,
     "metadata": {},
     "output_type": "execute_result"
    },
    {
     "data": {
      "image/png": "[encoded data removed]",
      "text/plain": [
       "<Figure size 432x288 with 4 Axes>"
      ]
     },
     "metadata": {
      "needs_background": "light"
     },
     "output_type": "display_data"
    }
   ],
   "source": [
    "df_NaNs.hist()"
   ]
  },
  {
   "cell_type": "code",
   "execution_count": 13,
   "id": "0513f5bc",
   "metadata": {},
   "outputs": [
    {
     "data": {
      "text/plain": [
       "1.0    8597\n",
       "0.0    7533\n",
       "Name: EMISSIONS_SS, dtype: int64"
      ]
     },
     "execution_count": 13,
     "metadata": {},
     "output_type": "execute_result"
    }
   ],
   "source": [
    "df['EMISSIONS_SS'].value_counts()"
   ]
  },
  {
   "cell_type": "code",
   "execution_count": 14,
   "id": "2f208c5e",
   "metadata": {},
   "outputs": [
    {
     "data": {
      "text/plain": [
       "16130"
      ]
     },
     "execution_count": 14,
     "metadata": {},
     "output_type": "execute_result"
    }
   ],
   "source": [
    "df['EMISSIONS_SS'].count()"
   ]
  },
  {
   "cell_type": "code",
   "execution_count": null,
   "id": "8b81c8ff",
   "metadata": {},
   "outputs": [],
   "source": [
    "#Missing values imputation"
   ]
  },
  {
   "cell_type": "code",
   "execution_count": 15,
   "id": "150a927d",
   "metadata": {},
   "outputs": [],
   "source": [
    "df1=df.copy()"
   ]
  },
  {
   "cell_type": "code",
   "execution_count": 16,
   "id": "4d9518a8",
   "metadata": {},
   "outputs": [],
   "source": [
    "#since 75% if this variable are NaNs\n",
    "df.drop(('EMISSIONS_SS'),axis=1,inplace=True)"
   ]
  },
  {
   "cell_type": "code",
   "execution_count": 17,
   "id": "ebc13dd9",
   "metadata": {},
   "outputs": [
    {
     "data": {
      "text/html": [
       "<div>\n",
       "<style scoped>\n",
       "    .dataframe tbody tr th:only-of-type {\n",
       "        vertical-align: middle;\n",
       "    }\n",
       "\n",
       "    .dataframe tbody tr th {\n",
       "        vertical-align: top;\n",
       "    }\n",
       "\n",
       "    .dataframe thead th {\n",
       "        text-align: right;\n",
       "    }\n",
       "</style>\n",
       "<table border=\"1\" class=\"dataframe\">\n",
       "  <thead>\n",
       "    <tr style=\"text-align: right;\">\n",
       "      <th></th>\n",
       "      <th>PX36AVAL</th>\n",
       "      <th>PX36BVAL</th>\n",
       "      <th>EMISSIONS_SS</th>\n",
       "    </tr>\n",
       "  </thead>\n",
       "  <tbody>\n",
       "    <tr>\n",
       "      <th>count</th>\n",
       "      <td>61493.000000</td>\n",
       "      <td>61493.000000</td>\n",
       "      <td>16130.000000</td>\n",
       "    </tr>\n",
       "    <tr>\n",
       "      <th>mean</th>\n",
       "      <td>0.312573</td>\n",
       "      <td>0.351047</td>\n",
       "      <td>0.532982</td>\n",
       "    </tr>\n",
       "    <tr>\n",
       "      <th>std</th>\n",
       "      <td>0.557965</td>\n",
       "      <td>0.628402</td>\n",
       "      <td>0.498926</td>\n",
       "    </tr>\n",
       "    <tr>\n",
       "      <th>min</th>\n",
       "      <td>0.019073</td>\n",
       "      <td>0.019073</td>\n",
       "      <td>0.000000</td>\n",
       "    </tr>\n",
       "    <tr>\n",
       "      <th>25%</th>\n",
       "      <td>0.019073</td>\n",
       "      <td>0.019073</td>\n",
       "      <td>0.000000</td>\n",
       "    </tr>\n",
       "    <tr>\n",
       "      <th>50%</th>\n",
       "      <td>0.019073</td>\n",
       "      <td>0.019073</td>\n",
       "      <td>1.000000</td>\n",
       "    </tr>\n",
       "    <tr>\n",
       "      <th>75%</th>\n",
       "      <td>0.019073</td>\n",
       "      <td>0.019073</td>\n",
       "      <td>1.000000</td>\n",
       "    </tr>\n",
       "    <tr>\n",
       "      <th>max</th>\n",
       "      <td>3.074648</td>\n",
       "      <td>3.353121</td>\n",
       "      <td>1.000000</td>\n",
       "    </tr>\n",
       "  </tbody>\n",
       "</table>\n",
       "</div>"
      ],
      "text/plain": [
       "           PX36AVAL      PX36BVAL  EMISSIONS_SS\n",
       "count  61493.000000  61493.000000  16130.000000\n",
       "mean       0.312573      0.351047      0.532982\n",
       "std        0.557965      0.628402      0.498926\n",
       "min        0.019073      0.019073      0.000000\n",
       "25%        0.019073      0.019073      0.000000\n",
       "50%        0.019073      0.019073      1.000000\n",
       "75%        0.019073      0.019073      1.000000\n",
       "max        3.074648      3.353121      1.000000"
      ]
     },
     "execution_count": 17,
     "metadata": {},
     "output_type": "execute_result"
    }
   ],
   "source": [
    "df_NaNs.describe()"
   ]
  },
  {
   "cell_type": "code",
   "execution_count": 18,
   "id": "b83d666f",
   "metadata": {},
   "outputs": [
    {
     "data": {
      "text/plain": [
       "<AxesSubplot:xlabel='Timestamp'>"
      ]
     },
     "execution_count": 18,
     "metadata": {},
     "output_type": "execute_result"
    },
    {
     "data": {
      "image/png": "[encoded data removed]",
      "text/plain": [
       "<Figure size 864x432 with 1 Axes>"
      ]
     },
     "metadata": {
      "needs_background": "light"
     },
     "output_type": "display_data"
    }
   ],
   "source": [
    "df1['PX36AVAL'].plot(figsize=(12,6))"
   ]
  },
  {
   "cell_type": "code",
   "execution_count": 19,
   "id": "66bc81a5",
   "metadata": {},
   "outputs": [
    {
     "data": {
      "text/plain": [
       "<AxesSubplot:xlabel='Timestamp'>"
      ]
     },
     "execution_count": 19,
     "metadata": {},
     "output_type": "execute_result"
    },
    {
     "data": {
      "image/png": "[encoded data removed]",
      "text/plain": [
       "<Figure size 864x432 with 1 Axes>"
      ]
     },
     "metadata": {
      "needs_background": "light"
     },
     "output_type": "display_data"
    }
   ],
   "source": [
    "df1['PX36BVAL'].plot(figsize=(12,6))"
   ]
  },
  {
   "cell_type": "code",
   "execution_count": null,
   "id": "41471513",
   "metadata": {},
   "outputs": [],
   "source": [
    "#df1['EMISSIONS_SS'].plot()"
   ]
  },
  {
   "cell_type": "code",
   "execution_count": 20,
   "id": "59bf506e",
   "metadata": {},
   "outputs": [],
   "source": [
    "#imputation by interpolate method\n",
    "df['PX36AVAL']=df['PX36AVAL'].interpolate(method='linear')\n",
    "df['PX36BVAL']=df['PX36BVAL'].interpolate(method='linear')\n",
    "#There are no null values"
   ]
  },
  {
   "cell_type": "code",
   "execution_count": 20,
   "id": "1bf57f3f",
   "metadata": {
    "scrolled": false
   },
   "outputs": [
    {
     "data": {
      "text/plain": [
       "<AxesSubplot:xlabel='Timestamp'>"
      ]
     },
     "execution_count": 20,
     "metadata": {},
     "output_type": "execute_result"
    },
    {
     "data": {
      "image/png": "[encoded data removed]",
      "text/plain": [
       "<Figure size 864x432 with 1 Axes>"
      ]
     },
     "metadata": {
      "needs_background": "light"
     },
     "output_type": "display_data"
    }
   ],
   "source": [
    "df['PX36BVAL'].plot(figsize=(12,6))"
   ]
  },
  {
   "cell_type": "code",
   "execution_count": 22,
   "id": "8badfe4b",
   "metadata": {},
   "outputs": [
    {
     "name": "stderr",
     "output_type": "stream",
     "text": [
      "/tmp/ipykernel_40709/2878536083.py:6: UserWarning: To output multiple subplots, the figure containing the passed axes is being cleared\n",
      "  df_output.hist(ax=ax)\n"
     ]
    },
    {
     "data": {
      "image/png": "[encoded data removed]",
      "text/plain": [
       "<Figure size 432x288 with 2 Axes>"
      ]
     },
     "metadata": {
      "needs_background": "light"
     },
     "output_type": "display_data"
    }
   ],
   "source": [
    "# to predict 'NOX_HMI','CO_HMI' compare with 'NOX15', 'CO15'\n",
    "output_columns=['NOX_HMI','CO_HMI']\n",
    "df_output=df[output_columns]\n",
    "fig=plt.figure(figsize=(6,4))\n",
    "ax=fig.gca()\n",
    "df_output.hist(ax=ax)\n",
    "plt.show()"
   ]
  },
  {
   "cell_type": "code",
   "execution_count": 23,
   "id": "e7b5e7e7",
   "metadata": {},
   "outputs": [
    {
     "data": {
      "text/html": [
       "<div>\n",
       "<style scoped>\n",
       "    .dataframe tbody tr th:only-of-type {\n",
       "        vertical-align: middle;\n",
       "    }\n",
       "\n",
       "    .dataframe tbody tr th {\n",
       "        vertical-align: top;\n",
       "    }\n",
       "\n",
       "    .dataframe thead th {\n",
       "        text-align: right;\n",
       "    }\n",
       "</style>\n",
       "<table border=\"1\" class=\"dataframe\">\n",
       "  <thead>\n",
       "    <tr style=\"text-align: right;\">\n",
       "      <th></th>\n",
       "      <th>NOX_HMI</th>\n",
       "      <th>CO_HMI</th>\n",
       "    </tr>\n",
       "  </thead>\n",
       "  <tbody>\n",
       "    <tr>\n",
       "      <th>count</th>\n",
       "      <td>66331.000000</td>\n",
       "      <td>66331.000000</td>\n",
       "    </tr>\n",
       "    <tr>\n",
       "      <th>mean</th>\n",
       "      <td>-1.330703</td>\n",
       "      <td>-4.183562</td>\n",
       "    </tr>\n",
       "    <tr>\n",
       "      <th>std</th>\n",
       "      <td>19.441178</td>\n",
       "      <td>18.447334</td>\n",
       "    </tr>\n",
       "    <tr>\n",
       "      <th>min</th>\n",
       "      <td>-34.312305</td>\n",
       "      <td>-34.281616</td>\n",
       "    </tr>\n",
       "    <tr>\n",
       "      <th>25%</th>\n",
       "      <td>-24.996185</td>\n",
       "      <td>-24.996260</td>\n",
       "    </tr>\n",
       "    <tr>\n",
       "      <th>50%</th>\n",
       "      <td>-0.052708</td>\n",
       "      <td>-0.224343</td>\n",
       "    </tr>\n",
       "    <tr>\n",
       "      <th>75%</th>\n",
       "      <td>0.236921</td>\n",
       "      <td>0.433064</td>\n",
       "    </tr>\n",
       "    <tr>\n",
       "      <th>max</th>\n",
       "      <td>74.936111</td>\n",
       "      <td>118.661789</td>\n",
       "    </tr>\n",
       "  </tbody>\n",
       "</table>\n",
       "</div>"
      ],
      "text/plain": [
       "            NOX_HMI        CO_HMI\n",
       "count  66331.000000  66331.000000\n",
       "mean      -1.330703     -4.183562\n",
       "std       19.441178     18.447334\n",
       "min      -34.312305    -34.281616\n",
       "25%      -24.996185    -24.996260\n",
       "50%       -0.052708     -0.224343\n",
       "75%        0.236921      0.433064\n",
       "max       74.936111    118.661789"
      ]
     },
     "execution_count": 23,
     "metadata": {},
     "output_type": "execute_result"
    }
   ],
   "source": [
    "df[output_columns].describe()"
   ]
  },
  {
   "cell_type": "code",
   "execution_count": null,
   "id": "bf0dba71",
   "metadata": {},
   "outputs": [],
   "source": [
    "#df.drop(['NOX15','CO15'],axis=1,inplace=True)"
   ]
  },
  {
   "cell_type": "code",
   "execution_count": 24,
   "id": "74b288eb",
   "metadata": {},
   "outputs": [
    {
     "data": {
      "text/plain": [
       "(4, 44)"
      ]
     },
     "execution_count": 24,
     "metadata": {},
     "output_type": "execute_result"
    }
   ],
   "source": [
    "# check any duplicates are there\n",
    "df_duplicates = df[df.duplicated()]\n",
    "df_duplicates.shape"
   ]
  },
  {
   "cell_type": "code",
   "execution_count": 25,
   "id": "eae544e8",
   "metadata": {},
   "outputs": [
    {
     "data": {
      "text/html": [
       "<div>\n",
       "<style scoped>\n",
       "    .dataframe tbody tr th:only-of-type {\n",
       "        vertical-align: middle;\n",
       "    }\n",
       "\n",
       "    .dataframe tbody tr th {\n",
       "        vertical-align: top;\n",
       "    }\n",
       "\n",
       "    .dataframe thead th {\n",
       "        text-align: right;\n",
       "    }\n",
       "</style>\n",
       "<table border=\"1\" class=\"dataframe\">\n",
       "  <thead>\n",
       "    <tr style=\"text-align: right;\">\n",
       "      <th></th>\n",
       "      <th>BRNDMD</th>\n",
       "      <th>WFPILM</th>\n",
       "      <th>F_FARFLI</th>\n",
       "      <th>F_FARFLO</th>\n",
       "      <th>F_FARFL</th>\n",
       "      <th>F_W2</th>\n",
       "      <th>F_WA36</th>\n",
       "      <th>F_WB3Q</th>\n",
       "      <th>F_WF36DMD</th>\n",
       "      <th>P2SEL</th>\n",
       "      <th>...</th>\n",
       "      <th>LHVSEL</th>\n",
       "      <th>SGSEL</th>\n",
       "      <th>NOX_HMI</th>\n",
       "      <th>CO_HMI</th>\n",
       "      <th>O2_HMI</th>\n",
       "      <th>VLVFBKG_06</th>\n",
       "      <th>SSFILTER</th>\n",
       "      <th>F_WB3</th>\n",
       "      <th>NOX15</th>\n",
       "      <th>CO15</th>\n",
       "    </tr>\n",
       "    <tr>\n",
       "      <th>Timestamp</th>\n",
       "      <th></th>\n",
       "      <th></th>\n",
       "      <th></th>\n",
       "      <th></th>\n",
       "      <th></th>\n",
       "      <th></th>\n",
       "      <th></th>\n",
       "      <th></th>\n",
       "      <th></th>\n",
       "      <th></th>\n",
       "      <th></th>\n",
       "      <th></th>\n",
       "      <th></th>\n",
       "      <th></th>\n",
       "      <th></th>\n",
       "      <th></th>\n",
       "      <th></th>\n",
       "      <th></th>\n",
       "      <th></th>\n",
       "      <th></th>\n",
       "      <th></th>\n",
       "    </tr>\n",
       "  </thead>\n",
       "  <tbody>\n",
       "    <tr>\n",
       "      <th>2020-09-23 07:21:00</th>\n",
       "      <td>40</td>\n",
       "      <td>4145.062988</td>\n",
       "      <td>0.031654</td>\n",
       "      <td>0.033234</td>\n",
       "      <td>0.033810</td>\n",
       "      <td>138.322082</td>\n",
       "      <td>103.889565</td>\n",
       "      <td>0.001</td>\n",
       "      <td>9553.990234</td>\n",
       "      <td>14.244010</td>\n",
       "      <td>...</td>\n",
       "      <td>21106.19355</td>\n",
       "      <td>0.581417</td>\n",
       "      <td>23.302296</td>\n",
       "      <td>3.763980</td>\n",
       "      <td>14.388108</td>\n",
       "      <td>1</td>\n",
       "      <td>1.0</td>\n",
       "      <td>0.138322</td>\n",
       "      <td>21.129373</td>\n",
       "      <td>21.129373</td>\n",
       "    </tr>\n",
       "    <tr>\n",
       "      <th>2020-09-23 07:22:00</th>\n",
       "      <td>40</td>\n",
       "      <td>4145.062988</td>\n",
       "      <td>0.031654</td>\n",
       "      <td>0.033234</td>\n",
       "      <td>0.033810</td>\n",
       "      <td>138.322082</td>\n",
       "      <td>103.889565</td>\n",
       "      <td>0.001</td>\n",
       "      <td>9553.990234</td>\n",
       "      <td>14.244010</td>\n",
       "      <td>...</td>\n",
       "      <td>21106.19355</td>\n",
       "      <td>0.581417</td>\n",
       "      <td>23.302296</td>\n",
       "      <td>3.763980</td>\n",
       "      <td>14.388108</td>\n",
       "      <td>1</td>\n",
       "      <td>1.0</td>\n",
       "      <td>0.138322</td>\n",
       "      <td>21.129373</td>\n",
       "      <td>21.129373</td>\n",
       "    </tr>\n",
       "    <tr>\n",
       "      <th>2020-09-24 05:40:00</th>\n",
       "      <td>0</td>\n",
       "      <td>0.000000</td>\n",
       "      <td>0.051119</td>\n",
       "      <td>0.055447</td>\n",
       "      <td>0.000405</td>\n",
       "      <td>2.889691</td>\n",
       "      <td>2.143178</td>\n",
       "      <td>0.001</td>\n",
       "      <td>1.000000</td>\n",
       "      <td>14.567661</td>\n",
       "      <td>...</td>\n",
       "      <td>20999.87232</td>\n",
       "      <td>0.579901</td>\n",
       "      <td>0.005507</td>\n",
       "      <td>-0.095311</td>\n",
       "      <td>20.870802</td>\n",
       "      <td>1</td>\n",
       "      <td>0.0</td>\n",
       "      <td>0.002890</td>\n",
       "      <td>0.413766</td>\n",
       "      <td>0.413766</td>\n",
       "    </tr>\n",
       "    <tr>\n",
       "      <th>2020-09-24 05:41:00</th>\n",
       "      <td>0</td>\n",
       "      <td>0.000000</td>\n",
       "      <td>0.051119</td>\n",
       "      <td>0.055447</td>\n",
       "      <td>0.000405</td>\n",
       "      <td>2.889691</td>\n",
       "      <td>2.143178</td>\n",
       "      <td>0.001</td>\n",
       "      <td>1.000000</td>\n",
       "      <td>14.567661</td>\n",
       "      <td>...</td>\n",
       "      <td>20999.87232</td>\n",
       "      <td>0.579901</td>\n",
       "      <td>0.005507</td>\n",
       "      <td>-0.095311</td>\n",
       "      <td>20.870802</td>\n",
       "      <td>1</td>\n",
       "      <td>0.0</td>\n",
       "      <td>0.002890</td>\n",
       "      <td>0.413766</td>\n",
       "      <td>0.413766</td>\n",
       "    </tr>\n",
       "  </tbody>\n",
       "</table>\n",
       "<p>4 rows × 44 columns</p>\n",
       "</div>"
      ],
      "text/plain": [
       "                     BRNDMD       WFPILM  F_FARFLI  F_FARFLO   F_FARFL  \\\n",
       "Timestamp                                                                \n",
       "2020-09-23 07:21:00      40  4145.062988  0.031654  0.033234  0.033810   \n",
       "2020-09-23 07:22:00      40  4145.062988  0.031654  0.033234  0.033810   \n",
       "2020-09-24 05:40:00       0     0.000000  0.051119  0.055447  0.000405   \n",
       "2020-09-24 05:41:00       0     0.000000  0.051119  0.055447  0.000405   \n",
       "\n",
       "                           F_W2      F_WA36  F_WB3Q    F_WF36DMD      P2SEL  \\\n",
       "Timestamp                                                                     \n",
       "2020-09-23 07:21:00  138.322082  103.889565   0.001  9553.990234  14.244010   \n",
       "2020-09-23 07:22:00  138.322082  103.889565   0.001  9553.990234  14.244010   \n",
       "2020-09-24 05:40:00    2.889691    2.143178   0.001     1.000000  14.567661   \n",
       "2020-09-24 05:41:00    2.889691    2.143178   0.001     1.000000  14.567661   \n",
       "\n",
       "                     ...       LHVSEL     SGSEL    NOX_HMI    CO_HMI  \\\n",
       "Timestamp            ...                                               \n",
       "2020-09-23 07:21:00  ...  21106.19355  0.581417  23.302296  3.763980   \n",
       "2020-09-23 07:22:00  ...  21106.19355  0.581417  23.302296  3.763980   \n",
       "2020-09-24 05:40:00  ...  20999.87232  0.579901   0.005507 -0.095311   \n",
       "2020-09-24 05:41:00  ...  20999.87232  0.579901   0.005507 -0.095311   \n",
       "\n",
       "                        O2_HMI  VLVFBKG_06  SSFILTER     F_WB3      NOX15  \\\n",
       "Timestamp                                                                   \n",
       "2020-09-23 07:21:00  14.388108           1       1.0  0.138322  21.129373   \n",
       "2020-09-23 07:22:00  14.388108           1       1.0  0.138322  21.129373   \n",
       "2020-09-24 05:40:00  20.870802           1       0.0  0.002890   0.413766   \n",
       "2020-09-24 05:41:00  20.870802           1       0.0  0.002890   0.413766   \n",
       "\n",
       "                          CO15  \n",
       "Timestamp                       \n",
       "2020-09-23 07:21:00  21.129373  \n",
       "2020-09-23 07:22:00  21.129373  \n",
       "2020-09-24 05:40:00   0.413766  \n",
       "2020-09-24 05:41:00   0.413766  \n",
       "\n",
       "[4 rows x 44 columns]"
      ]
     },
     "execution_count": 25,
     "metadata": {},
     "output_type": "execute_result"
    }
   ],
   "source": [
    "df_duplicates\n",
    "# since the timestamp is different these rows can be included."
   ]
  },
  {
   "cell_type": "code",
   "execution_count": null,
   "id": "3c5c68f8",
   "metadata": {},
   "outputs": [],
   "source": [
    "#create a baseline model"
   ]
  },
  {
   "cell_type": "code",
   "execution_count": 26,
   "id": "9850a9bc",
   "metadata": {},
   "outputs": [
    {
     "name": "stdout",
     "output_type": "stream",
     "text": [
      "['BRNDMD', 'WFPILM', 'F_FARFLI', 'F_FARFLO', 'F_FARFL', 'F_W2', 'F_WA36', 'F_WB3Q', 'F_WF36DMD', 'P2SEL', 'PS3SEL', 'T2SEL', 'T3SEL', 'TFLCYCS', 'TFLPDFS', 'TFLIDFS', 'TFLODFS', 'WFINRM', 'WFOTRM', 'WFQPERRCOR', 'A90RH', 'F_WAFL', 'NGGSEL', 'PX36SEL', 'PX36AVAL', 'PX36BVAL', 'NPTSEL', 'NPTREF', 'DWB36PCT', 'REGULATOR', 'T48SEL', 'CDPSEL', 'T8SEL', 'P48SEL', 'LHVSEL', 'SGSEL', 'NOX_HMI', 'CO_HMI', 'O2_HMI', 'VLVFBKG_06', 'SSFILTER', 'F_WB3', 'NOX15', 'CO15']\n"
     ]
    }
   ],
   "source": [
    "print(list(df.columns))"
   ]
  },
  {
   "cell_type": "code",
   "execution_count": null,
   "id": "faff6486",
   "metadata": {},
   "outputs": [],
   "source": [
    "#columns=['NOX15', 'CO15','NOX_HMI','CO_HMI']\n",
    "#drop 'NOX15', 'CO15'\n",
    "#predict 'NOX_HMI','CO_HMI'"
   ]
  },
  {
   "cell_type": "code",
   "execution_count": 27,
   "id": "053b0275",
   "metadata": {},
   "outputs": [
    {
     "data": {
      "text/plain": [
       "(66331, 42)"
      ]
     },
     "execution_count": 27,
     "metadata": {},
     "output_type": "execute_result"
    }
   ],
   "source": [
    "#right now no need\n",
    "# df.drop(['NOX15', 'CO15'],axis=1,inplace=True)\n",
    "# df.shape"
   ]
  },
  {
   "cell_type": "code",
   "execution_count": 28,
   "id": "3fbc6fcf",
   "metadata": {},
   "outputs": [
    {
     "data": {
      "text/plain": [
       "46428.899999999994"
      ]
     },
     "execution_count": 28,
     "metadata": {},
     "output_type": "execute_result"
    }
   ],
   "source": [
    "# will split the data to 70:30 for training and testing\n",
    "0.70*66327"
   ]
  },
  {
   "cell_type": "code",
   "execution_count": 29,
   "id": "e9c6a22d",
   "metadata": {},
   "outputs": [
    {
     "name": "stdout",
     "output_type": "stream",
     "text": [
      "(46428, 42) (19903, 42)\n"
     ]
    }
   ],
   "source": [
    "train_df,test_df=df[:46428],df[46428:]\n",
    "print(train_df.shape,test_df.shape)"
   ]
  },
  {
   "cell_type": "code",
   "execution_count": 30,
   "id": "b31c936b",
   "metadata": {},
   "outputs": [],
   "source": [
    "from sklearn.multioutput import MultiOutputRegressor\n",
    "import xgboost as xgb\n",
    "from sklearn.model_selection import train_test_split\n",
    "from sklearn.metrics import r2_score,mean_squared_error\n",
    "import math"
   ]
  },
  {
   "cell_type": "code",
   "execution_count": 31,
   "id": "e63f99e0",
   "metadata": {},
   "outputs": [],
   "source": [
    "OUTPUT_COLUMNS=['NOX_HMI','CO_HMI']"
   ]
  },
  {
   "cell_type": "code",
   "execution_count": 32,
   "id": "2cdab1eb",
   "metadata": {},
   "outputs": [],
   "source": [
    "train_X=train_df.drop(OUTPUT_COLUMNS,axis=1)\n",
    "train_y=train_df[OUTPUT_COLUMNS]\n",
    "test_X=test_df.drop(OUTPUT_COLUMNS,axis=1)\n",
    "test_y=test_df[OUTPUT_COLUMNS]"
   ]
  },
  {
   "cell_type": "code",
   "execution_count": 33,
   "id": "c6ebced7",
   "metadata": {},
   "outputs": [
    {
     "name": "stdout",
     "output_type": "stream",
     "text": [
      "(46428, 40) (46428, 2) (19903, 40) (19903, 2)\n"
     ]
    }
   ],
   "source": [
    "print(train_X.shape,train_y.shape,test_X.shape,test_y.shape)"
   ]
  },
  {
   "cell_type": "code",
   "execution_count": 34,
   "id": "046a4d70",
   "metadata": {},
   "outputs": [
    {
     "name": "stdout",
     "output_type": "stream",
     "text": [
      "['BRNDMD', 'WFPILM', 'F_FARFLI', 'F_FARFLO', 'F_FARFL', 'F_W2', 'F_WA36', 'F_WB3Q', 'F_WF36DMD', 'P2SEL', 'PS3SEL', 'T2SEL', 'T3SEL', 'TFLCYCS', 'TFLPDFS', 'TFLIDFS', 'TFLODFS', 'WFINRM', 'WFOTRM', 'WFQPERRCOR', 'A90RH', 'F_WAFL', 'NGGSEL', 'PX36SEL', 'PX36AVAL', 'PX36BVAL', 'NPTSEL', 'NPTREF', 'DWB36PCT', 'REGULATOR', 'T48SEL', 'CDPSEL', 'T8SEL', 'P48SEL', 'LHVSEL', 'SGSEL', 'O2_HMI', 'VLVFBKG_06', 'SSFILTER', 'F_WB3']\n"
     ]
    }
   ],
   "source": [
    "print(list(train_X.columns))"
   ]
  },
  {
   "cell_type": "code",
   "execution_count": 36,
   "id": "c00cd986",
   "metadata": {},
   "outputs": [],
   "source": [
    "# old_pred_tr=train_X[['NOX15', 'CO15']]\n",
    "\n",
    "# old_pred_test=test_X[['NOX15', 'CO15']]\n",
    "# print(old_pred_tr.shape,old_pred_test.shape)"
   ]
  },
  {
   "cell_type": "code",
   "execution_count": 38,
   "id": "dd2f217d",
   "metadata": {},
   "outputs": [],
   "source": [
    "# #drop these columns\n",
    "# train_X.drop(['NOX15', 'CO15'],axis=1,inplace=True)\n",
    "# test_X.drop(['NOX15', 'CO15'],axis=1,inplace=True)"
   ]
  },
  {
   "cell_type": "code",
   "execution_count": 39,
   "id": "31f7cc87",
   "metadata": {},
   "outputs": [
    {
     "name": "stdout",
     "output_type": "stream",
     "text": [
      "(46428, 40) (19903, 40) (46428, 2) (19903, 2)\n"
     ]
    }
   ],
   "source": [
    "print(train_X.shape,test_X.shape,train_y.shape,test_y.shape)"
   ]
  },
  {
   "cell_type": "code",
   "execution_count": 40,
   "id": "9701560d",
   "metadata": {},
   "outputs": [],
   "source": [
    "other_params={'learning_rate':0.1,'n_estimators':300,'max_depth':5,'min_child_weight':1,'subsample':0.8,'colsample_bytree':0.8}"
   ]
  },
  {
   "cell_type": "code",
   "execution_count": 41,
   "id": "4458be30",
   "metadata": {},
   "outputs": [],
   "source": [
    "multioutputregressor=MultiOutputRegressor(xgb.XGBRegressor(objective='reg:squarederror',**other_params)).fit(train_X,train_y)"
   ]
  },
  {
   "cell_type": "code",
   "execution_count": 42,
   "id": "8f60eab6",
   "metadata": {},
   "outputs": [],
   "source": [
    "predictions=multioutputregressor.predict(test_X)"
   ]
  },
  {
   "cell_type": "code",
   "execution_count": 43,
   "id": "72510a5f",
   "metadata": {},
   "outputs": [
    {
     "name": "stdout",
     "output_type": "stream",
     "text": [
      "Root_mean_squared_error_test set 4.427835662198557\n",
      "R2 Score_test set 0.9330317996353548\n"
     ]
    }
   ],
   "source": [
    "#for test set\n",
    "print('Root_mean_squared_error_test set',math.sqrt(mean_squared_error(test_y,predictions)))\n",
    "print('R2 Score_test set',r2_score(test_y,predictions))"
   ]
  },
  {
   "cell_type": "code",
   "execution_count": null,
   "id": "b63a8fbc",
   "metadata": {},
   "outputs": [],
   "source": [
    "#find out separately the mean squared error of CO and NO HMIs\n"
   ]
  },
  {
   "cell_type": "code",
   "execution_count": 44,
   "id": "29054ac9",
   "metadata": {},
   "outputs": [
    {
     "data": {
      "text/html": [
       "<div>\n",
       "<style scoped>\n",
       "    .dataframe tbody tr th:only-of-type {\n",
       "        vertical-align: middle;\n",
       "    }\n",
       "\n",
       "    .dataframe tbody tr th {\n",
       "        vertical-align: top;\n",
       "    }\n",
       "\n",
       "    .dataframe thead th {\n",
       "        text-align: right;\n",
       "    }\n",
       "</style>\n",
       "<table border=\"1\" class=\"dataframe\">\n",
       "  <thead>\n",
       "    <tr style=\"text-align: right;\">\n",
       "      <th></th>\n",
       "      <th>NOX_HMI</th>\n",
       "      <th>CO_HMI</th>\n",
       "    </tr>\n",
       "    <tr>\n",
       "      <th>Timestamp</th>\n",
       "      <th></th>\n",
       "      <th></th>\n",
       "    </tr>\n",
       "  </thead>\n",
       "  <tbody>\n",
       "    <tr>\n",
       "      <th>2020-11-10 19:15:00</th>\n",
       "      <td>-25.000723</td>\n",
       "      <td>-25.000725</td>\n",
       "    </tr>\n",
       "    <tr>\n",
       "      <th>2020-11-10 19:16:00</th>\n",
       "      <td>-24.996342</td>\n",
       "      <td>-24.996342</td>\n",
       "    </tr>\n",
       "  </tbody>\n",
       "</table>\n",
       "</div>"
      ],
      "text/plain": [
       "                       NOX_HMI     CO_HMI\n",
       "Timestamp                                \n",
       "2020-11-10 19:15:00 -25.000723 -25.000725\n",
       "2020-11-10 19:16:00 -24.996342 -24.996342"
      ]
     },
     "execution_count": 44,
     "metadata": {},
     "output_type": "execute_result"
    }
   ],
   "source": [
    "test_y.iloc[0:2]"
   ]
  },
  {
   "cell_type": "code",
   "execution_count": 45,
   "id": "2e9ba377",
   "metadata": {},
   "outputs": [
    {
     "data": {
      "text/plain": [
       "array([[-25.003307, -24.999462],\n",
       "       [-25.003307, -24.999462]], dtype=float32)"
      ]
     },
     "execution_count": 45,
     "metadata": {},
     "output_type": "execute_result"
    }
   ],
   "source": [
    "predictions[0:2]"
   ]
  },
  {
   "cell_type": "code",
   "execution_count": 46,
   "id": "30457eeb",
   "metadata": {},
   "outputs": [
    {
     "data": {
      "text/plain": [
       "array([-24.999462 , -24.999462 , -24.999462 , ...,   6.583184 ,\n",
       "         5.1363654,   7.650463 ], dtype=float32)"
      ]
     },
     "execution_count": 46,
     "metadata": {},
     "output_type": "execute_result"
    }
   ],
   "source": [
    "predictions[:,1]"
   ]
  },
  {
   "cell_type": "code",
   "execution_count": 47,
   "id": "2026d36f",
   "metadata": {},
   "outputs": [
    {
     "name": "stdout",
     "output_type": "stream",
     "text": [
      "Root_mean_squared_error_test set_CO_HMI 5.469501988763151\n",
      "R2 Score_test set_CO_HMI 0.8833996318947388\n"
     ]
    }
   ],
   "source": [
    "print('Root_mean_squared_error_test set_CO_HMI',math.sqrt(mean_squared_error(test_y['CO_HMI'],predictions[:,1])))\n",
    "print('R2 Score_test set_CO_HMI',r2_score(test_y['CO_HMI'],predictions[:,1]))"
   ]
  },
  {
   "cell_type": "code",
   "execution_count": 48,
   "id": "35a4b11b",
   "metadata": {},
   "outputs": [
    {
     "name": "stdout",
     "output_type": "stream",
     "text": [
      "Root_mean_squared_error_test set_NOX 3.0489351088192436\n",
      "R2 Score_test set_NOX 0.9826639673759708\n"
     ]
    }
   ],
   "source": [
    "print('Root_mean_squared_error_test set_NOX',math.sqrt(mean_squared_error(test_y['NOX_HMI'],predictions[:,0])))\n",
    "print('R2 Score_test set_NOX',r2_score(test_y['NOX_HMI'],predictions[:,0]))"
   ]
  },
  {
   "cell_type": "code",
   "execution_count": 65,
   "id": "9a89213e",
   "metadata": {},
   "outputs": [],
   "source": [
    "CO_NO_predictions=pd.DataFrame({'CO_HMI_real':test_y['CO_HMI'],'CO_HMI_predicted':predictions[:,1],'NOX_HMI_real':test_y['NOX_HMI'],'NOX_HMI_predicted':predictions[:,0]})"
   ]
  },
  {
   "cell_type": "code",
   "execution_count": 66,
   "id": "c4e68213",
   "metadata": {},
   "outputs": [
    {
     "data": {
      "text/plain": [
       "(19903, 4)"
      ]
     },
     "execution_count": 66,
     "metadata": {},
     "output_type": "execute_result"
    }
   ],
   "source": [
    "CO_NO_predictions.shape"
   ]
  },
  {
   "cell_type": "code",
   "execution_count": 68,
   "id": "f5b9783e",
   "metadata": {},
   "outputs": [
    {
     "data": {
      "text/html": [
       "<div>\n",
       "<style scoped>\n",
       "    .dataframe tbody tr th:only-of-type {\n",
       "        vertical-align: middle;\n",
       "    }\n",
       "\n",
       "    .dataframe tbody tr th {\n",
       "        vertical-align: top;\n",
       "    }\n",
       "\n",
       "    .dataframe thead th {\n",
       "        text-align: right;\n",
       "    }\n",
       "</style>\n",
       "<table border=\"1\" class=\"dataframe\">\n",
       "  <thead>\n",
       "    <tr style=\"text-align: right;\">\n",
       "      <th></th>\n",
       "      <th>CO_HMI_real</th>\n",
       "      <th>CO_HMI_predicted</th>\n",
       "      <th>NOX_HMI_real</th>\n",
       "      <th>NOX_HMI_predicted</th>\n",
       "    </tr>\n",
       "    <tr>\n",
       "      <th>Timestamp</th>\n",
       "      <th></th>\n",
       "      <th></th>\n",
       "      <th></th>\n",
       "      <th></th>\n",
       "    </tr>\n",
       "  </thead>\n",
       "  <tbody>\n",
       "    <tr>\n",
       "      <th>2020-01-12 12:26:00</th>\n",
       "      <td>3.973013</td>\n",
       "      <td>6.772716</td>\n",
       "      <td>27.391798</td>\n",
       "      <td>25.688797</td>\n",
       "    </tr>\n",
       "    <tr>\n",
       "      <th>2020-01-12 12:27:00</th>\n",
       "      <td>4.065174</td>\n",
       "      <td>7.039096</td>\n",
       "      <td>27.278019</td>\n",
       "      <td>25.728130</td>\n",
       "    </tr>\n",
       "    <tr>\n",
       "      <th>2020-01-12 12:28:00</th>\n",
       "      <td>3.973126</td>\n",
       "      <td>6.583184</td>\n",
       "      <td>26.944965</td>\n",
       "      <td>25.688797</td>\n",
       "    </tr>\n",
       "    <tr>\n",
       "      <th>2020-01-12 12:29:00</th>\n",
       "      <td>3.938121</td>\n",
       "      <td>5.136365</td>\n",
       "      <td>27.326286</td>\n",
       "      <td>25.688797</td>\n",
       "    </tr>\n",
       "    <tr>\n",
       "      <th>2020-01-12 12:30:00</th>\n",
       "      <td>3.929481</td>\n",
       "      <td>7.650463</td>\n",
       "      <td>27.067863</td>\n",
       "      <td>25.688797</td>\n",
       "    </tr>\n",
       "  </tbody>\n",
       "</table>\n",
       "</div>"
      ],
      "text/plain": [
       "                     CO_HMI_real  CO_HMI_predicted  NOX_HMI_real  \\\n",
       "Timestamp                                                          \n",
       "2020-01-12 12:26:00     3.973013          6.772716     27.391798   \n",
       "2020-01-12 12:27:00     4.065174          7.039096     27.278019   \n",
       "2020-01-12 12:28:00     3.973126          6.583184     26.944965   \n",
       "2020-01-12 12:29:00     3.938121          5.136365     27.326286   \n",
       "2020-01-12 12:30:00     3.929481          7.650463     27.067863   \n",
       "\n",
       "                     NOX_HMI_predicted  \n",
       "Timestamp                               \n",
       "2020-01-12 12:26:00          25.688797  \n",
       "2020-01-12 12:27:00          25.728130  \n",
       "2020-01-12 12:28:00          25.688797  \n",
       "2020-01-12 12:29:00          25.688797  \n",
       "2020-01-12 12:30:00          25.688797  "
      ]
     },
     "execution_count": 68,
     "metadata": {},
     "output_type": "execute_result"
    }
   ],
   "source": [
    "CO_NO_predictions.tail()"
   ]
  },
  {
   "cell_type": "code",
   "execution_count": 73,
   "id": "567a2f4d",
   "metadata": {},
   "outputs": [
    {
     "data": {
      "text/plain": [
       "<AxesSubplot:xlabel='Timestamp'>"
      ]
     },
     "execution_count": 73,
     "metadata": {},
     "output_type": "execute_result"
    },
    {
     "data": {
      "image/png": "[encoded data removed]",
      "text/plain": [
       "<Figure size 864x432 with 1 Axes>"
      ]
     },
     "metadata": {
      "needs_background": "light"
     },
     "output_type": "display_data"
    }
   ],
   "source": [
    "CO_NO_predictions.plot(figsize=(12,6))"
   ]
  },
  {
   "cell_type": "code",
   "execution_count": null,
   "id": "335b1f67",
   "metadata": {},
   "outputs": [],
   "source": [
    "plt.figure(2)\n",
    "plt.plot(y)\n",
    "plt.plot(y_pred_full)\n",
    "plt.grid(True)"
   ]
  },
  {
   "cell_type": "code",
   "execution_count": 76,
   "id": "d3d2d044",
   "metadata": {},
   "outputs": [
    {
     "data": {
      "image/png": "[encoded data removed]",
      "text/plain": [
       "<Figure size 864x360 with 1 Axes>"
      ]
     },
     "metadata": {
      "needs_background": "light"
     },
     "output_type": "display_data"
    }
   ],
   "source": [
    "plt.figure(figsize=(12,5))\n",
    "plt.plot(CO_NO_predictions['CO_HMI_real'], label='CO_Real')\n",
    "plt.plot(CO_NO_predictions['CO_HMI_predicted'], label='CO_Predicted')\n",
    "plt.legend()\n",
    "plt.show()"
   ]
  },
  {
   "cell_type": "code",
   "execution_count": 77,
   "id": "eb5cc1ec",
   "metadata": {},
   "outputs": [
    {
     "data": {
      "image/png": "[encoded data removed]",
      "text/plain": [
       "<Figure size 864x360 with 1 Axes>"
      ]
     },
     "metadata": {
      "needs_background": "light"
     },
     "output_type": "display_data"
    }
   ],
   "source": [
    "plt.figure(figsize=(12,5))\n",
    "plt.plot(CO_NO_predictions['NOX_HMI_real'], label='NOX_Real')\n",
    "plt.plot(CO_NO_predictions['NOX_HMI_predicted'], label='NOX_Predicted')\n",
    "plt.legend()\n",
    "plt.show()"
   ]
  },
  {
   "cell_type": "code",
   "execution_count": null,
   "id": "311884f1",
   "metadata": {},
   "outputs": [],
   "source": [
    "# The performance XGB is better than Random forest"
   ]
  },
  {
   "cell_type": "markdown",
   "id": "4e190b7e",
   "metadata": {},
   "source": [
    "# Try Random Forest model"
   ]
  },
  {
   "cell_type": "code",
   "execution_count": 57,
   "id": "a78a67e1",
   "metadata": {},
   "outputs": [],
   "source": [
    "from sklearn.multioutput import MultiOutputRegressor\n",
    "from sklearn.ensemble import RandomForestRegressor"
   ]
  },
  {
   "cell_type": "code",
   "execution_count": 58,
   "id": "a861aaf4",
   "metadata": {},
   "outputs": [
    {
     "data": {
      "text/plain": [
       "MultiOutputRegressor(estimator=RandomForestRegressor(max_depth=30,\n",
       "                                                     random_state=0))"
      ]
     },
     "execution_count": 58,
     "metadata": {},
     "output_type": "execute_result"
    }
   ],
   "source": [
    "max_depth = 30\n",
    "regr_multirf = MultiOutputRegressor(RandomForestRegressor(n_estimators=100,\n",
    "                                                          max_depth=max_depth,\n",
    "                                                          random_state=0))\n",
    "regr_multirf.fit(train_X, train_y)\n"
   ]
  },
  {
   "cell_type": "code",
   "execution_count": 59,
   "id": "52b4d5a6",
   "metadata": {},
   "outputs": [],
   "source": [
    "predictions_rf=regr_multirf.predict(test_X)"
   ]
  },
  {
   "cell_type": "code",
   "execution_count": 60,
   "id": "c2832f17",
   "metadata": {},
   "outputs": [
    {
     "name": "stdout",
     "output_type": "stream",
     "text": [
      "Root_mean_squared_error_test set 4.697450438199385\n",
      "R2 Score_test set 0.9245402855610698\n"
     ]
    }
   ],
   "source": [
    "#for test set\n",
    "print('Root_mean_squared_error_test set',math.sqrt(mean_squared_error(test_y,predictions_rf)))\n",
    "print('R2 Score_test set',r2_score(test_y,predictions_rf))"
   ]
  },
  {
   "cell_type": "code",
   "execution_count": 61,
   "id": "0d9ec62e",
   "metadata": {},
   "outputs": [
    {
     "name": "stdout",
     "output_type": "stream",
     "text": [
      "Root_mean_squared_error_test set_CO_HMI 5.809976179534262\n",
      "R2 Score_test set_CO_HMI 0.8684311568839103\n",
      "Root_mean_squared_error_test set_NOX 3.2212199601895626\n",
      "R2 Score_test set_NOX 0.9806494142382293\n"
     ]
    }
   ],
   "source": [
    "print('Root_mean_squared_error_test set_CO_HMI',math.sqrt(mean_squared_error(test_y['CO_HMI'],predictions_rf[:,1])))\n",
    "print('R2 Score_test set_CO_HMI',r2_score(test_y['CO_HMI'],predictions_rf[:,1]))\n",
    "print('Root_mean_squared_error_test set_NOX',math.sqrt(mean_squared_error(test_y['NOX_HMI'],predictions_rf[:,0])))\n",
    "print('R2 Score_test set_NOX',r2_score(test_y['NOX_HMI'],predictions_rf[:,0]))\n"
   ]
  },
  {
   "cell_type": "code",
   "execution_count": null,
   "id": "2cc5210e",
   "metadata": {},
   "outputs": [],
   "source": []
  },
  {
   "cell_type": "code",
   "execution_count": null,
   "id": "94c29ed1",
   "metadata": {},
   "outputs": [],
   "source": []
  },
  {
   "cell_type": "code",
   "execution_count": null,
   "id": "70126513",
   "metadata": {},
   "outputs": [],
   "source": []
  },
  {
   "cell_type": "code",
   "execution_count": 62,
   "id": "fe14e976",
   "metadata": {},
   "outputs": [
    {
     "data": {
      "text/plain": [
       "RandomForestRegressor(max_depth=30, random_state=2)"
      ]
     },
     "execution_count": 62,
     "metadata": {},
     "output_type": "execute_result"
    }
   ],
   "source": [
    "regr_rf = RandomForestRegressor(n_estimators=100, max_depth=max_depth,\n",
    "                                random_state=2)\n",
    "regr_rf.fit(train_X, train_y)"
   ]
  },
  {
   "cell_type": "code",
   "execution_count": 63,
   "id": "6fc99d7c",
   "metadata": {},
   "outputs": [],
   "source": [
    "predictions_rf_0=regr_rf.predict(test_X)"
   ]
  },
  {
   "cell_type": "code",
   "execution_count": 64,
   "id": "0f5f842f",
   "metadata": {},
   "outputs": [
    {
     "name": "stdout",
     "output_type": "stream",
     "text": [
      "Root_mean_squared_error_test set 4.697450438199385\n",
      "R2 Score_test set 0.9245402855610698\n"
     ]
    }
   ],
   "source": [
    "#for test set\n",
    "print('Root_mean_squared_error_test set',math.sqrt(mean_squared_error(test_y,predictions_rf)))\n",
    "print('R2 Score_test set',r2_score(test_y,predictions_rf))"
   ]
  },
  {
   "cell_type": "code",
   "execution_count": null,
   "id": "563222eb",
   "metadata": {},
   "outputs": [],
   "source": []
  },
  {
   "cell_type": "code",
   "execution_count": null,
   "id": "4271235d",
   "metadata": {},
   "outputs": [],
   "source": []
  },
  {
   "cell_type": "code",
   "execution_count": null,
   "id": "ac1d237c",
   "metadata": {},
   "outputs": [],
   "source": []
  },
  {
   "cell_type": "code",
   "execution_count": null,
   "id": "493e8eee",
   "metadata": {},
   "outputs": [],
   "source": []
  },
  {
   "cell_type": "code",
   "execution_count": null,
   "id": "9618587e",
   "metadata": {},
   "outputs": [],
   "source": []
  },
  {
   "cell_type": "code",
   "execution_count": null,
   "id": "d0e61737",
   "metadata": {},
   "outputs": [],
   "source": []
  },
  {
   "cell_type": "code",
   "execution_count": null,
   "id": "62cb71c6",
   "metadata": {},
   "outputs": [],
   "source": []
  },
  {
   "cell_type": "markdown",
   "id": "fd4433a6",
   "metadata": {},
   "source": [
    "## ignore these cells "
   ]
  },
  {
   "cell_type": "code",
   "execution_count": 65,
   "id": "c874f1be",
   "metadata": {},
   "outputs": [
    {
     "name": "stdout",
     "output_type": "stream",
     "text": [
      "Root_mean_squared_error 14.843648121771793\n",
      "R2 Score 0.3055597087750733\n"
     ]
    }
   ],
   "source": [
    "# let us check # checking with old predicted values\n",
    "print('Root_mean_squared_error',math.sqrt(mean_squared_error(train_y,old_pred_tr)))\n",
    "print('R2 Score',r2_score(train_y,old_pred_tr))"
   ]
  },
  {
   "cell_type": "code",
   "execution_count": 66,
   "id": "1f424027",
   "metadata": {},
   "outputs": [
    {
     "name": "stdout",
     "output_type": "stream",
     "text": [
      "Root_mean_squared_error 17.48123910187787\n",
      "0.10091620524253303\n"
     ]
    }
   ],
   "source": [
    "print('Root_mean_squared_error',math.sqrt(mean_squared_error(test_y,old_pred_test)))\n",
    "print(r2_score(test_y,old_pred_test))"
   ]
  },
  {
   "cell_type": "code",
   "execution_count": null,
   "id": "07761e9d",
   "metadata": {},
   "outputs": [],
   "source": []
  },
  {
   "cell_type": "code",
   "execution_count": null,
   "id": "9716ce85",
   "metadata": {},
   "outputs": [],
   "source": []
  },
  {
   "cell_type": "code",
   "execution_count": null,
   "id": "19a56661",
   "metadata": {},
   "outputs": [],
   "source": [
    "#ignore the following cells"
   ]
  },
  {
   "cell_type": "code",
   "execution_count": null,
   "id": "9a13191f",
   "metadata": {},
   "outputs": [],
   "source": [
    "ax=sns.boxplot(data=df_NaNs)"
   ]
  },
  {
   "cell_type": "code",
   "execution_count": null,
   "id": "6f89fc3b",
   "metadata": {},
   "outputs": [],
   "source": [
    "sns.set_style('darkgrid')\n",
    "df.plot(kind='line',legend='reverse',title='Visualize')\n",
    "plt.legend(loc='upper right',shadow=True,bbox_to_anchor=(1.35,1.0))\n",
    "plt.show"
   ]
  },
  {
   "cell_type": "code",
   "execution_count": null,
   "id": "ac2ac0db",
   "metadata": {},
   "outputs": [],
   "source": [
    "\n"
   ]
  },
  {
   "cell_type": "code",
   "execution_count": null,
   "id": "3366293d",
   "metadata": {},
   "outputs": [],
   "source": []
  },
  {
   "cell_type": "code",
   "execution_count": null,
   "id": "abe26a86",
   "metadata": {},
   "outputs": [],
   "source": []
  },
  {
   "cell_type": "code",
   "execution_count": null,
   "id": "be1c2c67",
   "metadata": {},
   "outputs": [],
   "source": []
  }
 ],
 "metadata": {
  "kernelspec": {
   "display_name": "Python 3 (ipykernel)",
   "language": "python",
   "name": "python3"
  },
  "language_info": {
   "codemirror_mode": {
    "name": "ipython",
    "version": 3
   },
   "file_extension": ".py",
   "mimetype": "text/x-python",
   "name": "python",
   "nbconvert_exporter": "python",
   "pygments_lexer": "ipython3",
   "version": "3.8.10"
  },
  "varInspector": {
   "cols": {
    "lenName": 16,
    "lenType": 16,
    "lenVar": 40
   },
   "kernels_config": {
    "python": {
     "delete_cmd_postfix": "",
     "delete_cmd_prefix": "del ",
     "library": "var_list.py",
     "varRefreshCmd": "print(var_dic_list())"
    },
    "r": {
     "delete_cmd_postfix": ") ",
     "delete_cmd_prefix": "rm(",
     "library": "var_list.r",
     "varRefreshCmd": "cat(var_dic_list()) "
    }
   },
   "types_to_exclude": [
    "module",
    "function",
    "builtin_function_or_method",
    "instance",
    "_Feature"
   ],
   "window_display": false
  }
 },
 "nbformat": 4,
 "nbformat_minor": 5
}
